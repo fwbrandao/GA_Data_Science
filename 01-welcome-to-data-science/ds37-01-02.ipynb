{
 "cells": [
  {
   "cell_type": "markdown",
   "metadata": {
    "colab_type": "text",
    "id": "88tCXKMAp2FX"
   },
   "source": [
    "# DS37-01-02: Python Practise\n",
    "---"
   ]
  },
  {
   "cell_type": "markdown",
   "metadata": {
    "colab_type": "text",
    "id": "3NyAoZKZp2FZ"
   },
   "source": [
    "<a id=\"learning-objectives\"></a>\n",
    "## Learning Objectives\n",
    "*After completing this notebook, you will be able to:*\n",
    "\n",
    "- Perform list and string indexing operations\n",
    "- Import and use libraries"
   ]
  },
  {
   "cell_type": "markdown",
   "metadata": {},
   "source": [
    "---\n",
    "\n",
    "## <font color='red'> List and string indexing\n",
    "\n",
    "Given the list below, perform list and/or string operations to replicate the following results. You might need to use list and string indexing, string concatenation (adding strings together), and some other string functions we encountered in Session 01. Pay close attention to upper and lowercase!\n",
    "\n",
    "\n",
    "* ``the quick brown fox``\n",
    "\n",
    "\n",
    "* ``a QUICK BROWN FOX``\n",
    "\n",
    "\n",
    "* ``[3,5,7,9]``\n",
    "\n",
    "\n",
    "* ``['pete','bob','sarah']``\n",
    "\n",
    "\n",
    "* ``etep``\n",
    "\n"
   ]
  },
  {
   "cell_type": "code",
   "execution_count": null,
   "metadata": {},
   "outputs": [],
   "source": [
    "my_list = ['a','banana',3,True,5,6,7,8,9,['sarah','bob','pete'],'the quick brown fox jumped over the lazy dog']\n"
   ]
  },
  {
   "cell_type": "markdown",
   "metadata": {},
   "source": [
    "---"
   ]
  },
  {
   "cell_type": "markdown",
   "metadata": {},
   "source": [
    "\n",
    "## <font color='red'> Importing and using libraries\n",
    "\n",
    "Pandas is a library we'll be using throughout this course- it's widely used for data manipulating, cleaning, and exploratory data analysis.\n",
    "\n",
    "We'll cover its basic functions in much more detail in the coming weeks, but let's use Pandas as an example in learning how to import libraries.\n",
    "\n",
    "Using your Google and/or Stackoverflow skills, find the standard short name we use to import Pandas, then fill in the gaps in the cell below to import it."
   ]
  },
  {
   "cell_type": "code",
   "execution_count": null,
   "metadata": {},
   "outputs": [],
   "source": [
    "import pandas as #FILL IN THE GAP HERE"
   ]
  },
  {
   "cell_type": "markdown",
   "metadata": {},
   "source": [
    "Pandas makes it very easy to read in data files- including CSVs and Excel files. \n",
    "\n",
    "Can you use the documentation (https://pandas.pydata.org/pandas-docs/stable/reference/api/pandas.read_csv.html) for the Pandas ``read_csv`` function to figure out how to read in our US Presidential Election Dataset? \n",
    "\n"
   ]
  },
  {
   "cell_type": "code",
   "execution_count": null,
   "metadata": {},
   "outputs": [],
   "source": [
    "election_dataset = pd. # FILL IN THE GAPS HERE TO READ IN OUR DATASET"
   ]
  },
  {
   "cell_type": "markdown",
   "metadata": {},
   "source": [
    "Now let's use the ``head`` command to preview the first 5 rows of our dataset."
   ]
  },
  {
   "cell_type": "code",
   "execution_count": null,
   "metadata": {},
   "outputs": [],
   "source": [
    "election_dataset.head()"
   ]
  },
  {
   "cell_type": "markdown",
   "metadata": {},
   "source": [
    "Can you use the documentation for the ``head`` command (https://pandas.pydata.org/pandas-docs/stable/reference/api/pandas.DataFrame.head.html) to figure out how to preview:\n",
    "\n",
    "* The first 10 rows of the dataset\n",
    "* The last 5 rows of the dataset"
   ]
  },
  {
   "cell_type": "markdown",
   "metadata": {},
   "source": [
    "Let's check the type of this variable we've just created called ``election_dataset``. We see it's something called a 'DataFrame'. \n",
    "\n",
    "This is one of the most important types we'll be working with in this course; think of it as the Python equivalent of a table."
   ]
  },
  {
   "cell_type": "code",
   "execution_count": null,
   "metadata": {},
   "outputs": [],
   "source": [
    "type(election_dataset)"
   ]
  }
 ],
 "metadata": {
  "colab": {
   "name": "intro_to_python.ipynb",
   "provenance": []
  },
  "kernelspec": {
   "display_name": "Python 3",
   "language": "python",
   "name": "python3"
  },
  "language_info": {
   "codemirror_mode": {
    "name": "ipython",
    "version": 3
   },
   "file_extension": ".py",
   "mimetype": "text/x-python",
   "name": "python",
   "nbconvert_exporter": "python",
   "pygments_lexer": "ipython3",
   "version": "3.7.4"
  }
 },
 "nbformat": 4,
 "nbformat_minor": 1
}
