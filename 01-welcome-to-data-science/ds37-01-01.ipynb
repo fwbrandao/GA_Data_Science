{
 "cells": [
  {
   "cell_type": "markdown",
   "metadata": {
    "colab_type": "text",
    "id": "88tCXKMAp2FX"
   },
   "source": [
    "# DS37-01-01: Python Fundamentals I\n",
    "---"
   ]
  },
  {
   "cell_type": "markdown",
   "metadata": {
    "colab_type": "text",
    "id": "3NyAoZKZp2FZ"
   },
   "source": [
    "<a id=\"learning-objectives\"></a>\n",
    "## Learning Objectives\n",
    "*After completing this notebook, you will be able to:*\n",
    "\n",
    "- Use Jupyter Notebook\n",
    "- Understand why Python is well suited to data science and mathematical finance\n",
    "- Perform simple operations with integers, strings, floats, lists and dictionaries in Python\n",
    "- Import libraries"
   ]
  },
  {
   "cell_type": "markdown",
   "metadata": {
    "colab_type": "text",
    "id": "wzq3TuChp2Fa"
   },
   "source": [
    "## Contents:\n",
    "* [Learning to use Jupyter](#jupyter)\n",
    "* [Your first Python code](#helloworld)\n",
    "* [Types in Python](#types)\n",
    "* [Variables](#variables)\n",
    "* [Strings](#strings)\n",
    "* [Lists](#lists)\n",
    "* [Dictionaries](#dictionaries)\n",
    "* [Libraries](#libraries)"
   ]
  },
  {
   "cell_type": "markdown",
   "metadata": {
    "colab_type": "text",
    "id": "Cqr_LyJ-p2Fb"
   },
   "source": [
    "---\n",
    "\n",
    "<a id=\"jupyter\"></a>\n",
    "# <font color='blue'> Learning to use Jupyter Notebook\n",
    "\n",
    "### What's an IDE?\n",
    "\n",
    "We've downloaded Python. What does that actually mean? What exactly have we just installed on our machines? \n",
    "\n",
    "When we download and install Python, we download the Python interpreter- that is, a program that can take lines of code written in Python and translate them down to machine code and show us the results. That's great! But we need somewhere to feed lines of Python code to that interpreter, or in other words we need somewhere to write, test, and run our code and view the results or output. That's what an IDE or interactive development environment is for. \n",
    "\n",
    "An IDE is anywhere that you can write and run code, and see the results. There are lots of different IDEs available- some can be used to run code in many different programming languages (like Microsoft Visual Studio Code) and some can only handle one language (like pyCharm). \n",
    "\n",
    "Let's take a quick tour of a few different, commonly used, Python IDEs.\n",
    "\n",
    "**The command line**\n",
    "\n",
    "Typing ```python``` into the command line will launch Python in your Terminal window. You can then type Python commands, run them, and see the results. \n",
    "\n",
    "<img src=\"img/command_line.png\" width='500' />\n",
    "\n",
    "This is a quick and easy way of running code, but not well suited to writing longer blocks of code (we call these 'scripts') or saving the results. \n",
    "\n",
    "**Text editors**\n",
    "\n",
    "You can write Python script in any text editor (Notepad, Atom, Sublime) and as long as you save it with a .py extension, it can be run from the command line.\n",
    "\n",
    "<img src=\"img/atom.png\" width='500'/>\n",
    "\n",
    "<img src=\"img/run_atom.png\" width='500'/>\n",
    "\n",
    "**pyCharm**\n",
    "\n",
    "pyCharm is a powerful IDE with lots of features to make writing, running and testing code easier. \n",
    "\n",
    "<img src=\"img/pycharm.png\" width='500'/>\n",
    "\n",
    "**Jupyter**\n",
    "\n",
    "Jupyter notebook is just another example of an IDE, or interactive development environment. It has some neat features that make it particularly well suited to writing and running readable, shareable, nicely formatted code.\n",
    "\n",
    "**Text Editors**\n",
    "\n",
    "In addition to IDEs, developers also use text editors to create or edit code and files. Text editors or more commonly used for files that are executed via the command line, as well as for software and website development.  \n",
    "\n",
    "Some common text editors that you may see or use include\n",
    "- [Sublime](https://www.sublimetext.com/)\n",
    "- [Atom](https://atom.io/)\n",
    "- [Notepad++](https://notepad-plus-plus.org/) (Windows)\n",
    "- [Vim](http://www.vim.org/)\n",
    "\n",
    "\n",
    "### What is Jupyter?\n",
    "\n",
    "The Jupyter Notebook (previously known as IPython) is an IDE that launches in your web browser but runs locally on your machine. \n",
    "\n",
    "It allows you to create and share documents that contain live code, equations, visualizations and explanatory text. Jupyter Notebooks have the .ipynb extension, although it is possible to export them as .py files, or even .html or .pdf files for easy sharing and presentation. \n",
    "\n",
    "There are a number of advantages of using a Jupyter notebook. It's interactive, easy to share and document results, and because equations/notes/graphs can be embedded in a notebook it's easy for other people to understand what you've done and why you've done it- which is incredibly important when checking, sharing, and reviewing results. Jupyter is also an IDE that can run many different programming languages (sometimes they're called kernels) from R to JavaScript, so it's versatile too. \n",
    "\n",
    "Many researchers (and large companies including Netflix: https://medium.com/netflix-techblog/notebook-innovation-591ee3221233) have become reliant on Jupyter notebooks to explain their results. Readers can reproduce those results and modify to create different output in order to facilitate the learning process.\n",
    "\n",
    "### Using Jupyter\n",
    "\n",
    "**Launching** Jupyter is usually launched from the command line using the command ```jupyter notebook```. It runs in your web browser, but doesn't require an internet connection to work- remember, Python and the IDE are both running locally in your machine, your browser is just a convenient user interface. \n",
    "\n",
    "A new notebook can be launched by selecting New, followed by Python 3. \n",
    "\n",
    "<img src=\"img/launch_notebook.png\" width='500'/>\n",
    "\n",
    "**Cells** Cells are the building blocks of Jupyter notebooks, and can contain different types of content from code, to markdown (nicely formatted text, like this cell) to LaTeX (for writing mathematical formulae) and embedded images. During this seminar we'll be using mostly code cells (to write and run our code) and markdown cells. \n",
    "\n",
    "New cells are inserted by selecting Insert, followed by Insert Cell Above or Insert Cell Below. The dropdown menu allows us to switch between Markdown cells and Code cells. \n",
    "\n",
    "**Running cells** Cells run one after the other. You can run cells by pressing Shift + Enter. The output from a code cell (if there is any) will appear below the cell. \n",
    "\n",
    "**Stopping cells running** If you'd like to stop a cell running (maybe you've accidentally written some code that runs in an infinite loop) you can use \n",
    "\n",
    "**Saving your work** Jupyter will autosave your work once every couple of minutes, but if you've just completed a very critical piece of code, it's best to save manually as well. \n",
    "\n",
    "**Shortcuts** Jupyter has plenty of shortcuts to save time:\n",
    "\n",
    "``Shift + Enter``: Run current cell\n",
    "\n",
    "``Esc+M``: Convert current cell to markdown\n",
    "\n",
    "``Esc+Y``: Convert current cell to code \n",
    "\n",
    "``Esc + A``: Insert new cell above current cell\n",
    "\n",
    "``Esc + B``: Insert new cell below current cell\n",
    "\n",
    "``Esc + H``: Show shortcuts menu"
   ]
  },
  {
   "cell_type": "markdown",
   "metadata": {
    "colab_type": "text",
    "id": "8vkOoZxBp2Fd"
   },
   "source": [
    "---\n",
    "\n",
    "<a id=\"helloworld\"></a>\n",
    "# <font color='blue'> Your first Python code"
   ]
  },
  {
   "cell_type": "markdown",
   "metadata": {
    "colab_type": "text",
    "id": "c6pMo2OYp2Fe"
   },
   "source": [
    "### Hello World!\n",
    "\n",
    "It is customary to be introduced to any new programming language by writing a line of code that prints the phrase 'hello world'."
   ]
  },
  {
   "cell_type": "code",
   "execution_count": null,
   "metadata": {
    "colab": {
     "base_uri": "https://localhost:8080/",
     "height": 34
    },
    "colab_type": "code",
    "executionInfo": {
     "elapsed": 614,
     "status": "ok",
     "timestamp": 1576767302845,
     "user": {
      "displayName": "Maryam Ahmed",
      "photoUrl": "",
      "userId": "15180292484758534831"
     },
     "user_tz": 0
    },
    "id": "iB9zg6wzp2Fe",
    "outputId": "16186dfa-c8d6-48fb-8eb3-43b040bf97cd"
   },
   "outputs": [],
   "source": [
    "print('hello world')"
   ]
  },
  {
   "cell_type": "code",
   "execution_count": null,
   "metadata": {
    "colab": {
     "base_uri": "https://localhost:8080/",
     "height": 34
    },
    "colab_type": "code",
    "executionInfo": {
     "elapsed": 465,
     "status": "ok",
     "timestamp": 1576767304975,
     "user": {
      "displayName": "Maryam Ahmed",
      "photoUrl": "",
      "userId": "15180292484758534831"
     },
     "user_tz": 0
    },
    "id": "T51Xtnc0p2Fi",
    "outputId": "97653efa-3c7e-4e3f-a071-fda25f631b20"
   },
   "outputs": [],
   "source": [
    "print(\"hello again\")"
   ]
  },
  {
   "cell_type": "markdown",
   "metadata": {
    "colab_type": "text",
    "id": "QyZuzHsap2Fk"
   },
   "source": [
    "Let's think about what's happening here.\n",
    "\n",
    "We're running (or calling) Python's built in 'print' function. We'll learn more about functions in programming later on, but for now we should just bear in mind that a Python function is very similar to a mathematical function- it takes a user defined input (or argument), does something with it, and gives us an output.\n",
    "\n",
    "Our input in this case is 'hello world' and the output is the 'hello world' message that gets printed out. This might not seem like the most useful function, but later on we'll use it to print out the results of calculations and more complex functions.\n",
    "\n",
    "Note that single quotes and double quotes are the same. Python is one of a few programming languages where ' ' and \" \" have the same functionality. A general rule of thumb is to choose one and stick with it."
   ]
  },
  {
   "cell_type": "markdown",
   "metadata": {},
   "source": [
    "---\n",
    "\n",
    "<a id=\"3\"></a>\n",
    "\n",
    "# <font color='blue'> Types in Python\n",
    "\n",
    "It's also good to briefly note that the 'type' of our input is a string (in programming, a string is a sequence of alphanumeric characters)\n",
    "\n",
    "Different types of data (numbers, decimal numbers, strings of text, lists- more on those later) are treated differently by Python. This makes sense, because there are some operations or calculations that it makes sense to perform on numbers (e.g. division, multiplication) that would be nonsensical to try and perform on a piece of text, and vice versa.\n",
    "\n",
    "Python has many different **types**, i.e. it can handle lots of different kinds of data, from numbers to text to data tables. \n",
    "\n",
    "We can always check the type of something in our code using Python's built-in 'type' function."
   ]
  },
  {
   "cell_type": "code",
   "execution_count": null,
   "metadata": {
    "colab": {
     "base_uri": "https://localhost:8080/",
     "height": 34
    },
    "colab_type": "code",
    "executionInfo": {
     "elapsed": 555,
     "status": "ok",
     "timestamp": 1576767308804,
     "user": {
      "displayName": "Maryam Ahmed",
      "photoUrl": "",
      "userId": "15180292484758534831"
     },
     "user_tz": 0
    },
    "id": "z_1EpdKEp2Fk",
    "outputId": "eb9896f2-f02d-4064-b9df-cefed8473e0f"
   },
   "outputs": [],
   "source": [
    "type('hello world')"
   ]
  },
  {
   "cell_type": "code",
   "execution_count": null,
   "metadata": {
    "colab": {},
    "colab_type": "code",
    "id": "yALaFPOWp2Fp",
    "outputId": "0a28e92d-e9ff-476f-da9a-0f3f2560b5f3"
   },
   "outputs": [],
   "source": [
    "type(35)"
   ]
  },
  {
   "cell_type": "code",
   "execution_count": null,
   "metadata": {
    "colab": {},
    "colab_type": "code",
    "id": "1j3hFwQup2Fr",
    "outputId": "ffb7665a-dd6f-4c3d-f709-055891c23f74"
   },
   "outputs": [],
   "source": [
    "type(4.9)"
   ]
  },
  {
   "cell_type": "code",
   "execution_count": null,
   "metadata": {},
   "outputs": [],
   "source": [
    "type([1,2,3,4,5])"
   ]
  },
  {
   "cell_type": "markdown",
   "metadata": {},
   "source": [
    "---\n",
    "\n",
    "## <font color='red'> Now you try\n",
    "\n",
    "Take a look at the Python commands below. For each command, **before you run the cell** discuss with someone sitting next to you:\n",
    "\n",
    "* What the input to the command is\n",
    "* What the output will look like \n",
    "* What the command is doing\n",
    "\n",
    "The clue is often in the name of the command; don't overthink this exercise!\n",
    "\n",
    "**It's always helpful to think of Python commands as having an input and an output; this helps us understand what's going on**\n"
   ]
  },
  {
   "cell_type": "code",
   "execution_count": null,
   "metadata": {},
   "outputs": [],
   "source": [
    "'CAPS LOCK MAKES IT SEEM LIKE IM SHOUTING'.lower()"
   ]
  },
  {
   "cell_type": "code",
   "execution_count": null,
   "metadata": {},
   "outputs": [],
   "source": [
    "max([3,5,2,8])"
   ]
  },
  {
   "cell_type": "markdown",
   "metadata": {},
   "source": [
    "---"
   ]
  },
  {
   "cell_type": "markdown",
   "metadata": {
    "colab_type": "text",
    "id": "fByx1qBRp2Fw"
   },
   "source": [
    "### A comment on comments\n",
    "\n",
    "Comments are lines of code that aren't executed by the Python interpreter. They're explanatory notes written by programmers, to explain what the code does and why it does it. Commenting your code is incredibly important for readable code- if you don't do this, you run the risk of forgetting what your own code actually does, or annoying your teammates by sending them hard to read, uncommented code. \n",
    "\n",
    "Comments follow the '#' symbol."
   ]
  },
  {
   "cell_type": "code",
   "execution_count": null,
   "metadata": {
    "colab": {},
    "colab_type": "code",
    "id": "OaBWwrEXp2Fx",
    "outputId": "43a10bdc-f54c-4eaf-a850-4a8491bff243"
   },
   "outputs": [],
   "source": [
    "# comments can be on their own line\n",
    "print('testing...')"
   ]
  },
  {
   "cell_type": "code",
   "execution_count": null,
   "metadata": {
    "colab": {},
    "colab_type": "code",
    "id": "hjd3SIUap2Fz"
   },
   "outputs": [],
   "source": [
    "print('testing testing') # or they can be on the same line as your code"
   ]
  },
  {
   "cell_type": "code",
   "execution_count": null,
   "metadata": {
    "colab": {},
    "colab_type": "code",
    "id": "bOO7Qjjjp2F0"
   },
   "outputs": [],
   "source": [
    "\"\"\"\n",
    "we can also use triple quote marks\n",
    "to write comments spread across\n",
    "multiple lines\n",
    "\"\"\"\n",
    "print('hello')"
   ]
  },
  {
   "cell_type": "markdown",
   "metadata": {
    "colab_type": "text",
    "id": "Gknul7TDp2F2"
   },
   "source": [
    "You should comment your code as much as you need. When I first began programming, I wrote around one line of comment for every line of code- maybe this was a bit too much, but it helped me understand what I was doing."
   ]
  },
  {
   "cell_type": "markdown",
   "metadata": {
    "colab_type": "text",
    "id": "zcaBi725p2F3"
   },
   "source": [
    "---\n",
    "<a id=\"numbers\"></a>\n",
    "\n",
    "# <font color='blue'> Working with numbers"
   ]
  },
  {
   "cell_type": "markdown",
   "metadata": {
    "colab_type": "text",
    "id": "p4Oli3mKp2HE"
   },
   "source": [
    "###  Ints and Floats"
   ]
  },
  {
   "cell_type": "markdown",
   "metadata": {
    "colab_type": "text",
    "id": "BFP5RC3Jp2HE"
   },
   "source": [
    "Integers in Python (numbers without a decimal point) have the type `int`, whereas numbers with a decimal point have the type `float` (short for 'floating point')."
   ]
  },
  {
   "cell_type": "code",
   "execution_count": null,
   "metadata": {
    "colab": {},
    "colab_type": "code",
    "id": "7vCRSfezp2HF"
   },
   "outputs": [],
   "source": [
    "x=3; type(x)"
   ]
  },
  {
   "cell_type": "code",
   "execution_count": null,
   "metadata": {
    "colab": {},
    "colab_type": "code",
    "id": "7G977Wf7p2HH"
   },
   "outputs": [],
   "source": [
    "x=3.0; type(x)"
   ]
  },
  {
   "cell_type": "markdown",
   "metadata": {
    "colab_type": "text",
    "id": "sAduwh3Kp2HI"
   },
   "source": [
    "We can round numbers using the 'round' function, either to a whole number..."
   ]
  },
  {
   "cell_type": "code",
   "execution_count": null,
   "metadata": {
    "colab": {},
    "colab_type": "code",
    "id": "T28AFFcWp2HI"
   },
   "outputs": [],
   "source": [
    "round(3.4)"
   ]
  },
  {
   "cell_type": "code",
   "execution_count": null,
   "metadata": {
    "colab": {},
    "colab_type": "code",
    "id": "9TdPGKcHp2HK"
   },
   "outputs": [],
   "source": [
    "round(3.9)"
   ]
  },
  {
   "cell_type": "markdown",
   "metadata": {
    "colab_type": "text",
    "id": "Z7yz7YYcp2HL"
   },
   "source": [
    "Or to a given number of decimal places (in this case, 6 decimal places)"
   ]
  },
  {
   "cell_type": "code",
   "execution_count": null,
   "metadata": {
    "colab": {},
    "colab_type": "code",
    "id": "V2Df4E_Ep2HL"
   },
   "outputs": [],
   "source": [
    "round(3.2399817,6) # 2 parameter function"
   ]
  },
  {
   "cell_type": "markdown",
   "metadata": {
    "colab_type": "text",
    "id": "6terzDWSp2HR"
   },
   "source": [
    "### Converting between numerical types "
   ]
  },
  {
   "cell_type": "markdown",
   "metadata": {
    "colab_type": "text",
    "id": "BgxicQRep2HR"
   },
   "source": [
    "We can convert between integers and floats using the 'int' and 'float' functions."
   ]
  },
  {
   "cell_type": "code",
   "execution_count": null,
   "metadata": {
    "colab": {},
    "colab_type": "code",
    "id": "-u2h1ZAOp2HS"
   },
   "outputs": [],
   "source": [
    "float(3)"
   ]
  },
  {
   "cell_type": "code",
   "execution_count": null,
   "metadata": {
    "colab": {},
    "colab_type": "code",
    "id": "YZ_ycpEip2HT"
   },
   "outputs": [],
   "source": [
    "int(5.5)"
   ]
  },
  {
   "cell_type": "markdown",
   "metadata": {
    "colab_type": "text",
    "id": "a5_EP1Drp2HV"
   },
   "source": [
    "We can also convert ints and floats to strings."
   ]
  },
  {
   "cell_type": "code",
   "execution_count": null,
   "metadata": {
    "colab": {},
    "colab_type": "code",
    "id": "LdTWoDTNp2HV"
   },
   "outputs": [],
   "source": [
    "str(6)"
   ]
  },
  {
   "cell_type": "markdown",
   "metadata": {},
   "source": [
    "### Performing calculations"
   ]
  },
  {
   "cell_type": "code",
   "execution_count": null,
   "metadata": {
    "colab": {},
    "colab_type": "code",
    "id": "Sk0aNdUap2F3",
    "outputId": "fb609bf1-e712-4ff3-9e7c-fe260cba4a38"
   },
   "outputs": [],
   "source": [
    "3+2 # sum two numbers"
   ]
  },
  {
   "cell_type": "code",
   "execution_count": null,
   "metadata": {
    "colab": {},
    "colab_type": "code",
    "id": "qdwbeOsLp2F5",
    "outputId": "ef05172d-f76b-44c6-ebc3-6598be349dff"
   },
   "outputs": [],
   "source": [
    "2-1"
   ]
  },
  {
   "cell_type": "code",
   "execution_count": null,
   "metadata": {
    "colab": {},
    "colab_type": "code",
    "id": "uIQjc6rpp2F7",
    "outputId": "a1914aee-8eb1-47d0-c384-2939435fd598"
   },
   "outputs": [],
   "source": [
    "8**3 # raise one number to the power of another"
   ]
  },
  {
   "cell_type": "code",
   "execution_count": null,
   "metadata": {
    "colab": {},
    "colab_type": "code",
    "id": "r8dktcsQp2F8",
    "outputId": "2644a0dd-67a8-4aeb-d510-ca5b9506dfb2"
   },
   "outputs": [],
   "source": [
    "4*3"
   ]
  },
  {
   "cell_type": "markdown",
   "metadata": {
    "colab_type": "text",
    "id": "8Aa5y2ybp2F-"
   },
   "source": [
    "Note that 8 ** 3 is legal/allowed, but 8 * * 3 is not. Whitespace around an operator doesn't matter. Spaces within the operator do!\n",
    "\n",
    "Whitespace is the name given to spaces, tabs and indents. As long as you don't use it within an operator (e.g. you must always call the 'print' command as 'print', never 'p rint' it makes Python code easier to read and doesn't affect how your code runs (i.e. whitespace is ignored by the Python interpreter)."
   ]
  },
  {
   "cell_type": "code",
   "execution_count": null,
   "metadata": {
    "colab": {},
    "colab_type": "code",
    "id": "hgWwBvPjp2F_",
    "outputId": "b7a83c61-07c9-494c-eafc-9afa91f09f4f"
   },
   "outputs": [],
   "source": [
    "8 *   * 3"
   ]
  },
  {
   "cell_type": "code",
   "execution_count": null,
   "metadata": {
    "colab": {},
    "colab_type": "code",
    "id": "Zh_wYeW-p2GC",
    "outputId": "65a06a7e-4927-4588-d810-47ecaaef1725"
   },
   "outputs": [],
   "source": [
    "print(3+5)\n",
    "\n",
    "\n",
    "\n",
    "\n",
    "\n",
    "print('hello')"
   ]
  },
  {
   "cell_type": "markdown",
   "metadata": {
    "colab_type": "text",
    "id": "lFlUxiQUp2GK"
   },
   "source": [
    "---\n",
    "\n",
    "## <font color='red'> Now you try\n",
    "\n",
    "Insert new cells into this notebook to complete each of the following exercises.\n",
    "\n",
    "1. Evaluate the following expressions: \n",
    "    \n",
    "    (a) 7-15\n",
    "    \n",
    "    (b) $3^7+16/3$\n",
    "\n",
    "\n",
    "2. The following lines of code will result in error messages when you try to run them. Fix the code so it runs without errors:"
   ]
  },
  {
   "cell_type": "code",
   "execution_count": null,
   "metadata": {
    "colab": {},
    "colab_type": "code",
    "id": "jtvPH5DJp2GL",
    "outputId": "505dfb53-2bca-40dc-e7d4-e1d7c35461ad"
   },
   "outputs": [],
   "source": [
    "print('hello world!\")"
   ]
  },
  {
   "cell_type": "code",
   "execution_count": null,
   "metadata": {
    "colab": {},
    "colab_type": "code",
    "id": "FDAcRZ2up2GM"
   },
   "outputs": [],
   "source": [
    "5 + '3'"
   ]
  },
  {
   "cell_type": "code",
   "execution_count": null,
   "metadata": {
    "colab": {},
    "colab_type": "code",
    "id": "ZAfcmymYp2GO"
   },
   "outputs": [],
   "source": [
    "print \"hello?\""
   ]
  },
  {
   "cell_type": "markdown",
   "metadata": {
    "colab_type": "text",
    "id": "4_EIWcO1p2GP"
   },
   "source": [
    "---\n",
    "<a id=\"help\"></a>\n",
    "\n",
    "# <font color='blue'> Finding help\n",
    "\n",
    "Do you feel like a Python programmer yet? Probably not, but don't worry- none of us, not even the ones who've been using Python for years, ever really feel like 'proper' programmers.\n",
    "\n",
    "No one has the time to memorise every single Python function they'll ever need to use (and even if they did, it would be a very inefficient use of their time). Beyond a very small handful of functions, you're not expected to memorise the commands we cover in this seminar, and you should never hesitate to look for help online when you get stuck. \n",
    "\n",
    "Programmers sometimes joke that they spend 90% of their time Googling bits of code they've forgotten- that's not an exaggeration. Here are some excellent resources that I consult appoximately 100 times on any given working day:\n",
    "\n",
    "* Stackoverflow: https://stackoverflow.com/\n",
    "* Python documentation: https://docs.python.org/3/\n",
    "* Google (obviously)\n",
    "* The person sitting next to you\n",
    "\n",
    "Understanding that it's ok and encouraged to look for help is a very important part of your Python journey."
   ]
  },
  {
   "cell_type": "markdown",
   "metadata": {},
   "source": [
    "---\n",
    "\n",
    "## <font color='red'> Now you try\n",
    "\n",
    "Use your Google and Stackoverflow skills to figure out how to retrieve, **or index, the last element in this list**"
   ]
  },
  {
   "cell_type": "code",
   "execution_count": null,
   "metadata": {},
   "outputs": [],
   "source": [
    "['the','quick','brown','fox','jumped','over','the','lazy','dog']"
   ]
  },
  {
   "cell_type": "markdown",
   "metadata": {},
   "source": [
    "Now figure out how to **index the first element in the same list**"
   ]
  },
  {
   "cell_type": "code",
   "execution_count": null,
   "metadata": {},
   "outputs": [],
   "source": [
    "['the','quick','brown','fox','jumped','over','the','lazy','dog']"
   ]
  },
  {
   "cell_type": "markdown",
   "metadata": {},
   "source": [
    "---"
   ]
  },
  {
   "cell_type": "markdown",
   "metadata": {
    "colab_type": "text",
    "id": "KLNKVFlFp2GQ"
   },
   "source": [
    "<a id=\"variables\"></a>\n",
    "# <font color='blue'> Variables\n",
    "\n",
    "### Why do we use variables?\n",
    "\n",
    "To understand what variables are and why they're useful in programming, let's imagine we've written a piece of code to perform some calculations with Google's share price over the past five days. For this example, let's assume Google's share price over the past five days (in USD) have been: \n",
    "\n",
    "* Today: ``1300``\n",
    "* 1 day ago: ``1310``\n",
    "* 2 days ago: ``1290``\n",
    "* 3 days ago: ``1370``\n",
    "* 4 days ago: ``1365``\n",
    "\n",
    "We can use print statements together with simple arithmetic to print out some information about how the share price has changed over the past few days."
   ]
  },
  {
   "cell_type": "code",
   "execution_count": null,
   "metadata": {},
   "outputs": [],
   "source": [
    "print('The percentage change in share price over the past 2 days is ', 100*(1300-1290)/1290)\n",
    "\n",
    "print('The percentage change in share price over the past 4 days is ', 100*(1300-1365)/1365)\n",
    "\n",
    "print('The maximum share price over the past 4 days was',max([1300,1310,1290,1370,1365]))\n",
    "\n",
    "print('The minimum share price over the past 4 days was',min([1300,1310,1290,1370,1365]))\n"
   ]
  },
  {
   "cell_type": "markdown",
   "metadata": {},
   "source": [
    "Now imagine you're repeating this analysis one week later, with five new share prices:\n",
    "\n",
    "* Today: ``1280``\n",
    "* 1 day ago: ``1317``\n",
    "* 2 days ago: ``1347.89``\n",
    "* 3 days ago: ``1369.8``\n",
    "* 4 days ago: ``1366.01``"
   ]
  },
  {
   "cell_type": "markdown",
   "metadata": {},
   "source": [
    "---\n",
    "\n",
    "## <font color='red'> Let's discuss\n",
    "\n",
    "Is it a good use of your time to write the block of code above, updated for the new set of share prices. Why?\n",
    "\n",
    "---"
   ]
  },
  {
   "cell_type": "markdown",
   "metadata": {},
   "source": [
    "### What is a variable?\n",
    "\n",
    "A variable is a way of assigning a name to a piece of data in Python. \n",
    "\n",
    "To create or **declare**, we use the operator = (not to be confused with ‘equal to’). \n",
    "\n",
    "The assignment ```myname = 'Bob'``` can interpreted as \"the string ```'Bob'``` is assigned to the variable ```myname```\". \n",
    "\n",
    "When defining variable names they should only contain numbers, letters (both upper and lower), and underscores \\_. \n",
    "\n",
    "**They must begin with a letter or an underscore, and variable names in Python are case sensitive.**\n",
    "\n",
    "As with most programming languages it is important that _reserved words_ that are already commands in Python (e.g. import, print, for) are not used for variable names. \n",
    "\n",
    "Here are some examples of variables: "
   ]
  },
  {
   "cell_type": "code",
   "execution_count": null,
   "metadata": {
    "colab": {},
    "colab_type": "code",
    "id": "ccigZY-lp2GS"
   },
   "outputs": [],
   "source": [
    "my_name = 'maryam'"
   ]
  },
  {
   "cell_type": "code",
   "execution_count": null,
   "metadata": {},
   "outputs": [],
   "source": [
    "my_name"
   ]
  },
  {
   "cell_type": "code",
   "execution_count": null,
   "metadata": {
    "colab": {},
    "colab_type": "code",
    "id": "ZeaWeLhCp2GT"
   },
   "outputs": [],
   "source": [
    "my_list = [2,3,4,5,6,7]"
   ]
  },
  {
   "cell_type": "code",
   "execution_count": null,
   "metadata": {},
   "outputs": [],
   "source": [
    "my_list"
   ]
  },
  {
   "cell_type": "code",
   "execution_count": null,
   "metadata": {
    "colab": {},
    "colab_type": "code",
    "id": "Jwkn2nkdp2GV"
   },
   "outputs": [],
   "source": [
    "share_price_2019 = 400\n",
    "share_price_2018 = 500"
   ]
  },
  {
   "cell_type": "code",
   "execution_count": null,
   "metadata": {
    "colab": {},
    "colab_type": "code",
    "id": "q3_5VLkgp2GW",
    "outputId": "e97a7e1d-2a50-46a0-c111-26567577b45a"
   },
   "outputs": [],
   "source": [
    "share_price_average = (share_price_2018+share_price_2019)/2\n",
    "share_price_average"
   ]
  },
  {
   "cell_type": "markdown",
   "metadata": {},
   "source": [
    "Variable names are **case sensitive**, so if we try to retrieve the value of a variable called ``my_Name``, Python will tell us that variable doesn't exist because we haven't declared it yet. "
   ]
  },
  {
   "cell_type": "code",
   "execution_count": null,
   "metadata": {},
   "outputs": [],
   "source": [
    "my_Name"
   ]
  },
  {
   "cell_type": "markdown",
   "metadata": {
    "colab_type": "text",
    "id": "2ceuoq0Hp2Gf"
   },
   "source": [
    "### Reserved words\n",
    "\n",
    "A reserved word in Python is a word that's either\n",
    "\n",
    "* Already the name of a built in function, like print or sum or list\n",
    "* Already the name of an operator, like and, or or, or not \n",
    "* Already the name of a type, like int \n",
    "\n",
    "Bad things happen if you try to make a variable that has the same name as a reserved word. Don't do things like this: \n",
    "\n",
    "```print = 5 \n",
    "list = [1,2,3,4]\n",
    "set = 58```\n",
    "\n",
    "This is another reason why having long, meaningful variable names is a good idea."
   ]
  },
  {
   "cell_type": "code",
   "execution_count": null,
   "metadata": {
    "colab": {},
    "colab_type": "code",
    "id": "duSMAjUTp2Gf"
   },
   "outputs": [],
   "source": [
    "print = 56"
   ]
  },
  {
   "cell_type": "code",
   "execution_count": null,
   "metadata": {
    "colab": {},
    "colab_type": "code",
    "id": "SjB4zjYmp2Gh"
   },
   "outputs": [],
   "source": [
    "mylist = [1,2,3,4] # this is allowed, 'mylist' shows up in black text"
   ]
  },
  {
   "cell_type": "code",
   "execution_count": null,
   "metadata": {
    "colab": {},
    "colab_type": "code",
    "id": "x6L1SBlpp2Gi"
   },
   "outputs": [],
   "source": [
    "list = [1,2,3,4] # this is bad, python warns you; 'mylist' shows up in green text"
   ]
  },
  {
   "cell_type": "markdown",
   "metadata": {
    "colab_type": "text",
    "id": "H_KPvIkop2Gl"
   },
   "source": [
    "Now let's retrieve the value of one of our variables."
   ]
  },
  {
   "cell_type": "code",
   "execution_count": null,
   "metadata": {
    "colab": {},
    "colab_type": "code",
    "id": "tcF__YWrp2Gl"
   },
   "outputs": [],
   "source": [
    "type(x)"
   ]
  },
  {
   "cell_type": "code",
   "execution_count": null,
   "metadata": {
    "colab": {},
    "colab_type": "code",
    "id": "p9-6nFPRp2Gm"
   },
   "outputs": [],
   "source": [
    "x"
   ]
  },
  {
   "cell_type": "markdown",
   "metadata": {
    "colab_type": "text",
    "id": "qFDahu0rp2Go"
   },
   "source": [
    "We can perform calculations with multiple variables"
   ]
  },
  {
   "cell_type": "code",
   "execution_count": null,
   "metadata": {
    "colab": {},
    "colab_type": "code",
    "id": "Ob91xhFgp2Go"
   },
   "outputs": [],
   "source": [
    "x=1\n",
    "x + bigfoot"
   ]
  },
  {
   "cell_type": "markdown",
   "metadata": {
    "colab_type": "text",
    "id": "aUWo0n_Kp2Gq"
   },
   "source": [
    "The following are illegal names for variables"
   ]
  },
  {
   "cell_type": "code",
   "execution_count": null,
   "metadata": {
    "colab": {},
    "colab_type": "code",
    "id": "-4Msi-Cap2Gq"
   },
   "outputs": [],
   "source": [
    "x: = 1.0\n",
    "1X = 1\n",
    "X-1 = 1\n",
    "for = 1"
   ]
  },
  {
   "cell_type": "markdown",
   "metadata": {
    "colab_type": "text",
    "id": "laDRj0WHp2Gr"
   },
   "source": [
    "### Variable names\n",
    "\n",
    "It's a good idea to choose meaningful names for variables: although it's used in the examples above, 'x' would be a very unhelpful name for a variable in practise, because the name doesn't tell us anything about what 'x' actually is.\n",
    "\n",
    "Better examples of variable names (depending on the application) could be:"
   ]
  },
  {
   "cell_type": "code",
   "execution_count": null,
   "metadata": {
    "colab": {},
    "colab_type": "code",
    "id": "aB8951Xfp2Gs"
   },
   "outputs": [],
   "source": [
    "user_age = 29\n",
    "user_name = 'Sarah'\n",
    "days_in_year = 365"
   ]
  },
  {
   "cell_type": "markdown",
   "metadata": {
    "colab_type": "text",
    "id": "RtnYyqZJp2Gu"
   },
   "source": [
    "### What could go wrong?"
   ]
  },
  {
   "cell_type": "markdown",
   "metadata": {
    "colab_type": "text",
    "id": "V24mOeLVp2Gu"
   },
   "source": [
    "Let's take a look at what will happen if you give a variable the same name as a built-in Python function. \n",
    "\n",
    "First, let's check the 'type' of the first function we met, `print`. As expected, its type is a built-in function. "
   ]
  },
  {
   "cell_type": "code",
   "execution_count": null,
   "metadata": {
    "colab": {},
    "colab_type": "code",
    "id": "75fyL4k1p2Gx",
    "outputId": "5e089418-60b9-4d0d-aaa6-5b76891c2096"
   },
   "outputs": [],
   "source": [
    "type(print)"
   ]
  },
  {
   "cell_type": "code",
   "execution_count": null,
   "metadata": {
    "colab": {},
    "colab_type": "code",
    "id": "3PBPFWJOp2Gy",
    "outputId": "1b0465cb-f34b-4b2d-957d-084807d02a66"
   },
   "outputs": [],
   "source": [
    "print('hello')"
   ]
  },
  {
   "cell_type": "markdown",
   "metadata": {
    "colab_type": "text",
    "id": "NTMEab10p2G0"
   },
   "source": [
    "Now let's intentionally make a mistake. We'll create a variable called `print` and assign it a value of 4."
   ]
  },
  {
   "cell_type": "code",
   "execution_count": null,
   "metadata": {
    "colab": {},
    "colab_type": "code",
    "id": "ohzpj7IYp2G0"
   },
   "outputs": [],
   "source": [
    "print = 4"
   ]
  },
  {
   "cell_type": "markdown",
   "metadata": {
    "colab_type": "text",
    "id": "iBQDKNimp2G1"
   },
   "source": [
    "Now, when we try to use the `print` function, Python gives us an error. That's because `print` is no longer a function; it's an integer because that's what we just did above!"
   ]
  },
  {
   "cell_type": "code",
   "execution_count": null,
   "metadata": {
    "colab": {},
    "colab_type": "code",
    "id": "ONF8rlMxp2G2",
    "outputId": "0a0e6ec2-3546-45af-b8b2-a5b8eb8efa36"
   },
   "outputs": [],
   "source": [
    "print('hello')"
   ]
  },
  {
   "cell_type": "markdown",
   "metadata": {
    "colab_type": "text",
    "id": "IabDaX6op2G6"
   },
   "source": [
    "We can confirm this by checking the type of `print` again. Whoops."
   ]
  },
  {
   "cell_type": "code",
   "execution_count": null,
   "metadata": {
    "colab": {},
    "colab_type": "code",
    "id": "eU1TeCTtp2G6",
    "outputId": "7097b472-76fc-4b44-b66a-e53fb414f177"
   },
   "outputs": [],
   "source": [
    "type(print)"
   ]
  },
  {
   "cell_type": "markdown",
   "metadata": {
    "colab_type": "text",
    "id": "PkQATM2Fp2G9"
   },
   "source": [
    "We can fix our mistake by deleting the variable `print` from Python's memory."
   ]
  },
  {
   "cell_type": "code",
   "execution_count": null,
   "metadata": {
    "colab": {},
    "colab_type": "code",
    "id": "GGfZu48Kp2G9"
   },
   "outputs": [],
   "source": [
    "del print "
   ]
  },
  {
   "cell_type": "markdown",
   "metadata": {
    "colab_type": "text",
    "id": "Qv1P8wPbp2G_"
   },
   "source": [
    "Now, when we check the type of `print` we can see it's back to being a built-in function as expected."
   ]
  },
  {
   "cell_type": "code",
   "execution_count": null,
   "metadata": {
    "colab": {},
    "colab_type": "code",
    "id": "rKX-Le71p2HA",
    "outputId": "63e51ad4-f3fb-4418-deca-062d3ee05f99"
   },
   "outputs": [],
   "source": [
    "type(print)"
   ]
  },
  {
   "cell_type": "markdown",
   "metadata": {},
   "source": [
    "---\n",
    "\n",
    "## <font color='red'> Now you try\n",
    "\n",
    "Let's practise using variables. Write Python code to do the following:\n",
    "\n",
    "* Create a variable called `current_year` and assign it the value 2020.\n",
    "* Create another variable called `my_year_of_birth` and assign it the value of the year you were born.\n",
    "* Create a third variable called `my_approx_age` by performing a calculation with the first two variables.\n",
    "\n",
    "---"
   ]
  },
  {
   "cell_type": "markdown",
   "metadata": {
    "colab_type": "text",
    "id": "j5xaxec3p2Hu"
   },
   "source": [
    "<a id=\"strings\"></a>\n",
    "# <font color='blue'> Strings"
   ]
  },
  {
   "cell_type": "markdown",
   "metadata": {
    "colab_type": "text",
    "id": "wH2EwhTCp2Hv"
   },
   "source": [
    "Strings are essentially any character combination in between quotes. They are most often used as a way of storing text. Strings are used frequently, because most of the data that humans create are text-based, such as restaurant reviews or emails."
   ]
  },
  {
   "cell_type": "code",
   "execution_count": null,
   "metadata": {
    "colab": {},
    "colab_type": "code",
    "id": "7cx0oiG6p2Hv"
   },
   "outputs": [],
   "source": [
    "s = \"Hello world\"\n",
    "type(s)"
   ]
  },
  {
   "cell_type": "markdown",
   "metadata": {
    "colab_type": "text",
    "id": "lg4Oc1vZp2Hz"
   },
   "source": [
    "### Concatenation\n",
    "\n",
    "Two strings can be joined/added together (concatenated) using the **+** operator:"
   ]
  },
  {
   "cell_type": "code",
   "execution_count": null,
   "metadata": {
    "colab": {},
    "colab_type": "code",
    "id": "YtNGyfk0p2Hz"
   },
   "outputs": [],
   "source": [
    "\"Hello, \" + \"world!\""
   ]
  },
  {
   "cell_type": "markdown",
   "metadata": {
    "colab_type": "text",
    "id": "oh8EbWkRp2H0"
   },
   "source": [
    "This joining together of strings is very simple; however if you want words split by a space you have to put the space in. Here are some examples"
   ]
  },
  {
   "cell_type": "code",
   "execution_count": null,
   "metadata": {
    "colab": {},
    "colab_type": "code",
    "id": "CxXuqxSFp2H0"
   },
   "outputs": [],
   "source": [
    "\"Hello, \"   +  \"world!\" # space after the comma"
   ]
  },
  {
   "cell_type": "code",
   "execution_count": null,
   "metadata": {
    "colab": {},
    "colab_type": "code",
    "id": "av9fSCf8p2H2"
   },
   "outputs": [],
   "source": [
    "\"Hello,\"  +  \" world!\" # space before second word"
   ]
  },
  {
   "cell_type": "markdown",
   "metadata": {
    "colab_type": "text",
    "id": "ewnxDEHZp2H3"
   },
   "source": [
    "### Converting strings to integers\n",
    "\n",
    "Strings can be converted to integers using the built-in function 'int', but only when we're asking Python to perform a sensible conversion!"
   ]
  },
  {
   "cell_type": "code",
   "execution_count": null,
   "metadata": {
    "colab": {},
    "colab_type": "code",
    "id": "YX_pKmIwp2H4"
   },
   "outputs": [],
   "source": [
    "type(int(\"10\"))"
   ]
  },
  {
   "cell_type": "code",
   "execution_count": null,
   "metadata": {
    "colab": {},
    "colab_type": "code",
    "id": "8JZcivRPp2H7"
   },
   "outputs": [],
   "source": [
    "int(\"-100\")"
   ]
  },
  {
   "cell_type": "code",
   "execution_count": null,
   "metadata": {
    "colab": {},
    "colab_type": "code",
    "id": "N-2BRMa7p2H8"
   },
   "outputs": [],
   "source": [
    "int(\"100-10\") # this gives an error"
   ]
  },
  {
   "cell_type": "code",
   "execution_count": null,
   "metadata": {
    "colab": {},
    "colab_type": "code",
    "id": "QP4Cm10Gp2H9"
   },
   "outputs": [],
   "source": [
    "int(\"Shrubbery\") # so does this!"
   ]
  },
  {
   "cell_type": "markdown",
   "metadata": {
    "colab_type": "text",
    "id": "WYJGLHANp2IG"
   },
   "source": [
    "### String Indexing\n",
    "\n",
    "In some cases, we may want a part of the string (like the first character for alphabetizing or categorizing). Indexing helps us do that.\n",
    "\n",
    "We can extract characters at specific index locations in a string using indexing."
   ]
  },
  {
   "cell_type": "code",
   "execution_count": null,
   "metadata": {
    "colab": {},
    "colab_type": "code",
    "id": "dtoaRruDp2IH"
   },
   "outputs": [],
   "source": [
    "# Indexing the first (index 0) character in the string:\n",
    "s[0]"
   ]
  },
  {
   "cell_type": "markdown",
   "metadata": {
    "colab_type": "text",
    "id": "4q55ynJ1p2II"
   },
   "source": [
    "The number you enter after the variable name in brackets (the `[0]`) is called the index (its plural is indices).\n",
    "\n",
    "_Counting in Python and many other programming languages begins at zero, as opposed to one. This is called zero-based indexing._"
   ]
  },
  {
   "cell_type": "code",
   "execution_count": null,
   "metadata": {
    "colab": {},
    "colab_type": "code",
    "id": "A4B0Amznp2II"
   },
   "outputs": [],
   "source": [
    "# This is called \"slicing.\" We start at the left index \n",
    "#   and go up to but not include the right index.\n",
    "\n",
    "# Objects at indexes 0, 1, and 2:\n",
    "s[0:3]"
   ]
  },
  {
   "cell_type": "markdown",
   "metadata": {
    "colab_type": "text",
    "id": "F81J-4jmp2IJ"
   },
   "source": [
    "Most ranges, or functions with ranges, have upper ends that are not inclusive. So, a range of `[0:5]` starts at `0` and stops before `5`.\n",
    "\n",
    "A good mental trick is to look at something like `[5:25]` and say out loud \"Starting at five and going up to (but not including) 25.\""
   ]
  },
  {
   "cell_type": "code",
   "execution_count": null,
   "metadata": {
    "colab": {},
    "colab_type": "code",
    "id": "bKYyPYRPp2IJ"
   },
   "outputs": [],
   "source": [
    "# From index 6 up to the end of the string:\n",
    "s[6:]"
   ]
  },
  {
   "cell_type": "code",
   "execution_count": null,
   "metadata": {
    "colab": {},
    "colab_type": "code",
    "id": "bBPtvRvCp2IK"
   },
   "outputs": [],
   "source": [
    "# No start or end specified:\n",
    "s[:]"
   ]
  },
  {
   "cell_type": "code",
   "execution_count": null,
   "metadata": {
    "colab": {},
    "colab_type": "code",
    "id": "73ptSTcyp2IL"
   },
   "outputs": [],
   "source": [
    "# Can we index from the right side?\n",
    "s[-1]"
   ]
  },
  {
   "cell_type": "markdown",
   "metadata": {
    "colab_type": "text",
    "id": "Xy8J_9i_p2IM"
   },
   "source": [
    "In addition to specifying a range, you can include a step size or character skip rate. This might be helpful if you want every other letter, for example. \n",
    "\n",
    "These indexing methods can also be used on lists, where asking for every other number might be a good use case."
   ]
  },
  {
   "cell_type": "code",
   "execution_count": null,
   "metadata": {
    "colab": {},
    "colab_type": "code",
    "id": "vZvMcr2Pp2IM"
   },
   "outputs": [],
   "source": [
    "# Every second character starting at 0 and ending at 10:\n",
    "s[0:10:2]"
   ]
  },
  {
   "cell_type": "code",
   "execution_count": null,
   "metadata": {
    "colab": {},
    "colab_type": "code",
    "id": "USj3Jb93p2IN"
   },
   "outputs": [],
   "source": [
    "# Define a step size of 2; i.e., every other character:\n",
    "s[::2]"
   ]
  },
  {
   "cell_type": "code",
   "execution_count": null,
   "metadata": {
    "colab": {},
    "colab_type": "code",
    "id": "uI_4y1kup2IN"
   },
   "outputs": [],
   "source": [
    "# The same, but for a list of numbers:\n",
    "[0, 1, 2, 3, 4, 5, 6][::2]"
   ]
  },
  {
   "cell_type": "markdown",
   "metadata": {
    "colab_type": "text",
    "id": "IQaVF_gDp2IP"
   },
   "source": [
    "### Escape sequences\n",
    "\n",
    "Python allows escape sequences (a backslash followed by a letter) to insert whitespace into strings."
   ]
  },
  {
   "cell_type": "code",
   "execution_count": null,
   "metadata": {
    "colab": {},
    "colab_type": "code",
    "id": "apWbqPhDp2IP"
   },
   "outputs": [],
   "source": [
    "print(\"Hello, \\nworld\") # inserts a new line"
   ]
  },
  {
   "cell_type": "code",
   "execution_count": null,
   "metadata": {
    "colab": {},
    "colab_type": "code",
    "id": "8fty-gTQp2IQ"
   },
   "outputs": [],
   "source": [
    "print(\"Hello,\\tworld\") # inserts a tab"
   ]
  },
  {
   "cell_type": "code",
   "execution_count": null,
   "metadata": {
    "colab": {},
    "colab_type": "code",
    "id": "WqTmsGn1p2IR"
   },
   "outputs": [],
   "source": [
    "print(\"Hello,\\\\world\")"
   ]
  },
  {
   "cell_type": "markdown",
   "metadata": {
    "colab_type": "text",
    "id": "fD9D0mKNp2IS"
   },
   "source": [
    "### Slicing strings\n",
    "\n",
    "Slicing is a method used to extract a portion of the string, or a substring. Slicing uses square brackets and the syntax ```mystring[a:b]``` to specify which parts of the string we want to extract, where ```a``` is the index (or position) of the start of the substring and ```b-1``` is the index of the end of the substring.\n",
    "\n",
    "Python uses zero-indexing, which means the first element in a string of length ```n``` is at position 0, and the last element in the string has an index (or position) equal to ```n-1```.  "
   ]
  },
  {
   "cell_type": "code",
   "execution_count": null,
   "metadata": {
    "colab": {},
    "colab_type": "code",
    "id": "NprTxGnGp2IS"
   },
   "outputs": [],
   "source": [
    "mystring = \"Press return to exit\"\n",
    "print(mystring[0:14])"
   ]
  },
  {
   "cell_type": "markdown",
   "metadata": {
    "colab_type": "text",
    "id": "tBUrnPpKp2IT"
   },
   "source": [
    "A string is an immutable object. Its individual characters cannot be modified with an assignment statement, and it has a fixed length. Any attempt to be violate this property will result in an error."
   ]
  },
  {
   "cell_type": "code",
   "execution_count": null,
   "metadata": {
    "colab": {},
    "colab_type": "code",
    "id": "CN8gb971p2IU"
   },
   "outputs": [],
   "source": [
    "mystring[0]=\"p\" # attempt to change P to p"
   ]
  },
  {
   "cell_type": "markdown",
   "metadata": {
    "colab_type": "text",
    "id": "dhTeQ_Irp2IU"
   },
   "source": [
    "---\n",
    "\n",
    "## <font color='red'> Now you try\n",
    "\n",
    "1. Given the string \"The quick brown fox jumped over the lazy dog\", write code to extract:\n",
    "\n",
    "    (a) The following substring: \"The quick brown fo\"*\n",
    "    \n",
    "    (b) The first character only\n",
    "    \n",
    "    (c) The last character only*\n",
    "    \n",
    "    (d) The substring \"over the lazy dog\"*\n",
    "    \n",
    "    \\*You can do this in two ways: try to find both!\n",
    "    \n",
    "    \n",
    "2. Figure out what the following syntax does: \n",
    "\n",
    "```mystring[i:j:k]```, ```mystring[-1]```, ```mystring[:i]```, ```mystring[i:]```, ```mystring[:]```, ```mystring[-2]```\n",
    "\n",
    "---"
   ]
  },
  {
   "cell_type": "markdown",
   "metadata": {
    "colab_type": "text",
    "id": "ExS5-EWnp2IW"
   },
   "source": [
    "<a id=\"lists\"></a>\n",
    "# <font color='blue'> Lists\n",
    "\n",
    "### What's a list?\n",
    "\n",
    "Lists are compound data types. This means they are sequences of values, very similar to strings, except that each element can be of any type. The syntax for creating a list is ``[...]`` where each element is separated with a comma."
   ]
  },
  {
   "cell_type": "code",
   "execution_count": null,
   "metadata": {
    "colab": {},
    "colab_type": "code",
    "id": "dWJFzhplp2IW",
    "outputId": "ab980a89-33c7-451f-f3ef-20e66e10463c"
   },
   "outputs": [],
   "source": [
    "list_of_stuff = ['Pizza',5,42.0,True]\n",
    "list_of_stuff"
   ]
  },
  {
   "cell_type": "markdown",
   "metadata": {
    "colab_type": "text",
    "id": "V1VXTP6fp2IY"
   },
   "source": [
    "Unlike strings, lists are mutable. This means their contents can be changed after creation."
   ]
  },
  {
   "cell_type": "code",
   "execution_count": null,
   "metadata": {
    "colab": {},
    "colab_type": "code",
    "id": "rML0b86fp2IY",
    "outputId": "de68ab49-3826-4349-e441-6544654eea73"
   },
   "outputs": [],
   "source": [
    "list_of_stuff[0]=\"hello\"\n",
    "list_of_stuff"
   ]
  },
  {
   "cell_type": "markdown",
   "metadata": {
    "colab_type": "text",
    "id": "6HZIte3Vp2IZ"
   },
   "source": [
    "We can index lists in exactly the same way as strings."
   ]
  },
  {
   "cell_type": "code",
   "execution_count": null,
   "metadata": {
    "colab": {},
    "colab_type": "code",
    "id": "p970EOZdp2IZ",
    "outputId": "8b31acae-077c-4668-819f-bb3207cf31bc"
   },
   "outputs": [],
   "source": [
    "primes = [ 2, 3, 5, 7, 11, 13, 17, 19]\n",
    "primes[0]"
   ]
  },
  {
   "cell_type": "markdown",
   "metadata": {
    "colab_type": "text",
    "id": "ov-A76ynp2Ib"
   },
   "source": [
    "We can append items to the end of a list using the 'append' **method**. \n",
    "\n",
    "### What's a method?\n",
    "\n",
    "Many types have what are known as \"methods:\" built-in functionality that allows them to do certain things. We've already seen a couple, such as the .replace() method, which lets you replace words in strings.\n",
    "\n",
    "Lists also have several methods that allow us to alter them, such as the .append() method, which allows us to add another element to the end of a list."
   ]
  },
  {
   "cell_type": "code",
   "execution_count": null,
   "metadata": {
    "colab": {},
    "colab_type": "code",
    "id": "GLKE0q8kp2Ib",
    "outputId": "e3f0841e-7fce-45aa-ea19-6b0282b85d1f"
   },
   "outputs": [],
   "source": [
    "b=['peter','piper']\n",
    "b.append(10)\n",
    "b"
   ]
  },
  {
   "cell_type": "markdown",
   "metadata": {
    "colab_type": "text",
    "id": "24DE5nFwp2Ic"
   },
   "source": [
    "To determine the length of a list; the earlier function len used for strings, can be used here."
   ]
  },
  {
   "cell_type": "code",
   "execution_count": null,
   "metadata": {
    "colab": {},
    "colab_type": "code",
    "id": "ASWluKCfp2Ic",
    "outputId": "5e86e93f-e44e-4820-a07c-4934aae2fa7e"
   },
   "outputs": [],
   "source": [
    "primes = [ 2, 3, 5, 7, 11, 13, 17, 19] # index runs from 0 to 7 incl.\n",
    "len(primes)"
   ]
  },
  {
   "cell_type": "markdown",
   "metadata": {
    "colab_type": "text",
    "id": "EgsZVKYbp2If"
   },
   "source": [
    "Note that we always read indexing from left to right. In the example above, the interpreter looks up names and gets the first element, which is the string \"Anne\". Then, the slice ([1:]) adds the first index of that string to the end of the original string, evaluating to \"nne\".\n"
   ]
  },
  {
   "cell_type": "code",
   "execution_count": null,
   "metadata": {
    "colab": {},
    "colab_type": "code",
    "id": "t1iTPVI6p2If",
    "outputId": "e348d87b-0f10-473e-8ade-94ac47b3c105"
   },
   "outputs": [],
   "source": [
    "['Carol', 'Anne', 'Jessica', 'Michelle'][1][1:]"
   ]
  },
  {
   "cell_type": "markdown",
   "metadata": {
    "colab_type": "text",
    "id": "bXk83CuSp2Ig"
   },
   "source": [
    "---\n",
    "\n",
    "## <font color='red'> Now you try\n",
    "\n",
    "Given the list below, write code to extract:\n",
    "\n",
    "(a) The first element\n",
    "\n",
    "(b) The last element\n",
    "\n",
    "(c) The substring 'ban' from the last element\n",
    "\n",
    "Append an extra element, 'apples', to the list\n",
    "\n",
    "Remove the first element of the list\n",
    "\n",
    "Reverse the order of elements in the list (you might need to Google around a bit to get the solution)"
   ]
  },
  {
   "cell_type": "code",
   "execution_count": null,
   "metadata": {
    "colab": {},
    "colab_type": "code",
    "id": "im2VgADzp2Ig"
   },
   "outputs": [],
   "source": [
    "mylist = ['a','b','d','e',1,2,3,'124','bananas']"
   ]
  },
  {
   "cell_type": "markdown",
   "metadata": {},
   "source": [
    "---"
   ]
  },
  {
   "cell_type": "markdown",
   "metadata": {
    "colab_type": "text",
    "id": "j3YF-c0Qp2Ii"
   },
   "source": [
    "<a id=\"dictionaries\"></a>\n",
    "# <font color='blue'> Dictionaries \n",
    "\n",
    "Dictionaries are an alternative to lists for storing and accessing information. Instead of using an ordered index to access data stored in a dictionary, we use a system of key-value pairs.\n",
    "\n",
    "A key is similar to a variable name.\n",
    "\n",
    "A value is similar to the value assigned to the variable.\n",
    "\n",
    "Instead of looking up (or 'indexing') values in a dictionary using numerical indices (e.g. mylist[0]), we access elements in a dictionary using words, or keys.\n",
    "\n",
    "We create dictionaries using curly brackets ``{}``. Remember this is different to the syntax for creating lists, which is ``[]``. Let's start by making a dictionary that contains the favourite foods of people in this class."
   ]
  },
  {
   "cell_type": "code",
   "execution_count": null,
   "metadata": {
    "colab": {},
    "colab_type": "code",
    "id": "6Q5U06wbp2Ii"
   },
   "outputs": [],
   "source": [
    "parameters = {'key1' : 1.0,\n",
    "          'key2' : 2.0,\n",
    "          'key3' : 3.0,}\n",
    "\n",
    "print(type(parameters))\n",
    "print(parameters)"
   ]
  },
  {
   "cell_type": "code",
   "execution_count": null,
   "metadata": {
    "colab": {},
    "colab_type": "code",
    "id": "_e7DcC40p2Ij"
   },
   "outputs": [],
   "source": [
    "parameters['key1']"
   ]
  },
  {
   "cell_type": "markdown",
   "metadata": {
    "colab_type": "text",
    "id": "Hn6RZuOAp2Ij"
   },
   "source": [
    "The keys stay the same, but the values are changeable. You can also only have one occurrence of a key in a dictionary, but you can have all of the values be the same."
   ]
  },
  {
   "cell_type": "code",
   "execution_count": null,
   "metadata": {
    "colab": {},
    "colab_type": "code",
    "id": "1Hq94876p2Ik"
   },
   "outputs": [],
   "source": [
    "# Value for parameter2 in the params dictionary:\n",
    "parameters['key2']"
   ]
  },
  {
   "cell_type": "code",
   "execution_count": null,
   "metadata": {
    "colab": {},
    "colab_type": "code",
    "id": "FRZTNpopp2Ik"
   },
   "outputs": [],
   "source": [
    "# Adding a new dictionary entry:\n",
    "parameters['key4'] = 'D'"
   ]
  },
  {
   "cell_type": "code",
   "execution_count": null,
   "metadata": {
    "colab": {},
    "colab_type": "code",
    "id": "BCV-nEmpp2Il"
   },
   "outputs": [],
   "source": [
    "print(parameters)"
   ]
  },
  {
   "cell_type": "code",
   "execution_count": null,
   "metadata": {
    "colab": {},
    "colab_type": "code",
    "id": "3Uaida-sp2Il"
   },
   "outputs": [],
   "source": [
    "# Reassigning the value of a key-value pair in the dictionary:\n",
    "parameters['key1'] = 'A'\n",
    "parameters['key2'] = 'B'"
   ]
  },
  {
   "cell_type": "markdown",
   "metadata": {
    "colab_type": "text",
    "id": "l_xg-2avp2Im"
   },
   "source": [
    "We can also nest elements in a dictionary; so an element in a dictionary can contain a list, or even another dictionary."
   ]
  },
  {
   "cell_type": "code",
   "execution_count": null,
   "metadata": {
    "colab": {},
    "colab_type": "code",
    "id": "WBu_oJMRp2Im"
   },
   "outputs": [],
   "source": [
    "favourite_foods_dictionary = {'Maryam': 10,\n",
    "                             'Bob': ['dim sum','hotpot','noodles'],\n",
    "                             'Sarah': {'food':'lasagna','drink':'coke'}}"
   ]
  },
  {
   "cell_type": "markdown",
   "metadata": {},
   "source": [
    "So to find Bob's top favourite food..."
   ]
  },
  {
   "cell_type": "code",
   "execution_count": null,
   "metadata": {
    "colab": {},
    "colab_type": "code",
    "id": "BpzHwztIp2In",
    "outputId": "df7cc888-71f7-4443-d2f6-d6e69d292789"
   },
   "outputs": [],
   "source": [
    "favourite_foods_dictionary['Bob'][0]"
   ]
  },
  {
   "cell_type": "markdown",
   "metadata": {},
   "source": [
    "And to find Sarah's favourite drink..."
   ]
  },
  {
   "cell_type": "code",
   "execution_count": null,
   "metadata": {},
   "outputs": [],
   "source": [
    "favourite_foods_dictionary['Sarah']['drink']"
   ]
  },
  {
   "cell_type": "markdown",
   "metadata": {
    "colab_type": "text",
    "id": "BjxrQY22p2Io"
   },
   "source": [
    "Elements of dictionaries can also contain multiple types: strings, ints, lists, and dictionaries."
   ]
  },
  {
   "cell_type": "code",
   "execution_count": null,
   "metadata": {
    "colab": {},
    "colab_type": "code",
    "id": "G7hhdLNOp2Io"
   },
   "outputs": [],
   "source": [
    "class_information_dictionary = {'Maryam': {'food':'pizza',\n",
    "                                           'drink':['coffee','orange juice','tea'],\n",
    "                                           'age':29},\n",
    "                               'Bob': {'food':'dim sum',\n",
    "                                          'drink':'water',\n",
    "                                          'age': 21},\n",
    "                               'Sarah': {'food':'lasagna',\n",
    "                                         'drink': 'green tea',\n",
    "                                         'age': 22}}"
   ]
  },
  {
   "cell_type": "markdown",
   "metadata": {},
   "source": [
    "---\n",
    "\n",
    "## <font color='red'> Now you try\n",
    "    \n",
    "Can you retrieve the following from the `class_information_dictionary` defined above?\n",
    "\n",
    "* Bob's favourite food\n",
    "* Sarah's age\n",
    "* Maryam's 3rd favourite drink\n",
    "\n",
    "Here's a dictionary that contains other dictionaries. Using a combination of keys and (where necessary) list indexing, can you retrieve the following information from `company_info_dictionary`?\n",
    "\n",
    "* The number of companies in the dataset\n",
    "* The number of employees at Wiiwork\n",
    "* MeTube's founder\n",
    "* The 2nd of Bloogle's founders\n",
    "* All of Bloogle's office locations\n",
    "* The first name of Wiiwork's first founder\n"
   ]
  },
  {
   "cell_type": "code",
   "execution_count": null,
   "metadata": {},
   "outputs": [],
   "source": [
    "company_info_dictionary = {'meta_data':{'number_of_companies':3,\n",
    "                                       'data_last_updated':'12/01/2020'},\n",
    "                           \n",
    "                          'company_data':[{'name':'Wiiwork',\n",
    "                                         'employees':230,\n",
    "                                         'office_locations':['New York'],\n",
    "                                         'founders':['Andy Newman','Mike MacIntyre']},\n",
    "                                          \n",
    "                                          {'name':'MeTube',\n",
    "                                         'employees':100,\n",
    "                                         'location':['San Francisco','London'],\n",
    "                                         'founders':['Sarah Williams']},\n",
    "                                          \n",
    "                                          {'name':'Bloogle',\n",
    "                                         'employees':5001,\n",
    "                                         'location':['Mountain View','New York','Paris','London'],\n",
    "                                         'founders':['Steve Brine','Lee Peterson']}                                          \n",
    "                                          \n",
    "                                         ]}\n"
   ]
  },
  {
   "cell_type": "markdown",
   "metadata": {
    "colab_type": "text",
    "id": "xObTrubwp2Is"
   },
   "source": [
    "<a id=\"libraries\"></a>\n",
    "# <font color='blue'> Libraries\n",
    "\n",
    "### What's a library?\n",
    "\n",
    "In programming, a library is a big bundle of code snippets (or functions) that someone else has written and made freely available for other people to download and modify (open source culture again!). A single library will usually be designed to help people write code for specific applications or purposes. For example:\n",
    "\n",
    "* Pandas is a library for data science\n",
    "* Numpy is a library for numerical computing\n",
    "* NLTK is a library for natural language processing\n",
    "* Tensorflow is a machine learning library released by Google\n",
    "\n",
    "Let's say we have a list, and we'd like to use the statistics and/or numpy libraries to compute the median and mean of that list. The numpy and statistics libraries both offer functions that make this easy. \n",
    "\n",
    "Let's run numpy's `mean` function to get the mean of a list... "
   ]
  },
  {
   "cell_type": "code",
   "execution_count": null,
   "metadata": {},
   "outputs": [],
   "source": [
    "my_list = [1,2,3,4,5]\n"
   ]
  },
  {
   "cell_type": "code",
   "execution_count": 1,
   "metadata": {},
   "outputs": [
    {
     "ename": "NameError",
     "evalue": "name 'numpy' is not defined",
     "output_type": "error",
     "traceback": [
      "\u001b[0;31m---------------------------------------------------------------------------\u001b[0m",
      "\u001b[0;31mNameError\u001b[0m                                 Traceback (most recent call last)",
      "\u001b[0;32m<ipython-input-1-8bc3e67532cd>\u001b[0m in \u001b[0;36m<module>\u001b[0;34m\u001b[0m\n\u001b[1;32m      1\u001b[0m \u001b[0mmylist\u001b[0m \u001b[0;34m=\u001b[0m \u001b[0;34m[\u001b[0m\u001b[0;36m1\u001b[0m\u001b[0;34m,\u001b[0m\u001b[0;36m12\u001b[0m\u001b[0;34m,\u001b[0m\u001b[0;36m15\u001b[0m\u001b[0;34m,\u001b[0m\u001b[0;36m19\u001b[0m\u001b[0;34m,\u001b[0m\u001b[0;36m20\u001b[0m\u001b[0;34m]\u001b[0m\u001b[0;34m\u001b[0m\u001b[0;34m\u001b[0m\u001b[0m\n\u001b[0;32m----> 2\u001b[0;31m \u001b[0mnumpy\u001b[0m\u001b[0;34m.\u001b[0m\u001b[0mmean\u001b[0m\u001b[0;34m(\u001b[0m\u001b[0mmylist\u001b[0m\u001b[0;34m)\u001b[0m\u001b[0;34m\u001b[0m\u001b[0;34m\u001b[0m\u001b[0m\n\u001b[0m",
      "\u001b[0;31mNameError\u001b[0m: name 'numpy' is not defined"
     ]
    }
   ],
   "source": [
    "mylist = [1,12,15,19,20]\n",
    "numpy.mean(mylist)"
   ]
  },
  {
   "cell_type": "markdown",
   "metadata": {
    "colab_type": "text",
    "id": "gfp2UzS0p2Is"
   },
   "source": [
    "### Importing libraries\n",
    "\n",
    "Whoops! Before Python can access a library's functions, we need to **import** or 'load' the library. \n",
    "\n",
    "There are several ways to import libraries.\n",
    "\n",
    "Avoid importing libraries like this, it's clunky and ugly and wastes time"
   ]
  },
  {
   "cell_type": "code",
   "execution_count": 2,
   "metadata": {
    "colab": {},
    "colab_type": "code",
    "id": "hZ4-Ye0fp2It",
    "outputId": "5b0dfa0d-e94c-401c-dec7-7ab9a42000fd"
   },
   "outputs": [
    {
     "data": {
      "text/plain": [
       "13.4"
      ]
     },
     "execution_count": 2,
     "metadata": {},
     "output_type": "execute_result"
    }
   ],
   "source": [
    "import numpy \n",
    "\n",
    "\n",
    "numpy.mean(mylist)\n",
    "numpy.median(mylist)"
   ]
  },
  {
   "cell_type": "markdown",
   "metadata": {
    "colab_type": "text",
    "id": "7V9WcBwjp2It"
   },
   "source": [
    "This will next method will work, but can lead to confusion with other libraries/you don't know where the function has come from "
   ]
  },
  {
   "cell_type": "code",
   "execution_count": null,
   "metadata": {
    "colab": {},
    "colab_type": "code",
    "id": "Y2zWELe5p2It"
   },
   "outputs": [],
   "source": [
    "from numpy import *\n",
    "from statistics import *\n",
    "\n",
    "median(mylist)\n",
    "mean(mylist)"
   ]
  },
  {
   "cell_type": "markdown",
   "metadata": {
    "colab_type": "text",
    "id": "9P77JW_Sp2Iv"
   },
   "source": [
    "This last method is best practise"
   ]
  },
  {
   "cell_type": "code",
   "execution_count": 5,
   "metadata": {
    "colab": {},
    "colab_type": "code",
    "id": "sMv6F0Y6p2Iv"
   },
   "outputs": [
    {
     "data": {
      "text/plain": [
       "13.4"
      ]
     },
     "execution_count": 5,
     "metadata": {},
     "output_type": "execute_result"
    }
   ],
   "source": [
    "import numpy as np\n",
    "import statistics as stats\n",
    "\n",
    "np.median(mylist)\n",
    "np.mean(mylist)\n",
    "\n",
    "stats.median(mylist)\n",
    "stats.mean(mylist)"
   ]
  },
  {
   "cell_type": "markdown",
   "metadata": {
    "colab_type": "text",
    "id": "aYdbnSkDp2Ix"
   },
   "source": [
    "Usually, all the library imports will happen at the very top of a Python notebook or script, but for the purposes of this class this won't be the case"
   ]
  },
  {
   "cell_type": "markdown",
   "metadata": {
    "colab_type": "text",
    "id": "1Yyskq6cp2Ix"
   },
   "source": [
    "---\n",
    "\n",
    "## <font color='red'> Now you try\n",
    "\n",
    "1. Import the 'statistics' library as 'stats' and the 'numpy' library as 'np'.\n",
    "\n",
    "2. Use ``stats.mean()`` and ``stats.median()`` to calculate the mean and median of this list of values: ``[1.5, 2.3, 6.7, 8, 10]``\n",
    "\n",
    "3. Repeat these calculations using the 'numpy' library and confirm the results are the same."
   ]
  },
  {
   "cell_type": "markdown",
   "metadata": {},
   "source": [
    "---"
   ]
  }
 ],
 "metadata": {
  "colab": {
   "name": "intro_to_python.ipynb",
   "provenance": []
  },
  "kernelspec": {
   "display_name": "Python 3",
   "language": "python",
   "name": "python3"
  },
  "language_info": {
   "codemirror_mode": {
    "name": "ipython",
    "version": 3
   },
   "file_extension": ".py",
   "mimetype": "text/x-python",
   "name": "python",
   "nbconvert_exporter": "python",
   "pygments_lexer": "ipython3",
   "version": "3.7.4"
  }
 },
 "nbformat": 4,
 "nbformat_minor": 1
}
