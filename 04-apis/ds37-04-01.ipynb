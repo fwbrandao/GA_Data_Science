{
 "cells": [
  {
   "cell_type": "markdown",
   "metadata": {
    "colab_type": "text",
    "id": "88tCXKMAp2FX"
   },
   "source": [
    "# Data acquisition with APIs\n",
    "\n",
    "---"
   ]
  },
  {
   "cell_type": "markdown",
   "metadata": {
    "colab_type": "text",
    "id": "3NyAoZKZp2FZ"
   },
   "source": [
    "<a id=\"learning-objectives\"></a>\n",
    "## Learning Objectives\n",
    "*After completing this notebook, you will be able to:*\n",
    "\n",
    "- Make API requests with the `requests` library\n",
    "- Work with JSON data in a similar way to dictionaries\n",
    "- Convert JSON data to a `pandas` dataframe"
   ]
  },
  {
   "cell_type": "markdown",
   "metadata": {
    "colab_type": "text",
    "id": "wzq3TuChp2Fa"
   },
   "source": [
    "## Contents:\n",
    "* [Making API requests](#apis)\n",
    "* [Converting JSON to a pandas dataframe](#pandas)"
   ]
  },
  {
   "cell_type": "markdown",
   "metadata": {},
   "source": [
    "<a id=\"apis\"></a>\n",
    "\n",
    "# <font color='blue'> Making API requests \n",
    "\n",
    "Let's start by importing the **requests** library, which we'll be using to make API requests"
   ]
  },
  {
   "cell_type": "code",
   "execution_count": null,
   "metadata": {},
   "outputs": [],
   "source": [
    "import requests"
   ]
  },
  {
   "cell_type": "markdown",
   "metadata": {},
   "source": [
    "Let's make a request to the astronauts API and view the resulting JSON."
   ]
  },
  {
   "cell_type": "code",
   "execution_count": null,
   "metadata": {},
   "outputs": [],
   "source": [
    "astro_request = requests.get('http://api.open-notify.org/astros.json')\n",
    "astro_json = astro_request.json()\n",
    "print(astro_json)"
   ]
  },
  {
   "cell_type": "markdown",
   "metadata": {},
   "source": [
    "## <font color='red'> Now you try: Astronaut API\n",
    "    \n",
    "1. Can you access the `status code` attribute of the `astro_request` object? What does the result mean? \n",
    "\n",
    "\n",
    "2. Access the `people` element of `astro_json`. What type of data is the result?\n",
    "\n",
    "\n",
    "3. Use your knowledge of list functions to find the total number of people on the international space station, **without using the `number` element of the dictionary**.\n"
   ]
  },
  {
   "cell_type": "code",
   "execution_count": null,
   "metadata": {},
   "outputs": [],
   "source": []
  },
  {
   "cell_type": "markdown",
   "metadata": {},
   "source": [
    "---\n",
    "## <font color='red'> Now you try: Share price API\n",
    "    \n",
    "1. Make an API request to: `https://www.alphavantage.co/query?function=TIME_SERIES_INTRADAY&symbol=MSFT&interval=5min&apikey=demo` \n",
    "\n",
    "\n",
    "2. Check the status code of the result to confirm the request has been successful.\n",
    "\n",
    "\n",
    "3. Inspect the JSON visually.\n",
    "\n",
    "\n",
    "4. We can see that the JSON consists of two top-level keys: `Meta Data` which provides summary information about the data, and `Time Series (5min)` which provides the actual share price information we're after. Use the correct key to retrieve `Time Series (5min)` only, discarding the **Meta data** contained in the JSON.\n",
    "\n",
    "\n",
    "5. Find the number of time points contained in the JSON.\n",
    "\n",
    "\n",
    "6. Use the AlphaVantage documentation to figure out how to construct an API request (i.e. a URL) that will give you **daily** share prices for **Google**. **You'll need to sign up for a free API key and include this in your API request.**\n",
    "\n"
   ]
  },
  {
   "cell_type": "code",
   "execution_count": null,
   "metadata": {},
   "outputs": [],
   "source": []
  },
  {
   "cell_type": "markdown",
   "metadata": {},
   "source": [
    "## <font color='red'> Now you try: Police API\n",
    "    \n",
    "Let's experiment with the Police UK API. Try to complete the following tasks:\n",
    "\n",
    "1. Using the documentation for the Police API, find out how to construct an API request to retrieve details of **stop and searches** in **London** during **May 2019** (hint: depending on which **API endpoint** you decide to use, you'll either need to look up the latitude and longitude of London using Google Maps or specify that you're interested in the `metropolitan` police force)\n",
    "\n",
    "2. Make this API request in your browser and inspect the results visually. What information is being returned?\n",
    "\n",
    "\n",
    "3. Using the `len` function, determine the total number of stop and searches recorded for this period.\n",
    "\n",
    "\n",
    "4. Construct a `for` loop to build one big JSON object that contains stop and search data for London for the whole of 2019. \n",
    "\n",
    "\n",
    "5. How many stop and search incidents happened in London during this period? \n"
   ]
  },
  {
   "cell_type": "code",
   "execution_count": null,
   "metadata": {},
   "outputs": [],
   "source": []
  },
  {
   "cell_type": "markdown",
   "metadata": {},
   "source": [
    "<a id=\"pandas\"></a>\n",
    "\n",
    "# <font color='blue'> Introducing Pandas"
   ]
  },
  {
   "cell_type": "markdown",
   "metadata": {},
   "source": [
    "JSON itself isn't very intuitive to work with; a better way of viewing and manipulating this data would be to use a table format. \n",
    "\n",
    "The Python library **pandas** is well suited to data manipulation, cleaning and exploratory analysis. Let's try it out:"
   ]
  },
  {
   "cell_type": "code",
   "execution_count": null,
   "metadata": {},
   "outputs": [],
   "source": [
    "import pandas as pd"
   ]
  },
  {
   "cell_type": "markdown",
   "metadata": {},
   "source": [
    "The main data structure in pandas library is the `DataFrame`; think of this as the Python equivalent of a table in Excel. \n",
    "\n",
    "It's very straightforward to convert JSON into DataFrame, using the `DataFrame` command. First, let's again request stop and search data in London for May 2019:"
   ]
  },
  {
   "cell_type": "code",
   "execution_count": null,
   "metadata": {},
   "outputs": [],
   "source": [
    "latitude = '51.535142'\n",
    "longitude = '-0.124971'\n",
    "date = '2019-05'\n",
    "police_api_url = 'https://data.police.uk/api/stops-street?lat=' + latitude + '&lng=' + longitude +'&date=' + date\n",
    "police_json = requests.get(police_api_url).json()"
   ]
  },
  {
   "cell_type": "markdown",
   "metadata": {},
   "source": [
    "Then in one single step, we convert our JSON into a `DataFrame` using the `pd.DataFrame` function."
   ]
  },
  {
   "cell_type": "code",
   "execution_count": null,
   "metadata": {},
   "outputs": [],
   "source": [
    "police_dataframe = pd.DataFrame(police_json)"
   ]
  },
  {
   "cell_type": "code",
   "execution_count": null,
   "metadata": {},
   "outputs": [],
   "source": [
    "type(police_dataframe)"
   ]
  },
  {
   "cell_type": "markdown",
   "metadata": {},
   "source": [
    "We can preview the first 5 rows of our `DataFrame` using the `head()` method."
   ]
  },
  {
   "cell_type": "code",
   "execution_count": null,
   "metadata": {},
   "outputs": [],
   "source": [
    "police_dataframe.head()"
   ]
  },
  {
   "cell_type": "markdown",
   "metadata": {},
   "source": [
    "We can preview the first `n` rows by passing a parameter to the `head()` method"
   ]
  },
  {
   "cell_type": "code",
   "execution_count": null,
   "metadata": {},
   "outputs": [],
   "source": [
    "police_dataframe.head(10)"
   ]
  },
  {
   "cell_type": "markdown",
   "metadata": {},
   "source": [
    "We can also use the `tail()` method to view the last rows of a `DataFrame`"
   ]
  },
  {
   "cell_type": "code",
   "execution_count": null,
   "metadata": {},
   "outputs": [],
   "source": [
    "police_dataframe.tail()"
   ]
  },
  {
   "cell_type": "markdown",
   "metadata": {},
   "source": [
    "Notice that there's an **index** on the left hand side; this isn't part of the underlying data, it's added by Pandas to help us access different rows according to their position in the DataFrame- exactly like we did with lists.\n",
    "\n",
    "Column names are automatically detected and formatted by Pandas.\n",
    "\n",
    "We can access a list of column names, and the index of a `DatFrame` easily."
   ]
  },
  {
   "cell_type": "code",
   "execution_count": null,
   "metadata": {},
   "outputs": [],
   "source": [
    "police_dataframe.columns"
   ]
  },
  {
   "cell_type": "code",
   "execution_count": null,
   "metadata": {},
   "outputs": [],
   "source": [
    "police_dataframe.index"
   ]
  },
  {
   "cell_type": "markdown",
   "metadata": {},
   "source": [
    "We can also access its dimensions, in `(row,column)` format."
   ]
  },
  {
   "cell_type": "code",
   "execution_count": null,
   "metadata": {},
   "outputs": [],
   "source": [
    "police_dataframe.shape"
   ]
  },
  {
   "cell_type": "markdown",
   "metadata": {},
   "source": [
    "## <font color='red'> Now you try: Share price API\n",
    "    \n",
    "Let's convert our Google share price JSON into a `DataFrame` with Pandas.\n",
    "\n",
    "1. Use the `pd.DataFrame()` function to convert the time series **only** in your Google share price JSON into a DataFrame. \n",
    "\n",
    "\n",
    "2. What goes wrong if you try convert the entire JSON response (including the `Meta Data` part) into a `DataFrame`? (Try it out!)\n",
    "\n",
    "\n",
    "3. What looks weird about our time series `DataFrame`? Figure out what the correct `pandas` function is to reformat the `DataFrame` so that each row corresponds to a single time interval, and the columns correspond to the opening, closing, high and low share prices. \n"
   ]
  },
  {
   "cell_type": "code",
   "execution_count": null,
   "metadata": {},
   "outputs": [],
   "source": []
  }
 ],
 "metadata": {
  "colab": {
   "name": "intro_to_python.ipynb",
   "provenance": []
  },
  "kernelspec": {
   "display_name": "Python 3",
   "language": "python",
   "name": "python3"
  },
  "language_info": {
   "codemirror_mode": {
    "name": "ipython",
    "version": 3
   },
   "file_extension": ".py",
   "mimetype": "text/x-python",
   "name": "python",
   "nbconvert_exporter": "python",
   "pygments_lexer": "ipython3",
   "version": "3.7.4"
  }
 },
 "nbformat": 4,
 "nbformat_minor": 1
}
