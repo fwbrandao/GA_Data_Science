{
 "cells": [
  {
   "cell_type": "markdown",
   "metadata": {},
   "source": [
    "## <font color='red'> Review\n",
    "    \n",
    "1. Make an API call to this Police API endpoint to find out about crime in your area in December 2019 (hint: you'll need to get a latitude/longitude pair from Google Maps): `https://data.police.uk/docs/method/crimes-at-location/` Convert the resulting JSON into a DataFrame.\n",
    "\n",
    "\n",
    "2. How many crimes were recorded in your area in December 2019?\n",
    "\n",
    "\n",
    "3. What was the most common category of crime?\n",
    "\n",
    "\n",
    "\n",
    "Be ready to report your results back to the class."
   ]
  },
  {
   "cell_type": "code",
   "execution_count": null,
   "metadata": {},
   "outputs": [],
   "source": []
  }
 ],
 "metadata": {
  "kernelspec": {
   "display_name": "Python 3",
   "language": "python",
   "name": "python3"
  },
  "language_info": {
   "codemirror_mode": {
    "name": "ipython",
    "version": 3
   },
   "file_extension": ".py",
   "mimetype": "text/x-python",
   "name": "python",
   "nbconvert_exporter": "python",
   "pygments_lexer": "ipython3",
   "version": "3.7.4"
  }
 },
 "nbformat": 4,
 "nbformat_minor": 2
}
