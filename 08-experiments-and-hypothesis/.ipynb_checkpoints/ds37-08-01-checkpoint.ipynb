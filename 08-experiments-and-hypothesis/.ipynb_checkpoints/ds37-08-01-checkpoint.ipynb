{
 "cells": [
  {
   "cell_type": "markdown",
   "metadata": {},
   "source": [
    "## <font color='red'> Now you try: Review\n",
    "    \n",
    "Let's refresh our knowledge of linear algebra and Pandas.\n",
    "\n",
    "$$\\mathbf{A}= \\left[ \\begin{array}{c}\n",
    "5, 3  \\\\\n",
    "1, 2  \\\\\n",
    "8, 7\n",
    "\\end{array} \\right]$$\n",
    "\n",
    "$$\\mathbf{B}= \\left[ \\begin{array}{c}\n",
    "8, 11, 10  \\\\\n",
    "2, 0, 15 \n",
    "\\end{array} \\right]$$\n",
    "\n",
    "\n",
    "$$\\vec{u} = \\left[ \\begin{array}{c}\n",
    "10&3&19\n",
    "\\end{array} \\right]$$\n",
    "\n",
    "$$\\vec{v} = \\left[ \\begin{array}{c}\n",
    "5 & 17 & 10\n",
    "\\end{array} \\right]$$\n",
    "\n",
    "1. For the vectors and matrices above, calculate **by hand and then using Numpy:**\n",
    "\n",
    "(a) $5u$\n",
    "\n",
    "(b) $u+v$\n",
    "\n",
    "(c) $B \\times A$\n",
    "\n",
    "(d) $u . v$\n",
    "\n",
    "2. A model for predicting daily rainfall (in $mm$) makes the following predictions across five days:\n",
    "\n",
    "$$\\hat{y} = [5, 7, 8, 9, 3]$$\n",
    "\n",
    "On these five days, the actual values of rainfall (in $mm$) are:\n",
    "\n",
    "$$y = [2, 8, 5, 11, 0]$$\n",
    "\n",
    "3. Calculate **by hand and then using Numpy:**\n",
    "\n",
    "(a) $||\\hat{y}-y||$\n",
    "\n",
    "(b) The mean squared error of the model\n",
    "\n",
    "(c) The root mean squared error of the model\n",
    "\n",
    "(d) Using the answers above, complete the following sentence: \"On average, the model's predictions are wrong by ________$mm$\"\n",
    "\n",
    "Given \n",
    "\n",
    "$$\\vec{x} = \\left[ \\begin{array}{c}\n",
    "4&1&9&10&1\n",
    "\\end{array} \\right]$$\n",
    "\n",
    "Calculate **by hand and then using Numpy:** $\\sum{(x_i - \\bar{X})^2}$"
   ]
  },
  {
   "cell_type": "code",
   "execution_count": null,
   "metadata": {},
   "outputs": [],
   "source": []
  }
 ],
 "metadata": {
  "kernelspec": {
   "display_name": "Python 3",
   "language": "python",
   "name": "python3"
  },
  "language_info": {
   "codemirror_mode": {
    "name": "ipython",
    "version": 3
   },
   "file_extension": ".py",
   "mimetype": "text/x-python",
   "name": "python",
   "nbconvert_exporter": "python",
   "pygments_lexer": "ipython3",
   "version": "3.7.4"
  }
 },
 "nbformat": 4,
 "nbformat_minor": 2
}
