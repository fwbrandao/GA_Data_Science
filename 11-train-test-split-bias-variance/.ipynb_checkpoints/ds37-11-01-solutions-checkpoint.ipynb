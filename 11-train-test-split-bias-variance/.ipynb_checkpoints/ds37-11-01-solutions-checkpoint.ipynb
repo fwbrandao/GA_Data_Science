{
 "cells": [
  {
   "cell_type": "markdown",
   "metadata": {},
   "source": [
    "1. Read in the file `admissions.csv`. Keep rows where `admit=1` and then drop the `admit` column altogether. Each row is data for an individual student; `gre` and `gpa` give their academic scores, and `prestige` gives the prestige of the university they were admitted to (where 1 = most prestigious). Drop rows containing missing values."
   ]
  },
  {
   "cell_type": "code",
   "execution_count": 2,
   "metadata": {},
   "outputs": [
    {
     "data": {
      "text/html": [
       "<div>\n",
       "<style scoped>\n",
       "    .dataframe tbody tr th:only-of-type {\n",
       "        vertical-align: middle;\n",
       "    }\n",
       "\n",
       "    .dataframe tbody tr th {\n",
       "        vertical-align: top;\n",
       "    }\n",
       "\n",
       "    .dataframe thead th {\n",
       "        text-align: right;\n",
       "    }\n",
       "</style>\n",
       "<table border=\"1\" class=\"dataframe\">\n",
       "  <thead>\n",
       "    <tr style=\"text-align: right;\">\n",
       "      <th></th>\n",
       "      <th>gre</th>\n",
       "      <th>gpa</th>\n",
       "      <th>prestige</th>\n",
       "    </tr>\n",
       "  </thead>\n",
       "  <tbody>\n",
       "    <tr>\n",
       "      <td>1</td>\n",
       "      <td>660.0</td>\n",
       "      <td>3.67</td>\n",
       "      <td>3.0</td>\n",
       "    </tr>\n",
       "    <tr>\n",
       "      <td>2</td>\n",
       "      <td>800.0</td>\n",
       "      <td>4.00</td>\n",
       "      <td>1.0</td>\n",
       "    </tr>\n",
       "    <tr>\n",
       "      <td>3</td>\n",
       "      <td>640.0</td>\n",
       "      <td>3.19</td>\n",
       "      <td>4.0</td>\n",
       "    </tr>\n",
       "    <tr>\n",
       "      <td>5</td>\n",
       "      <td>760.0</td>\n",
       "      <td>3.00</td>\n",
       "      <td>2.0</td>\n",
       "    </tr>\n",
       "    <tr>\n",
       "      <td>6</td>\n",
       "      <td>560.0</td>\n",
       "      <td>2.98</td>\n",
       "      <td>1.0</td>\n",
       "    </tr>\n",
       "  </tbody>\n",
       "</table>\n",
       "</div>"
      ],
      "text/plain": [
       "     gre   gpa  prestige\n",
       "1  660.0  3.67       3.0\n",
       "2  800.0  4.00       1.0\n",
       "3  640.0  3.19       4.0\n",
       "5  760.0  3.00       2.0\n",
       "6  560.0  2.98       1.0"
      ]
     },
     "execution_count": 2,
     "metadata": {},
     "output_type": "execute_result"
    }
   ],
   "source": [
    "import pandas as pd\n",
    "\n",
    "admissions = pd.read_csv('./data/admissions.csv')\n",
    "admissions = admissions[admissions['admit']==1]\n",
    "admissions.drop(columns='admit',inplace=True)\n",
    "admissions.dropna(inplace=True)\n",
    "admissions.head()"
   ]
  },
  {
   "cell_type": "markdown",
   "metadata": {},
   "source": [
    "2. Run a linear regression model with a train/test split of 0.8/0.2 to predict university prestige as a function of GPA and GRE scores. **Use random_state=42**"
   ]
  },
  {
   "cell_type": "code",
   "execution_count": 3,
   "metadata": {},
   "outputs": [],
   "source": [
    "from sklearn.model_selection import train_test_split\n",
    "\n",
    "X = admissions[['gre','gpa']]\n",
    "y = admissions['prestige']\n",
    "\n",
    "X_train, X_test, y_train, y_test = train_test_split(X, y, test_size = 0.2, random_state=42)"
   ]
  },
  {
   "cell_type": "markdown",
   "metadata": {},
   "source": [
    "3. Compute the training and testing accuracy.\n"
   ]
  },
  {
   "cell_type": "code",
   "execution_count": 4,
   "metadata": {},
   "outputs": [
    {
     "name": "stdout",
     "output_type": "stream",
     "text": [
      "Mean squared TRAINING error: 0.856017\n",
      "Root mean squared TRAINING error: 0.925212\n",
      "Mean squared TESTING error: 0.774142\n",
      "Root mean squared TESTING error: 0.879854\n"
     ]
    }
   ],
   "source": [
    "from sklearn.linear_model import LinearRegression # import\n",
    "from sklearn.model_selection import train_test_split # Import train_test_split function\n",
    "from sklearn import metrics #Import scikit-learn metrics module for accuracy calculation\n",
    "from sklearn.metrics import mean_squared_error\n",
    "import numpy as np\n",
    "\n",
    "linreg = LinearRegression() # initialise\n",
    "\n",
    "linreg.fit(X_train, y_train) # fit\n",
    "\n",
    "mse_training = mean_squared_error(y_train, linreg.predict(X_train))\n",
    "rmse_training = np.sqrt(mse_training)\n",
    "\n",
    "print('Mean squared TRAINING error: %f'% mse_training)\n",
    "print('Root mean squared TRAINING error: %f'% rmse_training)\n",
    "\n",
    "mse_testing = mean_squared_error(y_test, linreg.predict(X_test))\n",
    "rmse_testing = np.sqrt(mse_testing)\n",
    "\n",
    "print('Mean squared TESTING error: %f'% mse_testing)\n",
    "print('Root mean squared TESTING error: %f'% rmse_testing)"
   ]
  },
  {
   "cell_type": "markdown",
   "metadata": {},
   "source": [
    "4. Write down the full equation linking GRE and GPA performance to college prestige, using the coefficients and intercept attributes of the linear regression object. How can we interpret or explain this result? "
   ]
  },
  {
   "cell_type": "code",
   "execution_count": 5,
   "metadata": {},
   "outputs": [
    {
     "name": "stdout",
     "output_type": "stream",
     "text": [
      "Coefficients:  [-0.00023722 -0.15499643]\n",
      "Intercept:  2.828730345638253\n"
     ]
    }
   ],
   "source": [
    "print('Coefficients: ',linreg.coef_)\n",
    "print('Intercept: ',linreg.intercept_)\n"
   ]
  },
  {
   "cell_type": "markdown",
   "metadata": {},
   "source": [
    "5. Now, re-train the linear regression model **but** this time, scale the features so they fall between 0 and 1. To do this, you'll need to use the `MinMaxScaler()` from `scikit-learn`. "
   ]
  },
  {
   "cell_type": "code",
   "execution_count": 6,
   "metadata": {},
   "outputs": [],
   "source": [
    "from sklearn.preprocessing import MinMaxScaler\n",
    "\n",
    "cols_to_scale = ['gre','gpa']\n",
    "\n",
    "scaler = MinMaxScaler()\n",
    "\n",
    "admissions_scaled = pd.DataFrame(scaler.fit_transform(admissions[cols_to_scale]), columns=cols_to_scale)"
   ]
  },
  {
   "cell_type": "code",
   "execution_count": 10,
   "metadata": {},
   "outputs": [
    {
     "data": {
      "image/png": "[encoded data removed]",
      "text/plain": [
       "<Figure size 432x288 with 2 Axes>"
      ]
     },
     "metadata": {
      "needs_background": "light"
     },
     "output_type": "display_data"
    }
   ],
   "source": [
    "admissions_scaled.hist();"
   ]
  },
  {
   "cell_type": "code",
   "execution_count": 7,
   "metadata": {},
   "outputs": [
    {
     "name": "stdout",
     "output_type": "stream",
     "text": [
      "Mean squared TRAINING error: 0.856017\n",
      "Root mean squared TRAINING error: 0.925212\n",
      "Mean squared TESTING error: 0.774142\n",
      "Root mean squared TESTING error: 0.879854\n"
     ]
    }
   ],
   "source": [
    "X = admissions_scaled[['gre','gpa']]\n",
    "y = admissions['prestige']\n",
    "\n",
    "X_train, X_test, y_train, y_test = train_test_split(X, y, test_size = 0.2, random_state=42)\n",
    "\n",
    "linreg = LinearRegression() # initialise\n",
    "\n",
    "linreg.fit(X_train, y_train) # fit\n",
    "\n",
    "mse_training = mean_squared_error(y_train, linreg.predict(X_train))\n",
    "rmse_training = np.sqrt(mse_training)\n",
    "\n",
    "print('Mean squared TRAINING error: %f'% mse_training)\n",
    "print('Root mean squared TRAINING error: %f'% rmse_training)\n",
    "\n",
    "mse_testing = mean_squared_error(y_test, linreg.predict(X_test))\n",
    "rmse_testing = np.sqrt(mse_testing)\n",
    "\n",
    "print('Mean squared TESTING error: %f'% mse_testing)\n",
    "print('Root mean squared TESTING error: %f'% rmse_testing)\n",
    "\n",
    "\n"
   ]
  },
  {
   "cell_type": "markdown",
   "metadata": {},
   "source": [
    "6. Write down the new equation linking GRE and GPA performance to college prestige. How can we interpret or explain this result? \n"
   ]
  },
  {
   "cell_type": "code",
   "execution_count": 8,
   "metadata": {},
   "outputs": [
    {
     "name": "stdout",
     "output_type": "stream",
     "text": [
      "Coefficients:  [-0.11861064 -0.24489436]\n",
      "Intercept:  2.3824726079477463\n"
     ]
    }
   ],
   "source": [
    "print('Coefficients: ',linreg.coef_)\n",
    "print('Intercept: ',linreg.intercept_)"
   ]
  }
 ],
 "metadata": {
  "anaconda-cloud": {},
  "kernelspec": {
   "display_name": "Python 3",
   "language": "python",
   "name": "python3"
  },
  "language_info": {
   "codemirror_mode": {
    "name": "ipython",
    "version": 3
   },
   "file_extension": ".py",
   "mimetype": "text/x-python",
   "name": "python",
   "nbconvert_exporter": "python",
   "pygments_lexer": "ipython3",
   "version": "3.7.4"
  }
 },
 "nbformat": 4,
 "nbformat_minor": 2
}
