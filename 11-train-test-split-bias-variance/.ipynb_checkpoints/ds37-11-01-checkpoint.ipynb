{
 "cells": [
  {
   "cell_type": "markdown",
   "metadata": {},
   "source": [
    "1. Read in the file `admissions.csv`. Keep rows where `admit=1` and then drop the `admit` column altogether. Each row is data for an individual student; `gre` and `gpa` give their academic scores, and `prestige` gives the prestige of the university they were admitted to (where 1 = most prestigious). Drop rows containing missing values."
   ]
  },
  {
   "cell_type": "code",
   "execution_count": null,
   "metadata": {},
   "outputs": [],
   "source": [
    "import pandas as pd\n",
    "\n",
    "admissions=\n"
   ]
  },
  {
   "cell_type": "markdown",
   "metadata": {},
   "source": [
    "2. Run a linear regression model with a train/test split of 0.8/0.2 to predict university prestige as a function of GPA and GRE scores. **Use random_state=42**"
   ]
  },
  {
   "cell_type": "code",
   "execution_count": null,
   "metadata": {},
   "outputs": [],
   "source": [
    "from sklearn.model_selection import train_test_split\n",
    "\n",
    "X = \n",
    "y = \n",
    "\n",
    "X_train, X_test, y_train, y_test = "
   ]
  },
  {
   "cell_type": "markdown",
   "metadata": {},
   "source": [
    "3. Compute the training and testing accuracy.\n"
   ]
  },
  {
   "cell_type": "code",
   "execution_count": null,
   "metadata": {},
   "outputs": [],
   "source": [
    "from sklearn.linear_model import LinearRegression # import\n",
    "from sklearn.model_selection import train_test_split # Import train_test_split function\n",
    "from sklearn import metrics #Import scikit-learn metrics module for accuracy calculation\n",
    "from sklearn.metrics import mean_squared_error\n",
    "import numpy as np\n",
    "\n",
    "linreg = LinearRegression() # initialise\n",
    "\n",
    "linreg.fit( ) # fit\n",
    "\n",
    "mse_training = \n",
    "rmse_training = \n",
    "\n",
    "print('Mean squared TRAINING error: %f'% mse_training)\n",
    "print('Root mean squared TRAINING error: %f'% rmse_training)\n",
    "\n",
    "mse_testing = \n",
    "rmse_testing = \n",
    "\n",
    "print('Mean squared TESTING error: %f'% mse_testing)\n",
    "print('Root mean squared TESTING error: %f'% rmse_testing)\n"
   ]
  },
  {
   "cell_type": "markdown",
   "metadata": {},
   "source": [
    "4. Write down the full equation linking GRE and GPA performance to college prestige, using the coefficients and intercept attributes of the linear regression object. How can we interpret or explain this result? "
   ]
  },
  {
   "cell_type": "code",
   "execution_count": null,
   "metadata": {},
   "outputs": [],
   "source": [
    "print('Coefficients: ',linreg.coef_)\n",
    "print('Intercept: ',linreg.intercept_)\n"
   ]
  },
  {
   "cell_type": "markdown",
   "metadata": {},
   "source": [
    "5. Now, re-train the linear regression model **but** this time, scale the features so they fall between 0 and 1. To do this, you'll need to use the `MinMaxScaler()` from `scikit-learn`. "
   ]
  },
  {
   "cell_type": "code",
   "execution_count": null,
   "metadata": {},
   "outputs": [],
   "source": [
    "from sklearn.preprocessing import MinMaxScaler\n",
    "\n",
    "cols_to_scale = [ # FILL THIS IN ]\n",
    "\n",
    "scaler = MinMaxScaler() # Initialise scaler\n",
    "\n",
    "admissions_scaled = pd.DataFrame(scaler.fit_transform(admissions[cols_to_scale]), columns=cols_to_scale)\n",
    "\n"
   ]
  },
  {
   "cell_type": "markdown",
   "metadata": {},
   "source": [
    "Confirm, using `hist`, that the features have been scaled to fall between 0 and 1."
   ]
  },
  {
   "cell_type": "code",
   "execution_count": null,
   "metadata": {},
   "outputs": [],
   "source": []
  },
  {
   "cell_type": "markdown",
   "metadata": {},
   "source": [
    "Re-run the linear regression with the scaled features."
   ]
  },
  {
   "cell_type": "code",
   "execution_count": null,
   "metadata": {},
   "outputs": [],
   "source": [
    "X = admissions_scaled[['gre','gpa']]\n",
    "y = admissions['prestige']\n",
    "\n",
    "X_train, X_test, y_train, y_test = train_test_split(X, y, test_size = 0.2, random_state=42)\n",
    "\n",
    "linreg = LinearRegression() # initialise\n",
    "\n",
    "linreg.fit( ) # fit\n",
    "\n",
    "mse_training = \n",
    "rmse_training = \n",
    "\n",
    "print('Mean squared TRAINING error: %f'% mse_training)\n",
    "print('Root mean squared TRAINING error: %f'% rmse_training)\n",
    "\n",
    "mse_testing =\n",
    "rmse_testing =\n",
    "\n",
    "print('Mean squared TESTING error: %f'% mse_testing)\n",
    "print('Root mean squared TESTING error: %f'% rmse_testing)\n",
    "\n",
    "\n"
   ]
  },
  {
   "cell_type": "markdown",
   "metadata": {},
   "source": [
    "6. Write down the new equation linking GRE and GPA performance to college prestige. How can we interpret or explain this result? \n"
   ]
  },
  {
   "cell_type": "code",
   "execution_count": null,
   "metadata": {},
   "outputs": [],
   "source": [
    "print('Coefficients: ',linreg.coef_)\n",
    "print('Intercept: ',linreg.intercept_)"
   ]
  }
 ],
 "metadata": {
  "anaconda-cloud": {},
  "kernelspec": {
   "display_name": "Python 3",
   "language": "python",
   "name": "python3"
  },
  "language_info": {
   "codemirror_mode": {
    "name": "ipython",
    "version": 3
   },
   "file_extension": ".py",
   "mimetype": "text/x-python",
   "name": "python",
   "nbconvert_exporter": "python",
   "pygments_lexer": "ipython3",
   "version": "3.7.4"
  }
 },
 "nbformat": 4,
 "nbformat_minor": 2
}
