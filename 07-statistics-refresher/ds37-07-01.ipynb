{
 "cells": [
  {
   "cell_type": "markdown",
   "metadata": {},
   "source": [
    "## <font color='red'> Now you try: Review\n",
    "    \n",
    "Let's try out many of the techniques we've learned over the past few lessons on a new dataset.\n",
    "\n",
    "Read in the files: `us_presidential_votes.csv` as a DataFrame called `votes` and `us_presidential_votes_dictionary.csv`. Use the data dictionary to transform the column names in `votes` to more intuitive column names, formatted in snake case.\n",
    "\n",
    "\n",
    "Create a new column in the dataset, recording whether Clinton or Trump won a county.\n",
    "\n",
    "\n",
    "Use an appropriate combination of box plots, pair plots and histograms to identify which variables are:\n",
    "\n",
    "\n",
    "(a) Normally distributed\n",
    "\n",
    "(b) Most strongly associated with Trump's vote share (we'll be exploring this problem more next week)\n",
    "\n",
    "\n",
    "Use your Pandas filtering skills to find out the following:\n",
    "\n",
    "* How many people in total voted from Trump?\n",
    "\n",
    "\n",
    "* Of these, approximately how many had a bachelors degree?\n",
    "\n",
    "\n",
    "* What was Trump's mean vote share in counties beginning with the letter 'A'?\n",
    "\n"
   ]
  }
 ],
 "metadata": {
  "kernelspec": {
   "display_name": "Python 3",
   "language": "python",
   "name": "python3"
  },
  "language_info": {
   "codemirror_mode": {
    "name": "ipython",
    "version": 3
   },
   "file_extension": ".py",
   "mimetype": "text/x-python",
   "name": "python",
   "nbconvert_exporter": "python",
   "pygments_lexer": "ipython3",
   "version": "3.7.4"
  }
 },
 "nbformat": 4,
 "nbformat_minor": 2
}
