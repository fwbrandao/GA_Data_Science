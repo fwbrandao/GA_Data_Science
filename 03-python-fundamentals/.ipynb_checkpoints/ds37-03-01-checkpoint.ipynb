{
 "cells": [
  {
   "cell_type": "markdown",
   "metadata": {
    "colab_type": "text",
    "id": "88tCXKMAp2FX"
   },
   "source": [
    "# Python Fundamentals\n",
    "\n",
    "---"
   ]
  },
  {
   "cell_type": "markdown",
   "metadata": {
    "colab_type": "text",
    "id": "3NyAoZKZp2FZ"
   },
   "source": [
    "<a id=\"learning-objectives\"></a>\n",
    "## Learning Objectives\n",
    "*After completing this notebook, you will be able to:*\n",
    "\n",
    "- Use Jupyter Notebook\n",
    "- Understand why Python is well suited to data science \n",
    "- Perform simple operations with integers, strings, floats, lists and dictionaries in Python\n",
    "- Import libraries\n",
    "- Write functions\n",
    "- Use loops and if statements\n",
    "- Use classes and access their methods and attributes"
   ]
  },
  {
   "cell_type": "markdown",
   "metadata": {
    "colab_type": "text",
    "id": "wzq3TuChp2Fa"
   },
   "source": [
    "## Contents:\n",
    "* [What's Python and why are we learning it?](#intro)\n",
    "* [Learning to use Jupyter](#jupyter)\n",
    "* [Your first Python code](#helloworld)\n",
    "* [Types in Python](#types)\n",
    "* [Variables](#variables)\n",
    "* [Strings](#strings)\n",
    "* [Lists](#lists)\n",
    "* [Dictionaries](#dictionaries)\n",
    "* [Libraries](#libraries)\n",
    "* [Functions](#functions)\n",
    "* [If Statements, For and While Loops](#loops)\n",
    "    * [Boolean logic](#bool)\n",
    "    * [If/Else/Elif Statements](#if)\n",
    "    * [For loops](#for)\n",
    "    * [While loops](#while)\n",
    "* [Classes](#classes)"
   ]
  },
  {
   "cell_type": "markdown",
   "metadata": {
    "colab_type": "text",
    "id": "5tM59G0Zp2Fb"
   },
   "source": [
    "<a id=\"intro\"></a>\n",
    "# <font color='blue'> What's Python and why are we learning it?\n",
    "\n",
    "### Why does Python have such a ridiculous name?\n",
    "\n",
    "Python was initially developed by Guido van Rossum in the 1990s, who was a big fan of Monty Python's Flying Circus, a BBC comedy sketch series televised during the late 60s and early 70s. It was conceived, written and performed by the comedians collectively known as Monty Python (or simply 'the Pythons').\n",
    "\n",
    "<img src=\"img/monty_python.jpg\" width=400 />\n",
    "\n",
    "\n",
    "### Why Python?\n",
    "\n",
    "**Python is open source**\n",
    "\n",
    "This means it's free to use and distribute, and anyone can modify/customise the source code. This might seem surprising to anyone with experience of working in the private sector, but many huge advances in science and technology are only possible thanks to open source culture and a tradition of people freely sharing, distributing, modifying their own and each other's work. \n",
    "\n",
    "You can learn more about open source here: https://opensource.org/\n",
    "\n",
    "**Python is an interpreted language**\n",
    "\n",
    "If you're new to programming, you probably have no idea what this means. Let's take a quick(ish) detour through the history of computing. \n",
    "\n",
    "**What is programming?**\n",
    "\n",
    "What do we actually mean when we talk about coding or programming? This sounds like an obvious question, but it's worth discussing.\n",
    "\n",
    "When we write code (in any language from Python to C++) we're writing instructions that we want our computer to execute; those instructions could be as simple as 'add these two numbers and show me the result' or as complex as 'navigate this driverless car through rush hour traffic.' \n",
    "\n",
    "The CPU (central processing unit, or 'brain') in any computer can only understand and execute commands written in machine code, which looks something like this:\n",
    "\n",
    "<img src=\"img/machine_code.png\" width=400 />\n",
    "\n",
    "For humans, machine code is:\n",
    "\n",
    "* Very error prone \n",
    "* A nightmare to debug: imagine trying to spot a rogue 1 (Star Wars reference entirely unintentional but I'll take it) in a string of thousands of numbers and letters so you can fix your mistake\n",
    "* Inefficient: it takes many lines of code to write even the simplest instructions\n",
    "\n",
    "Luckily, nowadays we have at our disposal a huge range of programming languages from JavaScipt to Python to C++. All of these are much more similar to the English language, have their own vocabulary (commands that can be given to the computer) and syntax (rules for combining commands to write complex instructions) and feel far more intuitive than machine code.\n",
    "\n",
    "But if computers only understand machine code, how is this possible?\n",
    "\n",
    "<img src=\"img/grace_hopper.jpg\"/>\n",
    "\n",
    "In the 1950s a US Navy Rear Admiral named Grace Hopper was well aware of this problem. She built the first compiler, a middle-man piece of software that translated instructions written in a human-readable programming language called A-0 into computer-readable machine code. \n",
    "\n",
    "All the programming languages you might have heard of including FORTRAN, C++, Python, JavaScript, Swift, R and Matlab only exist today because of Hopper's innovation.\n",
    "\n",
    "These modern languages are compiled or interpreted into a format that can be directly executed by a CPU. The main difference between a compiled language (like C++) and an interpreted language (like Python) lies in the result of the compilation or interpretation process. \n",
    "\n",
    "Code written in an interpreted language is executed by an interpreter, which reads the source code and translates it on the fly into machine code, and gives us the desired result or output of the code- this could be a number, some text, or movement in a robotic arm. This means we can type statements into the interpreter and they are executed immediately, giving us near-instant results. The source code has to be re-interpreted each time the code is executed. \n",
    "\n",
    "Lines of code written in compiled languages are converted into machine code by a compiler, to produce an executable file. To get the desired results of the code, this executable file then needs to be run. Most of the software we use on a daily basis is delivered as compiled binaries.\n",
    "\n",
    "**Python has a library for almost anything**\n",
    "\n",
    "In programming, a library is a big bundle of code snippets (or functions) that someone else has written and made freely available for other people to download and modify (open source culture again!). A single library will usually be designed to help people write code for specific applications or purposes. For example:\n",
    "\n",
    "* Pandas is a library for data science\n",
    "* Numpy is a library for numerical computing\n",
    "* NLTK is a library for natural language processing\n",
    "* Tensorflow is a machine learning library released by Google \n",
    "\n",
    "Using libraries rather than writing your own code from scratch is always a smart move (as one of my favourite undergraduate tutors used to say, a good engineer is smart and lazy)- you'll save time, and because open source code will have been reviewed and checked by hundreds and thousands of people, code from a library is far less likely to contain bugs than something you write on your laptop at 2am after your 10th cup of coffee of the day. \n",
    "\n",
    "**Python is object oriented**\n",
    "\n",
    "Object-oriented programming, or OOP for short, is a way of structuring programs so that groups of properties and behaviours are bundled into things called 'objects'.\n",
    "\n",
    "We'll learn more about why this is useful later."
   ]
  },
  {
   "cell_type": "markdown",
   "metadata": {
    "colab_type": "text",
    "id": "Cqr_LyJ-p2Fb"
   },
   "source": [
    "---\n",
    "\n",
    "<a id=\"jupyter\"></a>\n",
    "# <font color='blue'> Learning to use Jupyter Notebook\n",
    "\n",
    "### What's an IDE?\n",
    "\n",
    "We've downloaded Python. What does that actually mean? What exactly have we just installed on our machines? \n",
    "\n",
    "When we download and install Python, we download the Python interpreter- that is, a program that can take lines of code written in Python and translate them down to machine code and show us the results. That's great! But we need somewhere to feed lines of Python code to that interpreter, or in other words we need somewhere to write, test, and run our code and view the results or output. That's what an IDE or interactive development environment is for. \n",
    "\n",
    "An IDE is anywhere that you can write and run code, and see the results. There are lots of different IDEs available- some can be used to run code in many different programming languages (like Microsoft Visual Studio Code) and some can only handle one language (like pyCharm). \n",
    "\n",
    "Let's take a quick tour of a few different, commonly used, Python IDEs.\n",
    "\n",
    "**The command line**\n",
    "\n",
    "Typing ```python``` into the command line will launch Python in your Terminal window. You can then type Python commands, run them, and see the results. \n",
    "\n",
    "<img src=\"img/command_line.png\" width='500' />\n",
    "\n",
    "This is a quick and easy way of running code, but not well suited to writing longer blocks of code (we call these 'scripts') or saving the results. \n",
    "\n",
    "**Text editors**\n",
    "\n",
    "You can write Python script in any text editor (Notepad, Atom, Sublime) and as long as you save it with a .py extension, it can be run from the command line.\n",
    "\n",
    "<img src=\"img/atom.png\" width='500'/>\n",
    "\n",
    "<img src=\"img/run_atom.png\" width='500'/>\n",
    "\n",
    "**pyCharm**\n",
    "\n",
    "pyCharm is a powerful IDE with lots of features to make writing, running and testing code easier. \n",
    "\n",
    "<img src=\"img/pycharm.png\" width='500'/>\n",
    "\n",
    "**Jupyter**\n",
    "\n",
    "Jupyter notebook is just another example of an IDE, or interactive development environment. It has some neat features that make it particularly well suited to writing and running readable, shareable, nicely formatted code.\n",
    "\n",
    "**Text Editors**\n",
    "\n",
    "In addition to IDEs, developers also use text editors to create or edit code and files. Text editors or more commonly used for files that are executed via the command line, as well as for software and website development.  \n",
    "\n",
    "Some common text editors that you may see or use include\n",
    "- [Sublime](https://www.sublimetext.com/)\n",
    "- [Atom](https://atom.io/)\n",
    "- [Notepad++](https://notepad-plus-plus.org/) (Windows)\n",
    "- [Vim](http://www.vim.org/)\n",
    "\n",
    "\n",
    "### What is Jupyter?\n",
    "\n",
    "The Jupyter Notebook (previously known as IPython) is an IDE that launches in your web browser but runs locally on your machine. \n",
    "\n",
    "It allows you to create and share documents that contain live code, equations, visualizations and explanatory text. Jupyter Notebooks have the .ipynb extension, although it is possible to export them as .py files, or even .html or .pdf files for easy sharing and presentation. \n",
    "\n",
    "There are a number of advantages of using a Jupyter notebook. It's interactive, easy to share and document results, and because equations/notes/graphs can be embedded in a notebook it's easy for other people to understand what you've done and why you've done it- which is incredibly important when checking, sharing, and reviewing results. Jupyter is also an IDE that can run many different programming languages (sometimes they're called kernels) from R to JavaScript, so it's versatile too. \n",
    "\n",
    "Many researchers (and large companies including Netflix: https://medium.com/netflix-techblog/notebook-innovation-591ee3221233) have become reliant on Jupyter notebooks to explain their results. Readers can reproduce those results and modify to create different output in order to facilitate the learning process.\n",
    "\n",
    "### Using Jupyter\n",
    "\n",
    "**Launching** Jupyter can be launched from Anaconda Navigator. It runs in your web browser, but doesn't require an internet connection to work- remember, Python and the IDE are both running locally in your machine, your browser is just a convenient user interface. \n",
    "\n",
    "A new notebook can be launched by selecting New, followed by Python 3. \n",
    "\n",
    "<img src=\"img/launch_notebook.png\" width='500'/>\n",
    "\n",
    "**Cells** Cells are the building blocks of Jupyter notebooks, and can contain different types of content from code, to markdown (nicely formatted text, like this cell) to LaTeX (for writing mathematical formulae) and embedded images. During this seminar we'll be using mostly code cells (to write and run our code) and markdown cells. \n",
    "\n",
    "New cells are inserted by selecting Insert, followed by Insert Cell Above or Insert Cell Below. The dropdown menu allows us to switch between Markdown cells and Code cells. \n",
    "\n",
    "**Running cells** Cells run one after the other. You can run cells by pressing Shift + Enter. The output from a code cell (if there is any) will appear below the cell. \n",
    "\n",
    "**Stopping cells running** If you'd like to stop a cell running (maybe you've accidentally written some code that runs in an infinite loop) you can use \n",
    "\n",
    "**Saving your work** Jupyter will autosave your work once every couple of minutes, but if you've just completed a very critical piece of code, it's best to save manually as well. \n",
    "\n",
    "**Shortcuts** Jupyter has plenty of shortcuts to save time:\n",
    "\n",
    "``Shift + Enter``: Run current cell\n",
    "\n",
    "``Esc+M``: Convert current cell to markdown\n",
    "\n",
    "``Esc+Y``: Convert current cell to code \n",
    "\n",
    "``Esc + A``: Insert new cell above current cell\n",
    "\n",
    "``Esc + B``: Insert new cell below current cell\n",
    "\n",
    "``Esc + H``: Show shortcuts menu"
   ]
  },
  {
   "cell_type": "markdown",
   "metadata": {
    "colab_type": "text",
    "id": "8vkOoZxBp2Fd"
   },
   "source": [
    "---\n",
    "\n",
    "<a id=\"helloworld\"></a>\n",
    "# <font color='blue'> Your first Python code"
   ]
  },
  {
   "cell_type": "markdown",
   "metadata": {
    "colab_type": "text",
    "id": "c6pMo2OYp2Fe"
   },
   "source": [
    "### Hello World!\n",
    "\n",
    "It is customary to be introduced to any new programming language by writing a line of code that prints the phrase 'hello world'."
   ]
  },
  {
   "cell_type": "code",
   "execution_count": null,
   "metadata": {
    "colab": {
     "base_uri": "https://localhost:8080/",
     "height": 34
    },
    "colab_type": "code",
    "executionInfo": {
     "elapsed": 614,
     "status": "ok",
     "timestamp": 1576767302845,
     "user": {
      "displayName": "Maryam Ahmed",
      "photoUrl": "",
      "userId": "15180292484758534831"
     },
     "user_tz": 0
    },
    "id": "iB9zg6wzp2Fe",
    "outputId": "16186dfa-c8d6-48fb-8eb3-43b040bf97cd",
    "scrolled": false
   },
   "outputs": [],
   "source": [
    "print('hello world')"
   ]
  },
  {
   "cell_type": "code",
   "execution_count": null,
   "metadata": {
    "colab": {
     "base_uri": "https://localhost:8080/",
     "height": 34
    },
    "colab_type": "code",
    "executionInfo": {
     "elapsed": 465,
     "status": "ok",
     "timestamp": 1576767304975,
     "user": {
      "displayName": "Maryam Ahmed",
      "photoUrl": "",
      "userId": "15180292484758534831"
     },
     "user_tz": 0
    },
    "id": "T51Xtnc0p2Fi",
    "outputId": "97653efa-3c7e-4e3f-a071-fda25f631b20",
    "scrolled": false
   },
   "outputs": [],
   "source": [
    "print(\"hello again\")"
   ]
  },
  {
   "cell_type": "markdown",
   "metadata": {
    "colab_type": "text",
    "id": "QyZuzHsap2Fk"
   },
   "source": [
    "Let's think about what's happening here.\n",
    "\n",
    "We're running (or calling) Python's built in 'print' function. We'll learn more about functions in programming later on, but for now we should just bear in mind that a Python function is very similar to a mathematical function- it takes a user defined input (or argument), does something with it, and gives us an output.\n",
    "\n",
    "Our input in this case is 'hello world' and the output is the 'hello world' message that gets printed out. This might not seem like the most useful function, but later on we'll use it to print out the results of calculations and more complex functions.\n",
    "\n",
    "Note that single quotes and double quotes are the same. Python is one of a few programming languages where ' ' and \" \" have the same functionality. A general rule of thumb is to choose one and stick with it."
   ]
  },
  {
   "cell_type": "markdown",
   "metadata": {},
   "source": [
    "---\n",
    "\n",
    "<a id=\"3\"></a>\n",
    "\n",
    "# <font color='blue'> Types in Python\n",
    "\n",
    "It's also good to briefly note that the 'type' of our input is a string (in programming, a string is a sequence of alphanumeric characters)\n",
    "\n",
    "Different types of data (numbers, decimal numbers, strings of text, lists- more on those later) are treated differently by Python. This makes sense, because there are some operations or calculations that it makes sense to perform on numbers (e.g. division, multiplication) that would be nonsensical to try and perform on a piece of text, and vice versa.\n",
    "\n",
    "Python has many different **types**, i.e. it can handle lots of different kinds of data, from numbers to text to data tables. \n",
    "\n",
    "We can always check the type of something in our code using Python's built-in 'type' function."
   ]
  },
  {
   "cell_type": "code",
   "execution_count": null,
   "metadata": {
    "colab": {
     "base_uri": "https://localhost:8080/",
     "height": 34
    },
    "colab_type": "code",
    "executionInfo": {
     "elapsed": 555,
     "status": "ok",
     "timestamp": 1576767308804,
     "user": {
      "displayName": "Maryam Ahmed",
      "photoUrl": "",
      "userId": "15180292484758534831"
     },
     "user_tz": 0
    },
    "id": "z_1EpdKEp2Fk",
    "outputId": "eb9896f2-f02d-4064-b9df-cefed8473e0f",
    "scrolled": false
   },
   "outputs": [],
   "source": [
    "type('hello world')"
   ]
  },
  {
   "cell_type": "code",
   "execution_count": null,
   "metadata": {
    "colab": {},
    "colab_type": "code",
    "id": "yALaFPOWp2Fp",
    "outputId": "0a28e92d-e9ff-476f-da9a-0f3f2560b5f3",
    "scrolled": false
   },
   "outputs": [],
   "source": [
    "type(35)"
   ]
  },
  {
   "cell_type": "code",
   "execution_count": null,
   "metadata": {
    "colab": {},
    "colab_type": "code",
    "id": "1j3hFwQup2Fr",
    "outputId": "ffb7665a-dd6f-4c3d-f709-055891c23f74",
    "scrolled": false
   },
   "outputs": [],
   "source": [
    "type(4.9)"
   ]
  },
  {
   "cell_type": "code",
   "execution_count": null,
   "metadata": {
    "colab": {},
    "colab_type": "code",
    "id": "lhSgKVOBp2Ft",
    "outputId": "9c9e6ce9-39c1-45f1-e9b0-9207aea59df6",
    "scrolled": false
   },
   "outputs": [],
   "source": [
    "type(2.3)"
   ]
  },
  {
   "cell_type": "code",
   "execution_count": null,
   "metadata": {
    "colab": {},
    "colab_type": "code",
    "id": "jlnYz1nNp2Fu",
    "outputId": "6b8a9f5c-72f2-4de1-b092-cc785fb7f957",
    "scrolled": false
   },
   "outputs": [],
   "source": [
    "type('hello world')"
   ]
  },
  {
   "cell_type": "code",
   "execution_count": null,
   "metadata": {
    "scrolled": false
   },
   "outputs": [],
   "source": [
    "type([1,2,3,4,5])"
   ]
  },
  {
   "cell_type": "markdown",
   "metadata": {},
   "source": [
    "---\n",
    "\n",
    "## <font color='red'> Now you try\n",
    "\n",
    "Take a look at the Python commands below. For each command, **before you run the cell**, predict:\n",
    "\n",
    "* What the input to the command is\n",
    "* What the output will look like \n",
    "* What the command is doing\n",
    "\n",
    "The clue is often in the name of the command; don't overthink this exercise!\n",
    "\n",
    "**It's always helpful to think of Python commands as having an input and an output; this helps us understand what's going on**\n"
   ]
  },
  {
   "cell_type": "code",
   "execution_count": null,
   "metadata": {
    "scrolled": false
   },
   "outputs": [],
   "source": [
    "'CAPS LOCK MAKES IT SEEM LIKE IM SHOUTING'.lower()"
   ]
  },
  {
   "cell_type": "code",
   "execution_count": null,
   "metadata": {
    "scrolled": false
   },
   "outputs": [],
   "source": [
    "max([3,5,2,8])"
   ]
  },
  {
   "cell_type": "markdown",
   "metadata": {},
   "source": [
    "---"
   ]
  },
  {
   "cell_type": "markdown",
   "metadata": {
    "colab_type": "text",
    "id": "fByx1qBRp2Fw"
   },
   "source": [
    "### A comment on comments\n",
    "\n",
    "Comments are lines of code that aren't executed by the Python interpreter. They're explanatory notes written by programmers, to explain what the code does and why it does it. Commenting your code is incredibly important for readable code- if you don't do this, you run the risk of forgetting what your own code actually does, or annoying your teammates by sending them hard to read, uncommented code. \n",
    "\n",
    "Comments follow the '#' symbol."
   ]
  },
  {
   "cell_type": "code",
   "execution_count": null,
   "metadata": {
    "colab": {},
    "colab_type": "code",
    "id": "OaBWwrEXp2Fx",
    "outputId": "43a10bdc-f54c-4eaf-a850-4a8491bff243",
    "scrolled": false
   },
   "outputs": [],
   "source": [
    "# comments can be on their own line\n",
    "print('testing...')"
   ]
  },
  {
   "cell_type": "code",
   "execution_count": null,
   "metadata": {
    "colab": {},
    "colab_type": "code",
    "id": "hjd3SIUap2Fz",
    "scrolled": false
   },
   "outputs": [],
   "source": [
    "print('testing testing') # or they can be on the same line as your code"
   ]
  },
  {
   "cell_type": "code",
   "execution_count": null,
   "metadata": {
    "colab": {},
    "colab_type": "code",
    "id": "bOO7Qjjjp2F0",
    "scrolled": false
   },
   "outputs": [],
   "source": [
    "\"\"\"\n",
    "we can also use triple quote marks\n",
    "to write comments spread across\n",
    "multiple lines\n",
    "\"\"\"\n",
    "print('hello')"
   ]
  },
  {
   "cell_type": "markdown",
   "metadata": {
    "colab_type": "text",
    "id": "Gknul7TDp2F2"
   },
   "source": [
    "You should comment your code as much as you need. When I first began programming, I wrote around one line of comment for every line of code- maybe this was a bit too much, but it helped me understand what I was doing."
   ]
  },
  {
   "cell_type": "markdown",
   "metadata": {
    "colab_type": "text",
    "id": "zcaBi725p2F3"
   },
   "source": [
    "---\n",
    "<a id=\"numbers\"></a>\n",
    "\n",
    "# <font color='blue'> Working with numbers"
   ]
  },
  {
   "cell_type": "markdown",
   "metadata": {
    "colab_type": "text",
    "id": "p4Oli3mKp2HE"
   },
   "source": [
    "###  Ints and Floats"
   ]
  },
  {
   "cell_type": "markdown",
   "metadata": {
    "colab_type": "text",
    "id": "BFP5RC3Jp2HE"
   },
   "source": [
    "Integers in Python (numbers without a decimal point) have the type `int`, whereas numbers with a decimal point have the type `float` (short for 'floating point')."
   ]
  },
  {
   "cell_type": "code",
   "execution_count": null,
   "metadata": {
    "colab": {},
    "colab_type": "code",
    "id": "7vCRSfezp2HF",
    "scrolled": false
   },
   "outputs": [],
   "source": [
    "x=3; type(x)"
   ]
  },
  {
   "cell_type": "code",
   "execution_count": null,
   "metadata": {
    "colab": {},
    "colab_type": "code",
    "id": "7G977Wf7p2HH",
    "scrolled": false
   },
   "outputs": [],
   "source": [
    "x=3.0; type(x)"
   ]
  },
  {
   "cell_type": "markdown",
   "metadata": {
    "colab_type": "text",
    "id": "sAduwh3Kp2HI"
   },
   "source": [
    "### Rounding\n",
    "\n",
    "We can round numbers using the 'round' function, either to a whole number..."
   ]
  },
  {
   "cell_type": "code",
   "execution_count": null,
   "metadata": {
    "colab": {},
    "colab_type": "code",
    "id": "T28AFFcWp2HI",
    "scrolled": false
   },
   "outputs": [],
   "source": [
    "round(3.4)"
   ]
  },
  {
   "cell_type": "code",
   "execution_count": null,
   "metadata": {
    "colab": {},
    "colab_type": "code",
    "id": "9TdPGKcHp2HK",
    "scrolled": false
   },
   "outputs": [],
   "source": [
    "round(3.9)"
   ]
  },
  {
   "cell_type": "markdown",
   "metadata": {
    "colab_type": "text",
    "id": "Z7yz7YYcp2HL"
   },
   "source": [
    "Or to a given number of decimal places (in this case, 6 decimal places)"
   ]
  },
  {
   "cell_type": "code",
   "execution_count": null,
   "metadata": {
    "colab": {},
    "colab_type": "code",
    "id": "V2Df4E_Ep2HL",
    "scrolled": false
   },
   "outputs": [],
   "source": [
    "round(3.2399817,6) # 2 parameter function"
   ]
  },
  {
   "cell_type": "markdown",
   "metadata": {
    "colab_type": "text",
    "id": "6terzDWSp2HR"
   },
   "source": [
    "### Converting between numerical types "
   ]
  },
  {
   "cell_type": "markdown",
   "metadata": {
    "colab_type": "text",
    "id": "BgxicQRep2HR"
   },
   "source": [
    "We can convert between integers and floats using the 'int' and 'float' functions."
   ]
  },
  {
   "cell_type": "code",
   "execution_count": null,
   "metadata": {
    "colab": {},
    "colab_type": "code",
    "id": "-u2h1ZAOp2HS",
    "scrolled": false
   },
   "outputs": [],
   "source": [
    "float(3)"
   ]
  },
  {
   "cell_type": "code",
   "execution_count": null,
   "metadata": {
    "colab": {},
    "colab_type": "code",
    "id": "YZ_ycpEip2HT",
    "scrolled": false
   },
   "outputs": [],
   "source": [
    "int(5.5)"
   ]
  },
  {
   "cell_type": "markdown",
   "metadata": {
    "colab_type": "text",
    "id": "a5_EP1Drp2HV"
   },
   "source": [
    "We can also convert ints and floats to strings."
   ]
  },
  {
   "cell_type": "code",
   "execution_count": null,
   "metadata": {
    "colab": {},
    "colab_type": "code",
    "id": "LdTWoDTNp2HV",
    "scrolled": false
   },
   "outputs": [],
   "source": [
    "str(6)"
   ]
  },
  {
   "cell_type": "markdown",
   "metadata": {},
   "source": [
    "### Performing calculations"
   ]
  },
  {
   "cell_type": "code",
   "execution_count": null,
   "metadata": {
    "colab": {},
    "colab_type": "code",
    "id": "Sk0aNdUap2F3",
    "outputId": "fb609bf1-e712-4ff3-9e7c-fe260cba4a38",
    "scrolled": false
   },
   "outputs": [],
   "source": [
    "3+2 # sum two numbers"
   ]
  },
  {
   "cell_type": "code",
   "execution_count": null,
   "metadata": {
    "colab": {},
    "colab_type": "code",
    "id": "qdwbeOsLp2F5",
    "outputId": "ef05172d-f76b-44c6-ebc3-6598be349dff",
    "scrolled": false
   },
   "outputs": [],
   "source": [
    "2-1"
   ]
  },
  {
   "cell_type": "code",
   "execution_count": null,
   "metadata": {
    "colab": {},
    "colab_type": "code",
    "id": "uIQjc6rpp2F7",
    "outputId": "a1914aee-8eb1-47d0-c384-2939435fd598",
    "scrolled": false
   },
   "outputs": [],
   "source": [
    "8**3 # raise one number to the power of another"
   ]
  },
  {
   "cell_type": "code",
   "execution_count": null,
   "metadata": {
    "colab": {},
    "colab_type": "code",
    "id": "r8dktcsQp2F8",
    "outputId": "2644a0dd-67a8-4aeb-d510-ca5b9506dfb2",
    "scrolled": false
   },
   "outputs": [],
   "source": [
    "4*3 # multiply two numbers"
   ]
  },
  {
   "cell_type": "code",
   "execution_count": null,
   "metadata": {
    "scrolled": false
   },
   "outputs": [],
   "source": [
    "10%3 # get the remainder when one number is divided by another"
   ]
  },
  {
   "cell_type": "markdown",
   "metadata": {
    "colab_type": "text",
    "id": "8Aa5y2ybp2F-"
   },
   "source": [
    "Note that 8 ** 3 is legal/allowed, but 8 * * 3 is not. Whitespace around an operator doesn't matter. Spaces within the operator do!\n",
    "\n",
    "Whitespace is the name given to spaces, tabs and indents. As long as you don't use it within an operator (e.g. you must always call the 'print' command as 'print', never 'p rint' it makes Python code easier to read and doesn't affect how your code runs (i.e. whitespace is ignored by the Python interpreter)."
   ]
  },
  {
   "cell_type": "code",
   "execution_count": null,
   "metadata": {
    "colab": {},
    "colab_type": "code",
    "id": "hgWwBvPjp2F_",
    "outputId": "b7a83c61-07c9-494c-eafc-9afa91f09f4f",
    "scrolled": false
   },
   "outputs": [],
   "source": [
    "8 *   * 3"
   ]
  },
  {
   "cell_type": "code",
   "execution_count": null,
   "metadata": {
    "colab": {},
    "colab_type": "code",
    "id": "Zh_wYeW-p2GC",
    "outputId": "65a06a7e-4927-4588-d810-47ecaaef1725",
    "scrolled": false
   },
   "outputs": [],
   "source": [
    "print(3+5)\n",
    "\n",
    "\n",
    "\n",
    "\n",
    "\n",
    "print('hello')"
   ]
  },
  {
   "cell_type": "markdown",
   "metadata": {
    "colab_type": "text",
    "id": "lFlUxiQUp2GK"
   },
   "source": [
    "---\n",
    "\n",
    "## <font color='red'> Now you try\n",
    "\n",
    "Insert new cells into this notebook to complete each of the following exercises.\n",
    "\n",
    "1. Evaluate the following expressions: \n",
    "    \n",
    "    (a) 7-15\n",
    "    \n",
    "    (b) $3^7+16/3$\n",
    "\n",
    "\n",
    "2. The following lines of code will result in error messages when you try to run them. Fix the code so it runs without errors:"
   ]
  },
  {
   "cell_type": "code",
   "execution_count": null,
   "metadata": {
    "colab": {},
    "colab_type": "code",
    "id": "jtvPH5DJp2GL",
    "outputId": "505dfb53-2bca-40dc-e7d4-e1d7c35461ad",
    "scrolled": false
   },
   "outputs": [],
   "source": [
    "print('hello world!\")"
   ]
  },
  {
   "cell_type": "code",
   "execution_count": null,
   "metadata": {
    "colab": {},
    "colab_type": "code",
    "id": "FDAcRZ2up2GM",
    "scrolled": false
   },
   "outputs": [],
   "source": [
    "5 + '3'"
   ]
  },
  {
   "cell_type": "code",
   "execution_count": null,
   "metadata": {
    "colab": {},
    "colab_type": "code",
    "id": "ZAfcmymYp2GO",
    "scrolled": false
   },
   "outputs": [],
   "source": [
    "print \"hello?\""
   ]
  },
  {
   "cell_type": "markdown",
   "metadata": {
    "colab_type": "text",
    "id": "4_EIWcO1p2GP"
   },
   "source": [
    "---\n",
    "<a id=\"help\"></a>\n",
    "\n",
    "# <font color='blue'> Finding help\n",
    "\n",
    "Do you feel like a Python programmer yet? Probably not, but don't worry- none of us, not even the ones who've been using Python for years, ever really feel like 'proper' programmers.\n",
    "\n",
    "No one has the time to memorise every single Python function they'll ever need to use (and even if they did, it would be a very inefficient use of their time). Beyond a very small handful of functions, you're not expected to memorise the commands we cover in this seminar, and you should never hesitate to look for help online when you get stuck. \n",
    "\n",
    "Programmers sometimes joke that they spend 90% of their time Googling bits of code they've forgotten- that's not an exaggeration. Here are some excellent resources that I consult appoximately 100 times on any given working day:\n",
    "\n",
    "* Stackoverflow: https://stackoverflow.com/\n",
    "* Python documentation: https://docs.python.org/3/\n",
    "* Google (obviously)\n",
    "* The person sitting next to you\n",
    "\n",
    "Understanding that it's ok and encouraged to look for help is a very important part of your Python journey."
   ]
  },
  {
   "cell_type": "markdown",
   "metadata": {},
   "source": [
    "---"
   ]
  },
  {
   "cell_type": "markdown",
   "metadata": {
    "colab_type": "text",
    "id": "KLNKVFlFp2GQ"
   },
   "source": [
    "<a id=\"variables\"></a>\n",
    "# <font color='blue'> Variables\n",
    "\n",
    "### Why do we use variables?\n",
    "\n",
    "To understand what variables are and why they're useful in programming, let's imagine we've written a piece of code to perform some calculations with Google's share price over the past five days. For this example, let's assume Google's share price over the past five days (in USD) have been: \n",
    "\n",
    "* Today: ``1300``\n",
    "* 1 day ago: ``1310``\n",
    "* 2 days ago: ``1290``\n",
    "* 3 days ago: ``1370``\n",
    "* 4 days ago: ``1365``\n",
    "\n",
    "We can use print statements together with simple arithmetic to print out some information about how the share price has changed over the past few days."
   ]
  },
  {
   "cell_type": "code",
   "execution_count": null,
   "metadata": {
    "scrolled": false
   },
   "outputs": [],
   "source": [
    "print('The percentage change in share price over the past 2 days is ', 100*(1300-1290)/1290)\n",
    "\n",
    "print('The percentage change in share price over the past 4 days is ', 100*(1300-1365)/1365)\n",
    "\n",
    "print('The maximum share price over the past 4 days was',max([1300,1310,1290,1370,1365]))\n",
    "\n",
    "print('The minimum share price over the past 4 days was',min([1300,1310,1290,1370,1365]))\n"
   ]
  },
  {
   "cell_type": "markdown",
   "metadata": {},
   "source": [
    "Now imagine you're repeating this analysis one week later, with five new share prices:\n",
    "\n",
    "* Today: ``1280``\n",
    "* 1 day ago: ``1317``\n",
    "* 2 days ago: ``1347.89``\n",
    "* 3 days ago: ``1369.8``\n",
    "* 4 days ago: ``1366.01``"
   ]
  },
  {
   "cell_type": "markdown",
   "metadata": {},
   "source": [
    "---\n",
    "\n",
    "## <font color='red'> Let's discuss\n",
    "\n",
    "Is it a good use of your time to write the block of code above, updated for the new set of share prices. Why?\n",
    "\n",
    "---"
   ]
  },
  {
   "cell_type": "markdown",
   "metadata": {},
   "source": [
    "### What is a variable?\n",
    "\n",
    "A variable is a way of assigning a name to a piece of data in Python. \n",
    "\n",
    "To create or **declare**, we use the operator = (not to be confused with ‘equal to’). \n",
    "\n",
    "The assignment ```myname = 'Bob'``` can interpreted as \"the string ```'Bob'``` is assigned to the variable ```myname```\". \n",
    "\n",
    "When defining variable names they should only contain numbers, letters (both upper and lower), and underscores \\_. \n",
    "\n",
    "**They must begin with a letter or an underscore, and variable names in Python are case sensitive.**\n",
    "\n",
    "As with most programming languages it is important that _reserved words_ that are already commands in Python (e.g. import, print, for) are not used for variable names. \n",
    "\n",
    "Here are some examples of variables: "
   ]
  },
  {
   "cell_type": "code",
   "execution_count": null,
   "metadata": {
    "colab": {},
    "colab_type": "code",
    "id": "ccigZY-lp2GS",
    "scrolled": false
   },
   "outputs": [],
   "source": [
    "my_name = 'maryam'"
   ]
  },
  {
   "cell_type": "code",
   "execution_count": null,
   "metadata": {
    "scrolled": false
   },
   "outputs": [],
   "source": [
    "my_name"
   ]
  },
  {
   "cell_type": "code",
   "execution_count": null,
   "metadata": {
    "colab": {},
    "colab_type": "code",
    "id": "ZeaWeLhCp2GT",
    "scrolled": false
   },
   "outputs": [],
   "source": [
    "my_list = [2,3,4,5,6,7]"
   ]
  },
  {
   "cell_type": "code",
   "execution_count": null,
   "metadata": {
    "scrolled": false
   },
   "outputs": [],
   "source": [
    "my_list"
   ]
  },
  {
   "cell_type": "code",
   "execution_count": null,
   "metadata": {
    "colab": {},
    "colab_type": "code",
    "id": "Jwkn2nkdp2GV",
    "scrolled": false
   },
   "outputs": [],
   "source": [
    "share_price_2019 = 400"
   ]
  },
  {
   "cell_type": "code",
   "execution_count": null,
   "metadata": {
    "colab": {},
    "colab_type": "code",
    "id": "q3_5VLkgp2GW",
    "outputId": "e97a7e1d-2a50-46a0-c111-26567577b45a",
    "scrolled": false
   },
   "outputs": [],
   "source": [
    "share_price_2019"
   ]
  },
  {
   "cell_type": "markdown",
   "metadata": {},
   "source": [
    "Variable names are **case sensitive**, so if we try to retrieve the value of a variable called ``my_Name``, Python will tell us that variable doesn't exist because we haven't declared it yet. "
   ]
  },
  {
   "cell_type": "code",
   "execution_count": null,
   "metadata": {
    "scrolled": false
   },
   "outputs": [],
   "source": [
    "my_Name"
   ]
  },
  {
   "cell_type": "markdown",
   "metadata": {
    "colab_type": "text",
    "id": "laDRj0WHp2Gr"
   },
   "source": [
    "### Variable names\n",
    "\n",
    "A reserved word in Python is a word that's either\n",
    "\n",
    "* Already the name of a built in function, like print or sum or list\n",
    "* Already the name of an operator, like and, or or, or not \n",
    "* Already the name of a type, like int \n",
    "\n",
    "Bad things happen if you try to make a variable that has the same name as a reserved word. Don't do things like this: \n",
    "\n",
    "```print = 5 \n",
    "list = [1,2,3,4]\n",
    "set = 58```\n",
    "\n",
    "This is another reason why having long, meaningful variable names is a good idea.\n",
    "\n",
    "It's a good idea to choose meaningful names for variables: although it's used in the examples above, 'x' would be a very unhelpful name for a variable in practise, because the name doesn't tell us anything about what 'x' actually is.\n",
    "\n",
    "Better examples of variable names (depending on the application) could be:"
   ]
  },
  {
   "cell_type": "code",
   "execution_count": null,
   "metadata": {
    "colab": {},
    "colab_type": "code",
    "id": "aB8951Xfp2Gs",
    "scrolled": false
   },
   "outputs": [],
   "source": [
    "user_age = 29\n",
    "user_name = 'Sarah'\n",
    "days_in_year = 365"
   ]
  },
  {
   "cell_type": "markdown",
   "metadata": {
    "colab_type": "text",
    "id": "aUWo0n_Kp2Gq"
   },
   "source": [
    "Variable names must start with a letter of the alphabet or an underscore.\n",
    "\n",
    "The following are illegal names for variables:"
   ]
  },
  {
   "cell_type": "code",
   "execution_count": null,
   "metadata": {
    "scrolled": false
   },
   "outputs": [],
   "source": [
    "x: = 1.0\n",
    "1X = 1\n",
    "X-1 = 1\n",
    "for = 1"
   ]
  },
  {
   "cell_type": "markdown",
   "metadata": {
    "colab_type": "text",
    "id": "RtnYyqZJp2Gu"
   },
   "source": [
    "### What could go wrong?"
   ]
  },
  {
   "cell_type": "markdown",
   "metadata": {
    "colab_type": "text",
    "id": "V24mOeLVp2Gu"
   },
   "source": [
    "Let's take a look at what will happen if you give a variable the same name as a built-in Python function. \n",
    "\n",
    "First, let's check the 'type' of the first function we met, `print`. As expected, its type is a built-in function. "
   ]
  },
  {
   "cell_type": "code",
   "execution_count": null,
   "metadata": {
    "colab": {},
    "colab_type": "code",
    "id": "75fyL4k1p2Gx",
    "outputId": "5e089418-60b9-4d0d-aaa6-5b76891c2096",
    "scrolled": false
   },
   "outputs": [],
   "source": [
    "type(print)"
   ]
  },
  {
   "cell_type": "code",
   "execution_count": null,
   "metadata": {
    "colab": {},
    "colab_type": "code",
    "id": "3PBPFWJOp2Gy",
    "outputId": "1b0465cb-f34b-4b2d-957d-084807d02a66",
    "scrolled": false
   },
   "outputs": [],
   "source": [
    "print('hello')"
   ]
  },
  {
   "cell_type": "markdown",
   "metadata": {
    "colab_type": "text",
    "id": "NTMEab10p2G0"
   },
   "source": [
    "Now let's intentionally make a mistake. We'll create a variable called `print` and assign it a value of 4."
   ]
  },
  {
   "cell_type": "code",
   "execution_count": null,
   "metadata": {
    "colab": {},
    "colab_type": "code",
    "id": "ohzpj7IYp2G0",
    "scrolled": false
   },
   "outputs": [],
   "source": [
    "print = 4"
   ]
  },
  {
   "cell_type": "markdown",
   "metadata": {
    "colab_type": "text",
    "id": "iBQDKNimp2G1"
   },
   "source": [
    "Now, when we try to use the `print` function, Python gives us an error. That's because `print` is no longer a function; it's an integer because that's what we just did above!"
   ]
  },
  {
   "cell_type": "code",
   "execution_count": null,
   "metadata": {
    "colab": {},
    "colab_type": "code",
    "id": "ONF8rlMxp2G2",
    "outputId": "0a0e6ec2-3546-45af-b8b2-a5b8eb8efa36",
    "scrolled": false
   },
   "outputs": [],
   "source": [
    "print('hello')"
   ]
  },
  {
   "cell_type": "markdown",
   "metadata": {
    "colab_type": "text",
    "id": "IabDaX6op2G6"
   },
   "source": [
    "We can confirm this by checking the type of `print` again. Whoops."
   ]
  },
  {
   "cell_type": "code",
   "execution_count": null,
   "metadata": {
    "colab": {},
    "colab_type": "code",
    "id": "eU1TeCTtp2G6",
    "outputId": "7097b472-76fc-4b44-b66a-e53fb414f177",
    "scrolled": false
   },
   "outputs": [],
   "source": [
    "type(print)"
   ]
  },
  {
   "cell_type": "markdown",
   "metadata": {
    "colab_type": "text",
    "id": "PkQATM2Fp2G9"
   },
   "source": [
    "We can fix our mistake by deleting the variable `print` from Python's memory."
   ]
  },
  {
   "cell_type": "code",
   "execution_count": null,
   "metadata": {
    "colab": {},
    "colab_type": "code",
    "id": "GGfZu48Kp2G9",
    "scrolled": false
   },
   "outputs": [],
   "source": [
    "del print "
   ]
  },
  {
   "cell_type": "markdown",
   "metadata": {
    "colab_type": "text",
    "id": "Qv1P8wPbp2G_"
   },
   "source": [
    "Now, when we check the type of `print` we can see it's back to being a built-in function as expected."
   ]
  },
  {
   "cell_type": "code",
   "execution_count": null,
   "metadata": {
    "colab": {},
    "colab_type": "code",
    "id": "rKX-Le71p2HA",
    "outputId": "63e51ad4-f3fb-4418-deca-062d3ee05f99",
    "scrolled": false
   },
   "outputs": [],
   "source": [
    "type(print)"
   ]
  },
  {
   "cell_type": "markdown",
   "metadata": {
    "colab_type": "text",
    "id": "j5xaxec3p2Hu"
   },
   "source": [
    "<a id=\"strings\"></a>\n",
    "# <font color='blue'> Strings"
   ]
  },
  {
   "cell_type": "markdown",
   "metadata": {
    "colab_type": "text",
    "id": "wH2EwhTCp2Hv"
   },
   "source": [
    "Strings are essentially any character combination in between quotes. They are most often used as a way of storing text. Strings are used frequently, because most of the data that humans create are text-based, such as restaurant reviews or emails."
   ]
  },
  {
   "cell_type": "code",
   "execution_count": null,
   "metadata": {
    "colab": {},
    "colab_type": "code",
    "id": "7cx0oiG6p2Hv",
    "scrolled": false
   },
   "outputs": [],
   "source": [
    "s = \"Hello world\"\n",
    "type(s)"
   ]
  },
  {
   "cell_type": "markdown",
   "metadata": {
    "colab_type": "text",
    "id": "lg4Oc1vZp2Hz"
   },
   "source": [
    "### Concatenation\n",
    "\n",
    "Two strings can be joined/added together (concatenated) using the **+** operator:"
   ]
  },
  {
   "cell_type": "code",
   "execution_count": null,
   "metadata": {
    "colab": {},
    "colab_type": "code",
    "id": "YtNGyfk0p2Hz",
    "scrolled": false
   },
   "outputs": [],
   "source": [
    "\"Hello, \" + \"world!\""
   ]
  },
  {
   "cell_type": "markdown",
   "metadata": {
    "colab_type": "text",
    "id": "oh8EbWkRp2H0"
   },
   "source": [
    "This joining together of strings is very simple; however if you want words split by a space you have to put the space in. Here are some examples"
   ]
  },
  {
   "cell_type": "code",
   "execution_count": null,
   "metadata": {
    "colab": {},
    "colab_type": "code",
    "id": "CxXuqxSFp2H0",
    "scrolled": false
   },
   "outputs": [],
   "source": [
    "\"Hello, \"   +  \"world!\" # space after the comma"
   ]
  },
  {
   "cell_type": "code",
   "execution_count": null,
   "metadata": {
    "colab": {},
    "colab_type": "code",
    "id": "av9fSCf8p2H2",
    "scrolled": false
   },
   "outputs": [],
   "source": [
    "\"Hello,\"  +  \" world!\" # space before second word"
   ]
  },
  {
   "cell_type": "markdown",
   "metadata": {
    "colab_type": "text",
    "id": "ewnxDEHZp2H3"
   },
   "source": [
    "### Converting strings to integers\n",
    "\n",
    "Strings can be converted to integers using the built-in function 'int', but only when we're asking Python to perform a sensible conversion!"
   ]
  },
  {
   "cell_type": "code",
   "execution_count": null,
   "metadata": {
    "colab": {},
    "colab_type": "code",
    "id": "YX_pKmIwp2H4",
    "scrolled": false
   },
   "outputs": [],
   "source": [
    "type(int(\"10\"))"
   ]
  },
  {
   "cell_type": "code",
   "execution_count": null,
   "metadata": {
    "colab": {},
    "colab_type": "code",
    "id": "8JZcivRPp2H7",
    "scrolled": false
   },
   "outputs": [],
   "source": [
    "int(\"-100\")"
   ]
  },
  {
   "cell_type": "code",
   "execution_count": null,
   "metadata": {
    "colab": {},
    "colab_type": "code",
    "id": "N-2BRMa7p2H8",
    "scrolled": false
   },
   "outputs": [],
   "source": [
    "int(\"100-10\") # this gives an error"
   ]
  },
  {
   "cell_type": "code",
   "execution_count": null,
   "metadata": {
    "colab": {},
    "colab_type": "code",
    "id": "QP4Cm10Gp2H9",
    "scrolled": false
   },
   "outputs": [],
   "source": [
    "int(\"Shrubbery\") # so does this!"
   ]
  },
  {
   "cell_type": "markdown",
   "metadata": {
    "colab_type": "text",
    "id": "WYJGLHANp2IG"
   },
   "source": [
    "### String Indexing\n",
    "\n",
    "In some cases, we may want a part of the string (like the first character for alphabetizing or categorizing). Indexing helps us do that.\n",
    "\n",
    "We can extract characters at specific index locations in a string using indexing."
   ]
  },
  {
   "cell_type": "code",
   "execution_count": null,
   "metadata": {
    "colab": {},
    "colab_type": "code",
    "id": "dtoaRruDp2IH",
    "scrolled": false
   },
   "outputs": [],
   "source": [
    "# Indexing the first (index 0) character in the string:\n",
    "s[0]"
   ]
  },
  {
   "cell_type": "markdown",
   "metadata": {
    "colab_type": "text",
    "id": "4q55ynJ1p2II"
   },
   "source": [
    "The number you enter after the variable name in brackets (the `[0]`) is called the index (its plural is indices).\n",
    "\n",
    "_Counting in Python and many other programming languages begins at zero, as opposed to one. This is called zero-based indexing._"
   ]
  },
  {
   "cell_type": "code",
   "execution_count": null,
   "metadata": {
    "colab": {},
    "colab_type": "code",
    "id": "A4B0Amznp2II",
    "scrolled": false
   },
   "outputs": [],
   "source": [
    "# This is called \"slicing.\" We start at the left index \n",
    "#   and go up to but not include the right index.\n",
    "\n",
    "# Objects at indexes 0, 1, and 2:\n",
    "s[0:3]"
   ]
  },
  {
   "cell_type": "markdown",
   "metadata": {
    "colab_type": "text",
    "id": "F81J-4jmp2IJ"
   },
   "source": [
    "Most ranges, or functions with ranges, have upper ends that are not inclusive. So, a range of `[0:5]` starts at `0` and stops before `5`.\n",
    "\n",
    "A good mental trick is to look at something like `[5:25]` and say out loud \"Starting at five and going up to (but not including) 25.\""
   ]
  },
  {
   "cell_type": "code",
   "execution_count": null,
   "metadata": {
    "colab": {},
    "colab_type": "code",
    "id": "bKYyPYRPp2IJ",
    "scrolled": false
   },
   "outputs": [],
   "source": [
    "# From index 6 up to the end of the string:\n",
    "s[6:]"
   ]
  },
  {
   "cell_type": "code",
   "execution_count": null,
   "metadata": {
    "colab": {},
    "colab_type": "code",
    "id": "bBPtvRvCp2IK",
    "scrolled": false
   },
   "outputs": [],
   "source": [
    "# No start or end specified:\n",
    "s[:]"
   ]
  },
  {
   "cell_type": "code",
   "execution_count": null,
   "metadata": {
    "colab": {},
    "colab_type": "code",
    "id": "73ptSTcyp2IL",
    "scrolled": false
   },
   "outputs": [],
   "source": [
    "# Can we index from the right side?\n",
    "s[-1]"
   ]
  },
  {
   "cell_type": "markdown",
   "metadata": {
    "colab_type": "text",
    "id": "Xy8J_9i_p2IM"
   },
   "source": [
    "In addition to specifying a range, you can include a step size or character skip rate. This might be helpful if you want every other letter, for example. \n",
    "\n",
    "These indexing methods can also be used on lists, where asking for every other number might be a good use case."
   ]
  },
  {
   "cell_type": "code",
   "execution_count": null,
   "metadata": {
    "colab": {},
    "colab_type": "code",
    "id": "vZvMcr2Pp2IM",
    "scrolled": false
   },
   "outputs": [],
   "source": [
    "# Every second character starting at 0 and ending at 10:\n",
    "s[0:10:2]"
   ]
  },
  {
   "cell_type": "code",
   "execution_count": null,
   "metadata": {
    "colab": {},
    "colab_type": "code",
    "id": "USj3Jb93p2IN",
    "scrolled": false
   },
   "outputs": [],
   "source": [
    "# Define a step size of 2; i.e., every other character:\n",
    "s[::2]"
   ]
  },
  {
   "cell_type": "code",
   "execution_count": null,
   "metadata": {
    "colab": {},
    "colab_type": "code",
    "id": "uI_4y1kup2IN",
    "scrolled": false
   },
   "outputs": [],
   "source": [
    "# The same, but for a list of numbers:\n",
    "[0, 1, 2, 3, 4, 5, 6][::2]"
   ]
  },
  {
   "cell_type": "markdown",
   "metadata": {
    "colab_type": "text",
    "id": "IQaVF_gDp2IP"
   },
   "source": [
    "### Escape sequences\n",
    "\n",
    "Python allows escape sequences (a backslash followed by a letter) to insert whitespace into strings."
   ]
  },
  {
   "cell_type": "code",
   "execution_count": null,
   "metadata": {
    "colab": {},
    "colab_type": "code",
    "id": "apWbqPhDp2IP",
    "scrolled": false
   },
   "outputs": [],
   "source": [
    "print(\"Hello, \\nworld\") # inserts a new line"
   ]
  },
  {
   "cell_type": "code",
   "execution_count": null,
   "metadata": {
    "colab": {},
    "colab_type": "code",
    "id": "8fty-gTQp2IQ",
    "scrolled": false
   },
   "outputs": [],
   "source": [
    "print(\"Hello,\\tworld\") # inserts a tab"
   ]
  },
  {
   "cell_type": "code",
   "execution_count": null,
   "metadata": {
    "colab": {},
    "colab_type": "code",
    "id": "WqTmsGn1p2IR",
    "scrolled": false
   },
   "outputs": [],
   "source": [
    "print(\"Hello,\\\\world\")"
   ]
  },
  {
   "cell_type": "markdown",
   "metadata": {
    "colab_type": "text",
    "id": "fD9D0mKNp2IS"
   },
   "source": [
    "### Slicing strings\n",
    "\n",
    "Slicing is a method used to extract a portion of the string, or a substring. Slicing uses square brackets and the syntax ```mystring[a:b]``` to specify which parts of the string we want to extract, where ```a``` is the index (or position) of the start of the substring and ```b-1``` is the index of the end of the substring.\n",
    "\n",
    "Python uses zero-indexing, which means the first element in a string of length ```n``` is at position 0, and the last element in the string has an index (or position) equal to ```n-1```.  "
   ]
  },
  {
   "cell_type": "code",
   "execution_count": null,
   "metadata": {
    "colab": {},
    "colab_type": "code",
    "id": "NprTxGnGp2IS",
    "scrolled": false
   },
   "outputs": [],
   "source": [
    "mystring = \"Press return to exit\"\n",
    "print(mystring[0:14])"
   ]
  },
  {
   "cell_type": "markdown",
   "metadata": {
    "colab_type": "text",
    "id": "tBUrnPpKp2IT"
   },
   "source": [
    "A string is an immutable object. Its individual characters cannot be modified with an assignment statement, and it has a fixed length. Any attempt to be violate this property will result in an error."
   ]
  },
  {
   "cell_type": "code",
   "execution_count": null,
   "metadata": {
    "colab": {},
    "colab_type": "code",
    "id": "CN8gb971p2IU",
    "scrolled": false
   },
   "outputs": [],
   "source": [
    "mystring[0]=\"p\" # attempt to change P to p"
   ]
  },
  {
   "cell_type": "markdown",
   "metadata": {
    "colab_type": "text",
    "id": "dhTeQ_Irp2IU"
   },
   "source": [
    "---\n",
    "\n",
    "## <font color='red'> Now you try\n",
    "\n",
    "1. Declare the string \"The quick brown fox jumped over the lazy dog\" as a variable called ``mystring``, and write code to extract:\n",
    "\n",
    "    (a) The following substring: \"The quick brown fo\"\n",
    "    \n",
    "    (b) The first character only\n",
    "    \n",
    "    (c) The last character only\n",
    "    \n",
    "    (d) The substring \"over the lazy dog\"\n",
    "    \n",
    "    \n",
    "2. Figure out what the following syntax does: \n",
    "\n",
    "```mystring[i:j:k]```, ```mystring[-1]```, ```mystring[:i]```, ```mystring[i:]```, ```mystring[:]```, ```mystring[-2]```\n",
    "\n",
    "3. Use the ``len`` function to find the length of the string.\n",
    "\n",
    "\n",
    "4. The following code will throw an error when you try to run it. Use escape sequences so it prints the following result:\n",
    "\n",
    "``She said \"He's awake.\"``\n"
   ]
  },
  {
   "cell_type": "code",
   "execution_count": null,
   "metadata": {
    "scrolled": false
   },
   "outputs": [],
   "source": [
    "print(\"She said \"He's awake.\"\")"
   ]
  },
  {
   "cell_type": "markdown",
   "metadata": {},
   "source": [
    "---"
   ]
  },
  {
   "cell_type": "markdown",
   "metadata": {
    "colab_type": "text",
    "id": "ExS5-EWnp2IW"
   },
   "source": [
    "<a id=\"lists\"></a>\n",
    "# <font color='blue'> Lists\n",
    "\n",
    "### What's a list?\n",
    "\n",
    "Lists are compound data types. This means they are sequences of values, where each element can be of any type. The syntax for creating a list is ``[...]`` where each element is separated with a comma."
   ]
  },
  {
   "cell_type": "code",
   "execution_count": null,
   "metadata": {
    "colab": {},
    "colab_type": "code",
    "id": "dWJFzhplp2IW",
    "outputId": "ab980a89-33c7-451f-f3ef-20e66e10463c",
    "scrolled": false
   },
   "outputs": [],
   "source": [
    "list_of_stuff = ['Pizza',5,42.0,True]\n",
    "list_of_stuff"
   ]
  },
  {
   "cell_type": "markdown",
   "metadata": {
    "colab_type": "text",
    "id": "V1VXTP6fp2IY"
   },
   "source": [
    "Unlike strings, lists are mutable. This means their contents can be changed after creation."
   ]
  },
  {
   "cell_type": "code",
   "execution_count": null,
   "metadata": {
    "colab": {},
    "colab_type": "code",
    "id": "rML0b86fp2IY",
    "outputId": "de68ab49-3826-4349-e441-6544654eea73",
    "scrolled": false
   },
   "outputs": [],
   "source": [
    "list_of_stuff[0]=\"hello\"\n",
    "list_of_stuff"
   ]
  },
  {
   "cell_type": "markdown",
   "metadata": {
    "colab_type": "text",
    "id": "6HZIte3Vp2IZ"
   },
   "source": [
    "We can index lists in exactly the same way as strings."
   ]
  },
  {
   "cell_type": "code",
   "execution_count": null,
   "metadata": {
    "colab": {},
    "colab_type": "code",
    "id": "p970EOZdp2IZ",
    "outputId": "8b31acae-077c-4668-819f-bb3207cf31bc",
    "scrolled": false
   },
   "outputs": [],
   "source": [
    "primes = [ 2, 3, 5, 7, 11, 13, 17, 19]\n",
    "primes[0]"
   ]
  },
  {
   "cell_type": "markdown",
   "metadata": {
    "colab_type": "text",
    "id": "ov-A76ynp2Ib"
   },
   "source": [
    "We can append items to the end of a list using the 'append' **method** (we'll come back to methods later)."
   ]
  },
  {
   "cell_type": "code",
   "execution_count": null,
   "metadata": {
    "colab": {},
    "colab_type": "code",
    "id": "GLKE0q8kp2Ib",
    "outputId": "e3f0841e-7fce-45aa-ea19-6b0282b85d1f",
    "scrolled": false
   },
   "outputs": [],
   "source": [
    "b=['peter','piper']\n",
    "b.append(10)\n",
    "b"
   ]
  },
  {
   "cell_type": "markdown",
   "metadata": {
    "colab_type": "text",
    "id": "24DE5nFwp2Ic"
   },
   "source": [
    "To determine the length of a list; the earlier function len used for strings, can be used here."
   ]
  },
  {
   "cell_type": "code",
   "execution_count": null,
   "metadata": {
    "colab": {},
    "colab_type": "code",
    "id": "ASWluKCfp2Ic",
    "outputId": "5e86e93f-e44e-4820-a07c-4934aae2fa7e",
    "scrolled": false
   },
   "outputs": [],
   "source": [
    "primes = [ 2, 3, 5, 7, 11, 13, 17, 19] # index runs from 0 to 7 incl.\n",
    "len(primes)"
   ]
  },
  {
   "cell_type": "markdown",
   "metadata": {
    "colab_type": "text",
    "id": "EgsZVKYbp2If"
   },
   "source": [
    "Note that we always read indexing from left to right. In the example above, the interpreter looks up names and gets the first element, which is the string \"Anne\". Then, the slice ([1:]) adds the first index of that string to the end of the original string, evaluating to \"nne\".\n"
   ]
  },
  {
   "cell_type": "code",
   "execution_count": null,
   "metadata": {
    "colab": {},
    "colab_type": "code",
    "id": "t1iTPVI6p2If",
    "outputId": "e348d87b-0f10-473e-8ade-94ac47b3c105",
    "scrolled": false
   },
   "outputs": [],
   "source": [
    "['Carol', 'Anne', 'Jessica', 'Michelle'][1][1:]"
   ]
  },
  {
   "cell_type": "markdown",
   "metadata": {
    "colab_type": "text",
    "id": "bXk83CuSp2Ig"
   },
   "source": [
    "---\n",
    "\n",
    "## <font color='red'> Now you try\n",
    "\n",
    "1. Given the list below, write code to extract:\n",
    "\n",
    "    (a) The first element\n",
    "\n",
    "    (b) The last element\n",
    "\n",
    "    (c) The substring 'ban' from the last element\n",
    "\n",
    "    (d) The slice ``['a','d',1,3]`` from the list\n",
    "\n",
    "    (e) The slice ``['a','e',3]`` from the list\n",
    "    \n",
    "\n",
    "2. Append an extra element, 'apples', to the list\n",
    "\n",
    "\n",
    "3. Replace the first element of the list with the number 5\n",
    "\n",
    "\n",
    "4. Reverse the order of elements in the list (you might need to Google around a bit to get the solution)\n",
    "\n",
    "\n",
    "5. Use the ``len`` function to find the length of the list."
   ]
  },
  {
   "cell_type": "code",
   "execution_count": null,
   "metadata": {
    "colab": {},
    "colab_type": "code",
    "id": "im2VgADzp2Ig",
    "scrolled": false
   },
   "outputs": [],
   "source": [
    "mylist = ['a','b','d','e',1,2,3,'124','bananas']"
   ]
  },
  {
   "cell_type": "markdown",
   "metadata": {},
   "source": [
    "---"
   ]
  },
  {
   "cell_type": "markdown",
   "metadata": {
    "colab_type": "text",
    "id": "j3YF-c0Qp2Ii"
   },
   "source": [
    "<a id=\"dictionaries\"></a>\n",
    "# <font color='blue'> Dictionaries \n",
    "\n",
    "Dictionaries are an alternative to lists for storing and accessing information. Instead of using an ordered index to access data stored in a dictionary, we use a system of key-value pairs.\n",
    "\n",
    "A key is similar to a variable name.\n",
    "\n",
    "A value is similar to the value assigned to the variable.\n",
    "\n",
    "Instead of looking up (or 'indexing') values in a dictionary using numerical indices (e.g. ``mylist[0]``), we access elements in a dictionary using words, or keys.\n",
    "\n",
    "We create dictionaries using curly brackets ``{}``. Remember this is different to the syntax for creating lists, which is ``[]``. \n",
    "\n",
    "Let's start by making a dictionary that contains the favourite foods of some people."
   ]
  },
  {
   "cell_type": "code",
   "execution_count": null,
   "metadata": {
    "colab": {},
    "colab_type": "code",
    "id": "6Q5U06wbp2Ii",
    "scrolled": false
   },
   "outputs": [],
   "source": [
    "favourite_foods_dictionary = {'Alice': 'ramen',\n",
    "                             'Bob': 'pizza',\n",
    "                             'Sarah': 'curry' }\n"
   ]
  },
  {
   "cell_type": "code",
   "execution_count": null,
   "metadata": {
    "scrolled": false
   },
   "outputs": [],
   "source": [
    "type(favourite_foods_dictionary)"
   ]
  },
  {
   "cell_type": "code",
   "execution_count": null,
   "metadata": {
    "colab": {},
    "colab_type": "code",
    "id": "_e7DcC40p2Ij",
    "scrolled": false
   },
   "outputs": [],
   "source": [
    "favourite_foods_dictionary['Alice']"
   ]
  },
  {
   "cell_type": "markdown",
   "metadata": {
    "colab_type": "text",
    "id": "Hn6RZuOAp2Ij"
   },
   "source": [
    "The keys stay the same  in a dictionary, but the values are changeable:"
   ]
  },
  {
   "cell_type": "code",
   "execution_count": null,
   "metadata": {
    "colab": {},
    "colab_type": "code",
    "id": "1Hq94876p2Ik",
    "scrolled": false
   },
   "outputs": [],
   "source": [
    "favourite_foods_dictionary['Bob'] = 'fish and chips'"
   ]
  },
  {
   "cell_type": "markdown",
   "metadata": {},
   "source": [
    "Adding a new dictionary entry is easy:"
   ]
  },
  {
   "cell_type": "code",
   "execution_count": null,
   "metadata": {
    "colab": {},
    "colab_type": "code",
    "id": "FRZTNpopp2Ik",
    "scrolled": false
   },
   "outputs": [],
   "source": [
    "favourite_foods_dictionary['Dave'] = 'sushi'"
   ]
  },
  {
   "cell_type": "markdown",
   "metadata": {
    "colab_type": "text",
    "id": "l_xg-2avp2Im"
   },
   "source": [
    "We can also nest elements in a dictionary; so an element in a dictionary can contain a list, or even another dictionary."
   ]
  },
  {
   "cell_type": "code",
   "execution_count": null,
   "metadata": {
    "colab": {},
    "colab_type": "code",
    "id": "WBu_oJMRp2Im",
    "scrolled": false
   },
   "outputs": [],
   "source": [
    "favourite_things_dictionary = {'Alice': 'ramen',\n",
    "                             'Bob': ['dim sum','hotpot','noodles'],\n",
    "                             'Sarah': {'food':'lasagna','drink':'coke'}}"
   ]
  },
  {
   "cell_type": "markdown",
   "metadata": {},
   "source": [
    "So to find Bob's top favourite food..."
   ]
  },
  {
   "cell_type": "code",
   "execution_count": null,
   "metadata": {
    "colab": {},
    "colab_type": "code",
    "id": "BpzHwztIp2In",
    "outputId": "df7cc888-71f7-4443-d2f6-d6e69d292789",
    "scrolled": false
   },
   "outputs": [],
   "source": [
    "favourite_things_dictionary['Bob'][0]"
   ]
  },
  {
   "cell_type": "markdown",
   "metadata": {},
   "source": [
    "And to find Sarah's favourite drink..."
   ]
  },
  {
   "cell_type": "code",
   "execution_count": null,
   "metadata": {
    "scrolled": false
   },
   "outputs": [],
   "source": [
    "favourite_things_dictionary['Sarah']['drink']"
   ]
  },
  {
   "cell_type": "markdown",
   "metadata": {
    "colab_type": "text",
    "id": "BjxrQY22p2Io"
   },
   "source": [
    "Elements of dictionaries can also contain multiple types: strings, ints, lists, and dictionaries."
   ]
  },
  {
   "cell_type": "code",
   "execution_count": null,
   "metadata": {
    "colab": {},
    "colab_type": "code",
    "id": "G7hhdLNOp2Io",
    "scrolled": false
   },
   "outputs": [],
   "source": [
    "people_information_dictionary = {'Alice': {'food':'pizza',\n",
    "                                           'drink':['coffee','orange juice','tea'],\n",
    "                                           'age':29},\n",
    "                               'Bob': {'food':'dim sum',\n",
    "                                          'drink':'water',\n",
    "                                          'age': 21},\n",
    "                               'Sarah': {'food':'lasagna',\n",
    "                                         'drink': 'green tea',\n",
    "                                         'age': 22}}"
   ]
  },
  {
   "cell_type": "markdown",
   "metadata": {},
   "source": [
    "---\n",
    "\n",
    "## <font color='red'> Now you try\n",
    "    \n",
    "Can you retrieve the following from the `people_information_dictionary` defined above?\n",
    "\n",
    "* Bob's favourite food\n",
    "* Sarah's age\n",
    "* Alice's 3rd favourite drink\n",
    "\n",
    "Here's a dictionary that contains other dictionaries. Using a combination of keys and (where necessary) list indexing, can you retrieve the following information from `company_info_dictionary`?\n",
    "\n",
    "* The number of companies in the dataset\n",
    "* The number of employees at Wiiwork\n",
    "* MeTube's founder\n",
    "* The 2nd of Bloogle's founders\n",
    "* All of Bloogle's office locations\n",
    "* The first name of Wiiwork's first founder\n"
   ]
  },
  {
   "cell_type": "code",
   "execution_count": null,
   "metadata": {
    "scrolled": false
   },
   "outputs": [],
   "source": [
    "company_info_dictionary = {'meta_data':{'number_of_companies':3,\n",
    "                                       'data_last_updated':'12/01/2020'},\n",
    "                           \n",
    "                          'company_data':[{'name':'Wiiwork',\n",
    "                                         'employees':230,\n",
    "                                         'office_locations':['New York'],\n",
    "                                         'founders':['Andy Newman','Mike MacIntyre']},\n",
    "                                          \n",
    "                                          {'name':'MeTube',\n",
    "                                         'employees':100,\n",
    "                                         'location':['San Francisco','London'],\n",
    "                                         'founders':['Sarah Williams']},\n",
    "                                          \n",
    "                                          {'name':'Bloogle',\n",
    "                                         'employees':5001,\n",
    "                                         'location':['Mountain View','New York','Paris','London'],\n",
    "                                         'founders':['Steve Brine','Lee Peterson']}                                          \n",
    "                                          \n",
    "                                         ]}\n"
   ]
  },
  {
   "cell_type": "markdown",
   "metadata": {
    "colab_type": "text",
    "id": "xObTrubwp2Is"
   },
   "source": [
    "<a id=\"libraries\"></a>\n",
    "# <font color='blue'> Libraries\n",
    "\n",
    "### What's a library?\n",
    "\n",
    "In programming, a library is a big bundle of code snippets (or functions) that someone else has written and made freely available for other people to download and modify (open source culture again!). A single library will usually be designed to help people write code for specific applications or purposes. For example:\n",
    "\n",
    "* Pandas is a library for data science\n",
    "* Numpy is a library for numerical computing\n",
    "* NLTK is a library for natural language processing\n",
    "* Tensorflow is a machine learning library released by Google\n",
    "\n",
    "Let's say we have a list, and we'd like to use the statistics and/or numpy libraries to compute the median and mean of that list. The numpy and statistics libraries both offer functions that make this easy. \n",
    "\n",
    "Let's run numpy's `mean` function to get the mean of a list... "
   ]
  },
  {
   "cell_type": "code",
   "execution_count": null,
   "metadata": {
    "scrolled": false
   },
   "outputs": [],
   "source": [
    "my_list = [1,2,3,4,5]\n"
   ]
  },
  {
   "cell_type": "code",
   "execution_count": null,
   "metadata": {
    "scrolled": false
   },
   "outputs": [],
   "source": [
    "mylist = [1,12,15,19,20]\n",
    "numpy.mean(mylist)"
   ]
  },
  {
   "cell_type": "markdown",
   "metadata": {
    "colab_type": "text",
    "id": "gfp2UzS0p2Is"
   },
   "source": [
    "### Importing libraries\n",
    "\n",
    "Whoops! Before Python can access a library's functions, we need to ``import`` or 'load' the library. \n",
    "\n",
    "There are several ways to import libraries.\n",
    "\n",
    "Avoid importing libraries like this, it's clunky and ugly and wastes time"
   ]
  },
  {
   "cell_type": "code",
   "execution_count": null,
   "metadata": {
    "colab": {},
    "colab_type": "code",
    "id": "hZ4-Ye0fp2It",
    "outputId": "5b0dfa0d-e94c-401c-dec7-7ab9a42000fd",
    "scrolled": false
   },
   "outputs": [],
   "source": [
    "import numpy \n",
    "\n",
    "\n",
    "numpy.mean(mylist)\n",
    "numpy.median(mylist)"
   ]
  },
  {
   "cell_type": "markdown",
   "metadata": {
    "colab_type": "text",
    "id": "7V9WcBwjp2It"
   },
   "source": [
    "This will next method will work, but can lead to confusion with other libraries/you don't know where the function has come from "
   ]
  },
  {
   "cell_type": "code",
   "execution_count": null,
   "metadata": {
    "colab": {},
    "colab_type": "code",
    "id": "Y2zWELe5p2It",
    "scrolled": false
   },
   "outputs": [],
   "source": [
    "from numpy import *\n",
    "from statistics import *\n",
    "\n",
    "median(mylist)\n",
    "mean(mylist)"
   ]
  },
  {
   "cell_type": "markdown",
   "metadata": {
    "colab_type": "text",
    "id": "9P77JW_Sp2Iv"
   },
   "source": [
    "This last method is best practise"
   ]
  },
  {
   "cell_type": "code",
   "execution_count": null,
   "metadata": {
    "colab": {},
    "colab_type": "code",
    "id": "sMv6F0Y6p2Iv",
    "scrolled": false
   },
   "outputs": [],
   "source": [
    "import numpy as np\n",
    "import statistics as stats\n",
    "\n",
    "np.median(mylist)\n",
    "np.mean(mylist)\n",
    "\n",
    "stats.median(mylist)\n",
    "stats.mean(mylist)"
   ]
  },
  {
   "cell_type": "markdown",
   "metadata": {
    "colab_type": "text",
    "id": "aYdbnSkDp2Ix"
   },
   "source": [
    "Usually, all the library imports will happen at the very top of a Python notebook or script, but for the purposes of this class this won't be the case"
   ]
  },
  {
   "cell_type": "markdown",
   "metadata": {
    "colab_type": "text",
    "id": "1Yyskq6cp2Ix"
   },
   "source": [
    "---\n",
    "\n",
    "## <font color='red'> Now you try\n",
    "\n",
    "1. Import the ``statistics`` library as ``stats`` and the ``numpy`` library as ``np``.\n",
    "\n",
    "\n",
    "2. Use ``stats.mean()`` and ``stats.median()`` to calculate the mean and median of this list of values: ``[1.5, 2.3, 6.7, 8, 10]``\n",
    "\n",
    "\n",
    "3. Repeat these calculations using the 'numpy' library and confirm the results are the same.\n",
    "\n",
    "\n",
    "4. Import the `math` library without giving it a short name, and try out its ``sqrt`` and ``exp`` functions to calculate the square root of 12\n"
   ]
  },
  {
   "cell_type": "markdown",
   "metadata": {},
   "source": [
    "---"
   ]
  },
  {
   "cell_type": "markdown",
   "metadata": {},
   "source": [
    "<a id=\"functions\"></a>\n",
    "# <font color='blue'> Functions\n",
    "    \n",
    "Functions in programming are a lot like mathematical functions. \n",
    "\n",
    "They take one or more inputs, do something to those inputs and then return one or more outputs.\n",
    "\n",
    "In Python, there are built in functions (like ``print``) and library functions (like ``math.sqrt``), but we can also write our own functions to perform more specialised tasks.\n",
    "\n",
    "You can think of writing a function as being similar to building a machine that takes inputs, transforms them, and gives you outputs. \n",
    "\n",
    "A function has to be defined first, and then called- just like a machine has to be built before you can use it.\n",
    "\n",
    "The syntax and structure to define a function must include:\n",
    "\n",
    "* The def keyword, followed by the function’s name\n",
    "* The arguments of the function are given between parentheses followed by a colon\n",
    "* The function body, correctly indented\n",
    "* Optionally, the return statement\n",
    "\n",
    "We can define a simple function to square a number as follows."
   ]
  },
  {
   "cell_type": "code",
   "execution_count": null,
   "metadata": {
    "scrolled": false
   },
   "outputs": [],
   "source": [
    "def square(x):\n",
    "    return x**2"
   ]
  },
  {
   "cell_type": "markdown",
   "metadata": {},
   "source": [
    "Defining the function can be thought of as 'building the machine'. Now our machine is built, we can use it with our own inputs.\n",
    "\n",
    "We can feed inputs directly into the function, and the output will be whatever is in the ``return`` statement."
   ]
  },
  {
   "cell_type": "code",
   "execution_count": null,
   "metadata": {
    "scrolled": false
   },
   "outputs": [],
   "source": [
    "square(5)"
   ]
  },
  {
   "cell_type": "markdown",
   "metadata": {},
   "source": [
    "Or we can declare the inputs as variables, and then feed them into the function."
   ]
  },
  {
   "cell_type": "code",
   "execution_count": null,
   "metadata": {
    "scrolled": false
   },
   "outputs": [],
   "source": [
    "x = 5\n",
    "square(x)"
   ]
  },
  {
   "cell_type": "markdown",
   "metadata": {},
   "source": [
    "This works regardless of what variable name we give our inputs. The ``x`` in our function definition is just a placeholder."
   ]
  },
  {
   "cell_type": "code",
   "execution_count": null,
   "metadata": {
    "scrolled": false
   },
   "outputs": [],
   "source": [
    "y = 6\n",
    "square(6)"
   ]
  },
  {
   "cell_type": "markdown",
   "metadata": {},
   "source": [
    "We can also assign the output of a function to a variable. The variable will take the value of whatever is in the ``return`` statement of our function."
   ]
  },
  {
   "cell_type": "code",
   "execution_count": null,
   "metadata": {
    "scrolled": false
   },
   "outputs": [],
   "source": [
    "y = 6\n",
    "squared_number = square(y)\n",
    "print(squared_number)"
   ]
  },
  {
   "cell_type": "markdown",
   "metadata": {},
   "source": [
    "We can't access the value of anything in our function that isn't part of the ``return`` statement. All variable names inside a function are **internal to that function** and won't be recognised outside the function unless they're part of the ``return`` statement.\n",
    "\n",
    "\n",
    "A function stops running as soon as it hits a ``return`` statement, so ``return`` should always be in the last line of your function; anything below this won't be executed."
   ]
  },
  {
   "cell_type": "code",
   "execution_count": null,
   "metadata": {
    "scrolled": false
   },
   "outputs": [],
   "source": [
    "def number_powers(z):\n",
    "    \n",
    "    squared = z**2\n",
    "    cubed = z**3\n",
    "    \n",
    "    return squared\n",
    "    "
   ]
  },
  {
   "cell_type": "code",
   "execution_count": null,
   "metadata": {
    "scrolled": false
   },
   "outputs": [],
   "source": [
    "number_powers_result = number_powers(2)"
   ]
  },
  {
   "cell_type": "code",
   "execution_count": null,
   "metadata": {
    "scrolled": false
   },
   "outputs": [],
   "source": [
    "cubed"
   ]
  },
  {
   "cell_type": "markdown",
   "metadata": {},
   "source": [
    "If we want the function to return ``cubed`` as well as squared, we need to add it to the ``return`` statement."
   ]
  },
  {
   "cell_type": "code",
   "execution_count": null,
   "metadata": {
    "scrolled": false
   },
   "outputs": [],
   "source": [
    "def number_powers(z):\n",
    "    \n",
    "    squared = z**2\n",
    "    cubed = z**3\n",
    "    \n",
    "    return squared, cubed"
   ]
  },
  {
   "cell_type": "code",
   "execution_count": null,
   "metadata": {
    "scrolled": false
   },
   "outputs": [],
   "source": [
    "squared, cubed = number_powers(3)\n",
    "print(squared, cubed)"
   ]
  },
  {
   "cell_type": "markdown",
   "metadata": {},
   "source": [
    "Functions can have multiple inputs and multiple outputs. Just make sure the inputs are inside the round brackets in the first line of the ``def`` statement, and all outputs are part of the ``return`` statement."
   ]
  },
  {
   "cell_type": "code",
   "execution_count": null,
   "metadata": {
    "scrolled": false
   },
   "outputs": [],
   "source": [
    "def add_three_numbers(a,b,c):\n",
    "    \n",
    "    sum_1 = a+b\n",
    "    sum_2 = a+c\n",
    "    sum_3 = b+c\n",
    "    \n",
    "    return sum_1, sum_2, sum_3"
   ]
  },
  {
   "cell_type": "code",
   "execution_count": null,
   "metadata": {
    "scrolled": false
   },
   "outputs": [],
   "source": [
    "add_three_numbers(5,6,7)"
   ]
  },
  {
   "cell_type": "markdown",
   "metadata": {},
   "source": [
    "It's also possible to have a function without a ``return`` statement. This means a variable won't be explicitly returned by the function, but we can still view the results of the calculations inside the function using ``print`` statements."
   ]
  },
  {
   "cell_type": "code",
   "execution_count": null,
   "metadata": {
    "scrolled": false
   },
   "outputs": [],
   "source": [
    "def multiply_three_numbers(a,b,c):\n",
    "    \n",
    "    multiply_1 = a*b\n",
    "    multiply_2 = a*c\n",
    "    multiply_3 = b*c\n",
    "    \n",
    "    print(multiply_1,multiply_2,multiply_3)\n",
    "    "
   ]
  },
  {
   "cell_type": "code",
   "execution_count": null,
   "metadata": {
    "scrolled": false
   },
   "outputs": [],
   "source": [
    "multiply_three_numbers(3,4,5)"
   ]
  },
  {
   "cell_type": "markdown",
   "metadata": {},
   "source": [
    "Another way of calling this function and assigning the outputs to variables would be:"
   ]
  },
  {
   "cell_type": "code",
   "execution_count": null,
   "metadata": {
    "scrolled": false
   },
   "outputs": [],
   "source": [
    "multiply_1,multiply_2,multiply_3 = multiply_three_numbers(3,4,5)"
   ]
  },
  {
   "cell_type": "markdown",
   "metadata": {},
   "source": [
    "Again, the names of the outputs could be anything we want. Variable names are **internal to a function** and the input/output names we use when calling a function can be whatever we like. "
   ]
  },
  {
   "cell_type": "markdown",
   "metadata": {},
   "source": [
    "---\n",
    "\n",
    "## <font color='red'> Now you try\n",
    "\n",
    "Let's write a function to calculate the final value of an investment that's accruing compound interest.\n",
    "\n",
    "This is described by the formula:\n",
    "\n",
    "$$TV = PV(1+r)^n$$\n",
    "\n",
    "Where\n",
    "\n",
    "$TV$ is the final value of the investment\n",
    "\n",
    "$PV$ is the initial investment\n",
    "\n",
    "$r$ is the interest rate per year \n",
    "\n",
    "$n$ is the number of years\n",
    "\n",
    "1. Write a function that computes the final value of an investment, given the initial investment, interest rate, and number of years.\n",
    "\n",
    "\n",
    "2. Use your function to compute the final value of a £130 investment, assuming an interest rate of 3% over 5 years.\n",
    "\n",
    "\n",
    "3. Write a function that computes the number of years needed for an investment reach a given multiple of its initial value, also given the interest rate. (**hint: you'll need to rearrange the formula to make $n$ the subject**, and you'll need the ``math`` library)\n",
    "\n",
    "\n",
    "4. Use your function to work out how many years are needed for an investment to double in value, assuming an interest rate of 0.01%"
   ]
  },
  {
   "cell_type": "markdown",
   "metadata": {},
   "source": [
    "---"
   ]
  },
  {
   "cell_type": "markdown",
   "metadata": {},
   "source": [
    "<a id=\"loops\"></a>\n",
    "# <font color='blue'> Boolean logic, Loops and If Statements\n",
    "    \n",
    "<a id=\"bool\"></a>\n",
    "## Boolean logic\n",
    "\n",
    "Boolean logic allows us to test whether a statement is true or false.\n",
    "\n",
    "The results of a Boolean logical test is always either ``True`` or ``False``; these two values have their own special type, the ``bool`` or Boolean type."
   ]
  },
  {
   "cell_type": "code",
   "execution_count": null,
   "metadata": {
    "scrolled": false
   },
   "outputs": [],
   "source": [
    "type(True)"
   ]
  },
  {
   "cell_type": "code",
   "execution_count": null,
   "metadata": {
    "scrolled": false
   },
   "outputs": [],
   "source": [
    "type(False)"
   ]
  },
  {
   "cell_type": "markdown",
   "metadata": {},
   "source": [
    "Some examples of logical tests are shown below. Just like we can use arithmetic operators (``+``, ``-`` etc) to perform calculations, Boolean logic has its own set of operators to perform logical tests:"
   ]
  },
  {
   "cell_type": "markdown",
   "metadata": {},
   "source": [
    "**Equal to**"
   ]
  },
  {
   "cell_type": "code",
   "execution_count": null,
   "metadata": {
    "scrolled": false
   },
   "outputs": [],
   "source": [
    "6==10 "
   ]
  },
  {
   "cell_type": "markdown",
   "metadata": {},
   "source": [
    "**Greater than**"
   ]
  },
  {
   "cell_type": "code",
   "execution_count": null,
   "metadata": {
    "scrolled": false
   },
   "outputs": [],
   "source": [
    "6 > 10"
   ]
  },
  {
   "cell_type": "markdown",
   "metadata": {},
   "source": [
    "**Less than**"
   ]
  },
  {
   "cell_type": "code",
   "execution_count": null,
   "metadata": {
    "scrolled": false
   },
   "outputs": [],
   "source": [
    "6 < 10"
   ]
  },
  {
   "cell_type": "markdown",
   "metadata": {},
   "source": [
    "**Not equal to**"
   ]
  },
  {
   "cell_type": "code",
   "execution_count": null,
   "metadata": {
    "scrolled": false
   },
   "outputs": [],
   "source": [
    "6 != 10"
   ]
  },
  {
   "cell_type": "markdown",
   "metadata": {},
   "source": [
    "**Greater than or equal to**"
   ]
  },
  {
   "cell_type": "code",
   "execution_count": null,
   "metadata": {
    "scrolled": false
   },
   "outputs": [],
   "source": [
    "3 >= 4"
   ]
  },
  {
   "cell_type": "markdown",
   "metadata": {},
   "source": [
    "**Less than or equal to**"
   ]
  },
  {
   "cell_type": "code",
   "execution_count": null,
   "metadata": {
    "scrolled": false
   },
   "outputs": [],
   "source": [
    "4 <= 4"
   ]
  },
  {
   "cell_type": "markdown",
   "metadata": {},
   "source": [
    "## The ``and``, ``or`` and ``not`` operators\n",
    "\n",
    "These three operators can be used to compare and combine the results of more than one logical test. The results of an ``and``, ``or``, or ``not`` operation is also a Boolean; that is, ``True`` or ``False``.\n",
    "\n",
    "### The ``and`` operator\n",
    "\n",
    "The result of an ``and`` operation is ``True`` if **both inputs** are ``True``, and ``False`` otherwise.\n",
    "\n",
    "``True`` **and** ``True`` $\\longrightarrow$ ``True``\n",
    "\n",
    "\n",
    "``True`` **and** ``False`` $\\longrightarrow$ ``False``\n",
    "\n",
    "\n",
    "``False`` **and** ``True`` $\\longrightarrow$ ``False``\n",
    "\n",
    "\n",
    "``False`` **and** ``False`` $\\longrightarrow$ ``False``\n"
   ]
  },
  {
   "cell_type": "code",
   "execution_count": null,
   "metadata": {
    "scrolled": false
   },
   "outputs": [],
   "source": [
    "6<10 and 5>2"
   ]
  },
  {
   "cell_type": "code",
   "execution_count": null,
   "metadata": {
    "scrolled": false
   },
   "outputs": [],
   "source": [
    "6<10 and 5<2"
   ]
  },
  {
   "cell_type": "code",
   "execution_count": null,
   "metadata": {
    "scrolled": false
   },
   "outputs": [],
   "source": [
    "6==10 and 5<2"
   ]
  },
  {
   "cell_type": "markdown",
   "metadata": {},
   "source": [
    "### The ``or`` operator\n",
    "\n",
    "The result of an ``or`` operation is ``True`` if **either or both inputs** are ``True``, and ``False`` otherwise.\n",
    "\n",
    "\n",
    "``True`` **or** ``True`` $\\longrightarrow$ ``True``\n",
    "\n",
    "\n",
    "``True`` **or** ``False`` $\\longrightarrow$ ``True``\n",
    "\n",
    "\n",
    "``False`` **or** ``True`` $\\longrightarrow$ ``True``\n",
    "\n",
    "\n",
    "``False`` **or** ``False`` $\\longrightarrow$ ``False``"
   ]
  },
  {
   "cell_type": "code",
   "execution_count": null,
   "metadata": {
    "scrolled": false
   },
   "outputs": [],
   "source": [
    "6<10 or 5>2"
   ]
  },
  {
   "cell_type": "code",
   "execution_count": null,
   "metadata": {
    "scrolled": false
   },
   "outputs": [],
   "source": [
    "6<10 or 5<2"
   ]
  },
  {
   "cell_type": "code",
   "execution_count": null,
   "metadata": {
    "scrolled": false
   },
   "outputs": [],
   "source": [
    "6==10 or 5<2"
   ]
  },
  {
   "cell_type": "markdown",
   "metadata": {},
   "source": [
    "### The ``not`` operator\n",
    "\n",
    "A ``not`` operation takes the result of a logical test and flips it.\n",
    "\n",
    "**not** ``True`` $\\longrightarrow$ ``False``\n",
    "\n",
    "**not** ``False`` $\\longrightarrow$ ``True``"
   ]
  },
  {
   "cell_type": "code",
   "execution_count": null,
   "metadata": {
    "scrolled": false
   },
   "outputs": [],
   "source": [
    "not (6>10)"
   ]
  },
  {
   "cell_type": "code",
   "execution_count": null,
   "metadata": {
    "scrolled": false
   },
   "outputs": [],
   "source": [
    "not (10>6)"
   ]
  },
  {
   "cell_type": "code",
   "execution_count": null,
   "metadata": {
    "scrolled": false
   },
   "outputs": [],
   "source": [
    "not((5 < 3) and ((6 <= 6) or (5 != 6)))"
   ]
  },
  {
   "cell_type": "markdown",
   "metadata": {},
   "source": [
    "---\n",
    "\n",
    "## <font color='red'> Now you try\n",
    "\n",
    "Predict what the outcomes of these logical tests will be, then run the cells to check your predictions."
   ]
  },
  {
   "cell_type": "code",
   "execution_count": null,
   "metadata": {
    "scrolled": false
   },
   "outputs": [],
   "source": [
    "(6 <= 6) and (5 < 3)"
   ]
  },
  {
   "cell_type": "code",
   "execution_count": null,
   "metadata": {
    "scrolled": false
   },
   "outputs": [],
   "source": [
    "3 < 2 or 45 % 3 == 15"
   ]
  },
  {
   "cell_type": "code",
   "execution_count": null,
   "metadata": {
    "scrolled": false
   },
   "outputs": [],
   "source": [
    "60 - 45 / 5 + 10 == 1"
   ]
  },
  {
   "cell_type": "code",
   "execution_count": null,
   "metadata": {
    "scrolled": false
   },
   "outputs": [],
   "source": [
    "(6 <= 6) or (5 < 3)"
   ]
  },
  {
   "cell_type": "code",
   "execution_count": null,
   "metadata": {
    "scrolled": false
   },
   "outputs": [],
   "source": [
    "(5 < 3) and (6 <= 6) or (5 != 6)"
   ]
  },
  {
   "cell_type": "markdown",
   "metadata": {},
   "source": [
    "<a id=\"if\"></a>\n",
    "## The ``if`` statement"
   ]
  },
  {
   "cell_type": "markdown",
   "metadata": {},
   "source": [
    "``if`` statements are a way of making different things happen/running different bits of code depending on the outcome of a logical test.\n",
    "\n",
    "The simplest for of an ``if`` statement is shown below:\n",
    "\n",
    "``if logical test is true:\n",
    "        do some stuff``"
   ]
  },
  {
   "cell_type": "code",
   "execution_count": null,
   "metadata": {
    "scrolled": false
   },
   "outputs": [],
   "source": [
    "if 5>3:\n",
    "    print('five is greater than three')"
   ]
  },
  {
   "cell_type": "markdown",
   "metadata": {},
   "source": [
    "## The ``if-else`` statement"
   ]
  },
  {
   "cell_type": "markdown",
   "metadata": {},
   "source": [
    "The ``if-else`` statement runs one bit of code if the logical test is ``True``, and another bit of code if the logical test is ``False``.\n",
    "\n",
    "The general form of an ``if-else`` statement is below:\n",
    "\n",
    "``if logical test is true:\n",
    "        do some stuff\n",
    "  else:\n",
    "        do something else``"
   ]
  },
  {
   "cell_type": "code",
   "execution_count": null,
   "metadata": {
    "scrolled": false
   },
   "outputs": [],
   "source": [
    "if 1>3:\n",
    "    print('one is greater than three')\n",
    "else:\n",
    "    print('one is NOT greater than three')"
   ]
  },
  {
   "cell_type": "markdown",
   "metadata": {},
   "source": [
    "You'll notice that the line underneath each ``if/elif/else`` block is indented by four spaces, or one tab.\n",
    "\n",
    "We discussed whitespace earlier, and how in all but a few special cases, it is ignored by Python. Python uses white space to indicate the start and end of ``if`` statements and loops, so indentation is important here.\n",
    "\n",
    "When using ``if/elif/else`` blocks, all of the control blocks must have the same indentation level and all of the statements inside the control blocks should have the same level of indentation; or Python will return an error.\n",
    "\n",
    "Returning to the previous indentation level instructs Python that the block is complete."
   ]
  },
  {
   "cell_type": "markdown",
   "metadata": {},
   "source": [
    "## The ``if-elif`` statement\n",
    "\n",
    "The ``if-elif`` statement runs one bit of code if the logical test is ``True``, and another bit of code if **another** logical test is ``True``, and so on until the end of the block is reached. An ``if-elif`` block can end with an ``else`` statement, but this isn't necessary.\n",
    "\n",
    "The general form of an ``if-elif`` statement is below:\n",
    "\n",
    "``if logicaltest1 is true:\n",
    "        do some stuff\n",
    "  elif logicaltest2 is true:\n",
    "        do something else\n",
    "  elif logicaltest3 is true:\n",
    "        do something else entirely``\n",
    "        "
   ]
  },
  {
   "cell_type": "markdown",
   "metadata": {},
   "source": [
    "## <font color='red'> Now you try\n",
    "    \n",
    "Write a function called ``odd_or_even``. It should take a single integer as an input.\n",
    "\n",
    "If the integer is even, the output of the function should be the string \"even!\" and if the integer is odd, the output should be \"odd!\"\n",
    "\n",
    "To do this, you will need to use the ``%`` operator.\n",
    "    "
   ]
  },
  {
   "cell_type": "code",
   "execution_count": null,
   "metadata": {
    "scrolled": false
   },
   "outputs": [],
   "source": []
  },
  {
   "cell_type": "markdown",
   "metadata": {},
   "source": [
    "---"
   ]
  },
  {
   "cell_type": "markdown",
   "metadata": {},
   "source": [
    "<a id=\"for\"></a>\n",
    "## The ``for`` loop\n",
    "\n",
    "``for`` loops allow us to loop over a list, and perform some calculation on each element in the list. The ``for`` loop will iterate (or cycle) across all items in the list, beginning with item at position ``0`` and continuing until the final element.\n",
    "\n",
    "The generic form of a ``for`` loop is below:\n",
    "\n",
    "``for every_element in my_list:``\n",
    "        \n",
    "    ``perform some calculation or operation with the current element of the list``\n",
    "\n",
    "\n",
    "``for`` loops can also be used to iterate over other types (not just lists) such as ranges, tuples, arrays or matrices.\n",
    "\n",
    "In the example below, notice how the value of **i** changes with every iteration of the loop, to take the value of the current element in the list."
   ]
  },
  {
   "cell_type": "code",
   "execution_count": null,
   "metadata": {
    "scrolled": false
   },
   "outputs": [],
   "source": [
    "for i in [1,2,'bananas',3,4,True]:\n",
    "    \n",
    "    print(i)"
   ]
  },
  {
   "cell_type": "markdown",
   "metadata": {},
   "source": [
    "Here's an example of a ``for`` loop that iterates over a ``range`` rather than a list. A ``range`` is a useful way of quickly generating a sequence of numbers."
   ]
  },
  {
   "cell_type": "code",
   "execution_count": null,
   "metadata": {
    "scrolled": false
   },
   "outputs": [],
   "source": [
    "for x in range(0,5):\n",
    "    \n",
    "    print(x)"
   ]
  },
  {
   "cell_type": "markdown",
   "metadata": {},
   "source": [
    "``for`` loops can also be used to update the values of variables, or append items to the end of lists."
   ]
  },
  {
   "cell_type": "code",
   "execution_count": null,
   "metadata": {
    "scrolled": false
   },
   "outputs": [],
   "source": [
    "mylist = [] # initialise an empty list\n",
    "\n",
    "for y in range(0,5):\n",
    "    \n",
    "    mylist.append(y**2)\n",
    "\n",
    "print(mylist)"
   ]
  },
  {
   "cell_type": "markdown",
   "metadata": {},
   "source": [
    "**Indentation matters!** \n",
    "\n",
    "Any piece of code **inside** the indented ``for`` loop block will be executed on every cycle of the ``for`` loop. \n",
    "\n",
    "Any code not inside the intended block is not part of the loop, and is a regular stand-alone piece of code.\n",
    "\n",
    "Notice the difference between the following code cell and the code in the cell above:"
   ]
  },
  {
   "cell_type": "code",
   "execution_count": null,
   "metadata": {
    "scrolled": false
   },
   "outputs": [],
   "source": [
    "mylist = [] # initialise an empty list\n",
    "\n",
    "for y in range(0,5):\n",
    "    \n",
    "    mylist.append(y**2)\n",
    "    print(mylist) # on EVERY iteration of the loop, print the current state of the list\n",
    "    "
   ]
  },
  {
   "cell_type": "markdown",
   "metadata": {},
   "source": [
    "---\n",
    "## <font color='red'> Now you try\n",
    "\n",
    "Use a ``for`` loop together with the ``range`` function to print all the whole numbers from 1 to 100. \n",
    "\n",
    "But for multiples of three print \"Fizz\" instead of the number and for the multiples of five print \"Buzz\". \n",
    "\n",
    "For numbers which are multiples of both three and five print \"FizzBuzz\".\n",
    "\n",
    "**For context**: The ``fizzbuzz`` question is well known as an exercise used in programming interviews. It was devised by Imran Ghory, and popularised by Jeff Atwood: \n",
    "\n",
    "https://imranontech.com/2007/01/24/using-fizzbuzz-to-find-developers-who-grok-coding/ \n",
    "\n",
    "---"
   ]
  },
  {
   "cell_type": "markdown",
   "metadata": {},
   "source": [
    "<a id=\"while\"></a>\n",
    "## The ``while`` loop\n",
    "\n",
    "A ``while`` loop keeps repeating an operation **while** a certain logical test remains ``True``. \n",
    "\n",
    "The general form is:\n",
    "\n",
    "``while logical test remains True:\n",
    "    do some stuff``\n"
   ]
  },
  {
   "cell_type": "code",
   "execution_count": null,
   "metadata": {
    "scrolled": false
   },
   "outputs": [],
   "source": [
    "counter=1\n",
    "\n",
    "while(counter<=10):\n",
    "    print(counter)\n",
    "    counter+=1 # we update the value of 'counter' this is a short way of writing counter = counter+1\n",
    "    \n",
    "print(\"Done\") # this is outside the loop"
   ]
  },
  {
   "cell_type": "markdown",
   "metadata": {},
   "source": [
    "---\n",
    "## <font color='red'> Now you try\n",
    "\n",
    "Let's go back to our compound interest formula:\n",
    "\n",
    "$$TV = PV(1+r)^n$$\n",
    "\n",
    "Where\n",
    "\n",
    "$TV$ is the final value of the investment\n",
    "\n",
    "$PV$ is the initial investment\n",
    "\n",
    "$r$ is the interest rate per year \n",
    "\n",
    "$n$ is the number of years\n",
    "\n",
    "Suppose we'd like to know for how many years we have to keep 100 pounds on a savings account to reach 200 pounds simply due to annual payment of interest at a rate of 5%. Write code using a ``while`` loop to show that this will take 15 years.\n",
    "\n",
    "---"
   ]
  },
  {
   "cell_type": "markdown",
   "metadata": {},
   "source": [
    "<a id=\"classes\"></a>\n",
    "# <font color='blue'> Classes\n",
    "    \n",
    "Python is an **object oriented programming language**.\n",
    "\n",
    "This means that almost everything in Python- variables, lists, integers- is an object, with its own specific **properties**  and **methods**.\n",
    "\n",
    "A **method** is a function that can be run on a specific object. We've used a lot of methods already, like the ``append()`` method for lists or the ``upper()`` and ``lower()`` methods for strings.\n",
    "\n",
    "A **property** is an attribute of a specific object, like the ``.keys()`` property of a dictionary. \n",
    "\n",
    "A Class is like a \"blueprint\" for creating objects. For example, the **dictionary** class is a blueprint for how to create dictionaries and how they should behave, the **list** class is a blueprint for creating lists etc. \n",
    "\n",
    "Every time we create a new list, Python uses the **list** class as a template for creating that list. The functions that a list can call (e.g. ``append``) are also defined as part of this template.\n",
    "\n",
    "We'll be **using** existing classes more than we'll be creating our own in this course, so let's start by accessing the methods and properties of different classes we've used so far.\n",
    "\n",
    "Let's start by creating a dictionary."
   ]
  },
  {
   "cell_type": "code",
   "execution_count": null,
   "metadata": {
    "scrolled": false
   },
   "outputs": [],
   "source": [
    "my_dict = {'fav_food':'pizza',\n",
    "          'fav_drink': 'tea',\n",
    "          'shoe_size':4.5}"
   ]
  },
  {
   "cell_type": "markdown",
   "metadata": {},
   "source": [
    "We can use ``dir`` to access all the **attributes** and **methods** associated with a class. **Attributes** are properties of an object, and are written using ``__attribute__`` notation.\n",
    "\n",
    "**Methods** are functions that the class can call. "
   ]
  },
  {
   "cell_type": "code",
   "execution_count": null,
   "metadata": {
    "scrolled": false
   },
   "outputs": [],
   "source": [
    "dir(my_dict)"
   ]
  },
  {
   "cell_type": "markdown",
   "metadata": {},
   "source": [
    "Let's try out some **methods** or functions that are specific only to dictionaries."
   ]
  },
  {
   "cell_type": "code",
   "execution_count": null,
   "metadata": {
    "scrolled": false
   },
   "outputs": [],
   "source": [
    "my_dict.keys() # get the keys"
   ]
  },
  {
   "cell_type": "code",
   "execution_count": null,
   "metadata": {
    "scrolled": false
   },
   "outputs": [],
   "source": [
    "my_dict.popitem() # remove and return the last item"
   ]
  },
  {
   "cell_type": "markdown",
   "metadata": {},
   "source": [
    "Now let's initialise a list."
   ]
  },
  {
   "cell_type": "code",
   "execution_count": null,
   "metadata": {
    "scrolled": false
   },
   "outputs": [],
   "source": [
    "my_list = [1,2,3,4] "
   ]
  },
  {
   "cell_type": "markdown",
   "metadata": {},
   "source": [
    "Let's use ``dir`` to view the attributes of the list, and check some of them out."
   ]
  },
  {
   "cell_type": "code",
   "execution_count": null,
   "metadata": {
    "scrolled": false
   },
   "outputs": [],
   "source": [
    "dir(my_list)"
   ]
  },
  {
   "cell_type": "markdown",
   "metadata": {},
   "source": [
    "Let's try out some **list methods**."
   ]
  },
  {
   "cell_type": "code",
   "execution_count": null,
   "metadata": {
    "scrolled": false
   },
   "outputs": [],
   "source": [
    "my_list.append(5)"
   ]
  },
  {
   "cell_type": "code",
   "execution_count": null,
   "metadata": {
    "scrolled": false
   },
   "outputs": [],
   "source": [
    "my_list.pop()"
   ]
  },
  {
   "cell_type": "markdown",
   "metadata": {},
   "source": [
    "This is a way of accessing a list's length attribute (an alternative to using the ``len`` function)"
   ]
  },
  {
   "cell_type": "code",
   "execution_count": null,
   "metadata": {
    "scrolled": false
   },
   "outputs": [],
   "source": [
    "my_list.__len__()"
   ]
  },
  {
   "cell_type": "markdown",
   "metadata": {},
   "source": [
    "## <font color='red'> Codealong\n",
    "    \n",
    "Together, let's explore the **methods** and **attributes** of the ``LinearRegression`` class in ``scikit-learn``.\n",
    "\n",
    "Let's start by importing the class from the ``scikit-learn`` library."
   ]
  },
  {
   "cell_type": "code",
   "execution_count": null,
   "metadata": {
    "scrolled": false
   },
   "outputs": [],
   "source": [
    "from sklearn.linear_model import LinearRegression\n",
    "import numpy as np"
   ]
  },
  {
   "cell_type": "markdown",
   "metadata": {},
   "source": [
    "Let's create an instance of the ``LinearRegression`` class. This creates an object that can:\n",
    "\n",
    "* Find the line of best fit given some training data\n",
    "* Make predictions about new data points "
   ]
  },
  {
   "cell_type": "code",
   "execution_count": null,
   "metadata": {
    "scrolled": false
   },
   "outputs": [],
   "source": [
    "my_linear_regressor = LinearRegression()"
   ]
  },
  {
   "cell_type": "markdown",
   "metadata": {},
   "source": [
    "Let's take a look at its attributes and methods using ``dir``.\n",
    "\n",
    "Which method do you think we'll need to fit a linear regression model to some data?"
   ]
  },
  {
   "cell_type": "code",
   "execution_count": null,
   "metadata": {
    "scrolled": false
   },
   "outputs": [],
   "source": [
    "dir(my_linear_regressor)"
   ]
  },
  {
   "cell_type": "markdown",
   "metadata": {},
   "source": [
    "Let's use the ``fit`` method to fit our model to some dummy data."
   ]
  },
  {
   "cell_type": "code",
   "execution_count": null,
   "metadata": {
    "scrolled": false
   },
   "outputs": [],
   "source": [
    "x = np.array([1,2,3,4,5]).reshape(-1, 1)\n",
    "y = np.array([1,2,3,4,5]).reshape(-1, 1)\n",
    "\n",
    "my_linear_regressor.fit(x,y)\n"
   ]
  },
  {
   "cell_type": "markdown",
   "metadata": {},
   "source": [
    "Now let's access some **attributes** of our newly fitted linear regression model to find out what the line of best fit is.\n",
    "\n",
    "Let's run ``dir`` to check which attributes will give us the information we're after."
   ]
  },
  {
   "cell_type": "code",
   "execution_count": null,
   "metadata": {
    "scrolled": false
   },
   "outputs": [],
   "source": [
    "dir(my_linear_regressor)"
   ]
  },
  {
   "cell_type": "markdown",
   "metadata": {},
   "source": [
    "Notice how the `coef_` and `intercept_` attributes weren't visible using ``dir`` **before** we fitted our model to out data? Why is that?"
   ]
  },
  {
   "cell_type": "code",
   "execution_count": null,
   "metadata": {
    "scrolled": false
   },
   "outputs": [],
   "source": [
    "my_linear_regressor.coef_"
   ]
  },
  {
   "cell_type": "code",
   "execution_count": null,
   "metadata": {
    "scrolled": false
   },
   "outputs": [],
   "source": [
    "my_linear_regressor.intercept_"
   ]
  },
  {
   "cell_type": "markdown",
   "metadata": {},
   "source": [
    "How should we interpret the coefficient and intercept of our straight line?"
   ]
  },
  {
   "cell_type": "code",
   "execution_count": null,
   "metadata": {},
   "outputs": [],
   "source": []
  }
 ],
 "metadata": {
  "colab": {
   "name": "intro_to_python.ipynb",
   "provenance": []
  },
  "kernelspec": {
   "display_name": "Python 3",
   "language": "python",
   "name": "python3"
  },
  "language_info": {
   "codemirror_mode": {
    "name": "ipython",
    "version": 3
   },
   "file_extension": ".py",
   "mimetype": "text/x-python",
   "name": "python",
   "nbconvert_exporter": "python",
   "pygments_lexer": "ipython3",
   "version": "3.7.4"
  }
 },
 "nbformat": 4,
 "nbformat_minor": 1
}
