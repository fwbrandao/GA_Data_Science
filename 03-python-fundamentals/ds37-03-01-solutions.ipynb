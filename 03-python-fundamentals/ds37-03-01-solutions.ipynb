{
 "cells": [
  {
   "cell_type": "markdown",
   "metadata": {
    "colab_type": "text",
    "id": "88tCXKMAp2FX"
   },
   "source": [
    "# Python Fundamentals solutions\n",
    "\n",
    "---"
   ]
  },
  {
   "cell_type": "markdown",
   "metadata": {},
   "source": [
    "---\n",
    "\n",
    "## <font color='red'> Now you try\n",
    "\n",
    "Take a look at the Python commands below. For each command, **before you run the cell**, predict:\n",
    "\n",
    "* What the input to the command is\n",
    "* What the output will look like \n",
    "* What the command is doing\n",
    "\n",
    "The clue is often in the name of the command; don't overthink this exercise!\n",
    "\n",
    "**It's always helpful to think of Python commands as having an input and an output; this helps us understand what's going on**\n"
   ]
  },
  {
   "cell_type": "code",
   "execution_count": 1,
   "metadata": {},
   "outputs": [
    {
     "data": {
      "text/plain": [
       "'caps lock makes it seem like im shouting'"
      ]
     },
     "execution_count": 1,
     "metadata": {},
     "output_type": "execute_result"
    }
   ],
   "source": [
    "'CAPS LOCK MAKES IT SEEM LIKE IM SHOUTING'.lower()"
   ]
  },
  {
   "cell_type": "code",
   "execution_count": 2,
   "metadata": {},
   "outputs": [
    {
     "data": {
      "text/plain": [
       "8"
      ]
     },
     "execution_count": 2,
     "metadata": {},
     "output_type": "execute_result"
    }
   ],
   "source": [
    "max([3,5,2,8])"
   ]
  },
  {
   "cell_type": "markdown",
   "metadata": {
    "colab_type": "text",
    "id": "lFlUxiQUp2GK"
   },
   "source": [
    "---\n",
    "\n",
    "## <font color='red'> Now you try\n",
    "\n",
    "Insert new cells into this notebook to complete each of the following exercises.\n",
    "\n",
    "1. Evaluate the following expressions: \n",
    "    \n",
    "    (a) 7-15\n",
    " "
   ]
  },
  {
   "cell_type": "code",
   "execution_count": 3,
   "metadata": {},
   "outputs": [
    {
     "data": {
      "text/plain": [
       "-8"
      ]
     },
     "execution_count": 3,
     "metadata": {},
     "output_type": "execute_result"
    }
   ],
   "source": [
    "7-15"
   ]
  },
  {
   "cell_type": "markdown",
   "metadata": {},
   "source": [
    "(b) $3^7+16/3$"
   ]
  },
  {
   "cell_type": "code",
   "execution_count": 4,
   "metadata": {},
   "outputs": [
    {
     "data": {
      "text/plain": [
       "2192.3333333333335"
      ]
     },
     "execution_count": 4,
     "metadata": {},
     "output_type": "execute_result"
    }
   ],
   "source": [
    "(3**7) + (16/3)"
   ]
  },
  {
   "cell_type": "markdown",
   "metadata": {},
   "source": [
    "2. The following lines of code will result in error messages when you try to run them. Fix the code so it runs without errors:"
   ]
  },
  {
   "cell_type": "code",
   "execution_count": 5,
   "metadata": {
    "colab": {},
    "colab_type": "code",
    "id": "jtvPH5DJp2GL",
    "outputId": "505dfb53-2bca-40dc-e7d4-e1d7c35461ad"
   },
   "outputs": [
    {
     "name": "stdout",
     "output_type": "stream",
     "text": [
      "hello world!\n"
     ]
    }
   ],
   "source": [
    "print('hello world!') # needed consistent single or double quotes"
   ]
  },
  {
   "cell_type": "code",
   "execution_count": 7,
   "metadata": {
    "colab": {},
    "colab_type": "code",
    "id": "FDAcRZ2up2GM"
   },
   "outputs": [
    {
     "data": {
      "text/plain": [
       "8"
      ]
     },
     "execution_count": 7,
     "metadata": {},
     "output_type": "execute_result"
    }
   ],
   "source": [
    "5 + int('3') # can't add a string to an integer; string needs to be converted"
   ]
  },
  {
   "cell_type": "code",
   "execution_count": 8,
   "metadata": {
    "colab": {},
    "colab_type": "code",
    "id": "ZAfcmymYp2GO"
   },
   "outputs": [
    {
     "name": "stdout",
     "output_type": "stream",
     "text": [
      "hello?\n"
     ]
    }
   ],
   "source": [
    "print(\"hello?\") # need round brackets"
   ]
  },
  {
   "cell_type": "markdown",
   "metadata": {
    "colab_type": "text",
    "id": "dhTeQ_Irp2IU"
   },
   "source": [
    "---\n",
    "\n",
    "## <font color='red'> Now you try\n",
    "\n",
    "1. Declare the string \"The quick brown fox jumped over the lazy dog\" as a variable called ``mystring``, and write code to extract:\n",
    "\n",
    "    (a) The following substring: \"The quick brown fo\"\n",
    "\n"
   ]
  },
  {
   "cell_type": "code",
   "execution_count": 12,
   "metadata": {},
   "outputs": [
    {
     "data": {
      "text/plain": [
       "'The quick brown fo'"
      ]
     },
     "execution_count": 12,
     "metadata": {},
     "output_type": "execute_result"
    }
   ],
   "source": [
    "mystring = \"The quick brown fox jumped over the lazy dog\"\n",
    "\n",
    "mystring[0:18]"
   ]
  },
  {
   "cell_type": "markdown",
   "metadata": {},
   "source": [
    "(b) The first character only\n"
   ]
  },
  {
   "cell_type": "code",
   "execution_count": 13,
   "metadata": {},
   "outputs": [
    {
     "data": {
      "text/plain": [
       "'T'"
      ]
     },
     "execution_count": 13,
     "metadata": {},
     "output_type": "execute_result"
    }
   ],
   "source": [
    "mystring[0]"
   ]
  },
  {
   "cell_type": "markdown",
   "metadata": {},
   "source": [
    "(c) The last character only\n"
   ]
  },
  {
   "cell_type": "code",
   "execution_count": 14,
   "metadata": {},
   "outputs": [
    {
     "data": {
      "text/plain": [
       "'g'"
      ]
     },
     "execution_count": 14,
     "metadata": {},
     "output_type": "execute_result"
    }
   ],
   "source": [
    "mystring[-1]"
   ]
  },
  {
   "cell_type": "markdown",
   "metadata": {},
   "source": [
    "(d) The substring \"over the lazy dog\""
   ]
  },
  {
   "cell_type": "code",
   "execution_count": 16,
   "metadata": {},
   "outputs": [
    {
     "data": {
      "text/plain": [
       "'over the lazy dog'"
      ]
     },
     "execution_count": 16,
     "metadata": {},
     "output_type": "execute_result"
    }
   ],
   "source": [
    "mystring[27:]"
   ]
  },
  {
   "cell_type": "markdown",
   "metadata": {},
   "source": [
    "2. Figure out what the following syntax does: \n",
    "\n",
    "```mystring[i:j:k]```, ```mystring[-1]```, ```mystring[:i]```, ```mystring[i:]```, ```mystring[:]```, ```mystring[-2]```"
   ]
  },
  {
   "cell_type": "code",
   "execution_count": 17,
   "metadata": {},
   "outputs": [
    {
     "data": {
      "text/plain": [
       "'Teqik'"
      ]
     },
     "execution_count": 17,
     "metadata": {},
     "output_type": "execute_result"
    }
   ],
   "source": [
    "mystring[0:10:2] # extract characters from 0 up to but not including 10, in steps of 2 "
   ]
  },
  {
   "cell_type": "code",
   "execution_count": 20,
   "metadata": {},
   "outputs": [
    {
     "data": {
      "text/plain": [
       "'g'"
      ]
     },
     "execution_count": 20,
     "metadata": {},
     "output_type": "execute_result"
    }
   ],
   "source": [
    "mystring[-1] # extract the last character"
   ]
  },
  {
   "cell_type": "code",
   "execution_count": 21,
   "metadata": {},
   "outputs": [
    {
     "data": {
      "text/plain": [
       "'The quick '"
      ]
     },
     "execution_count": 21,
     "metadata": {},
     "output_type": "execute_result"
    }
   ],
   "source": [
    "mystring[:10] # extract characters from the start, up to but not including 10"
   ]
  },
  {
   "cell_type": "code",
   "execution_count": 22,
   "metadata": {},
   "outputs": [
    {
     "data": {
      "text/plain": [
       "'brown fox jumped over the lazy dog'"
      ]
     },
     "execution_count": 22,
     "metadata": {},
     "output_type": "execute_result"
    }
   ],
   "source": [
    "mystring[10:] # extract characters from position 10 to the end of the string"
   ]
  },
  {
   "cell_type": "code",
   "execution_count": 23,
   "metadata": {},
   "outputs": [
    {
     "data": {
      "text/plain": [
       "'The quick brown fox jumped over the lazy dog'"
      ]
     },
     "execution_count": 23,
     "metadata": {},
     "output_type": "execute_result"
    }
   ],
   "source": [
    "mystring[:] # extract the whole string, from the start to the end"
   ]
  },
  {
   "cell_type": "code",
   "execution_count": 24,
   "metadata": {},
   "outputs": [
    {
     "data": {
      "text/plain": [
       "'o'"
      ]
     },
     "execution_count": 24,
     "metadata": {},
     "output_type": "execute_result"
    }
   ],
   "source": [
    "mystring[-2] # extract the second from last character"
   ]
  },
  {
   "cell_type": "markdown",
   "metadata": {},
   "source": [
    "3. Use the ``len`` function to find the length of the string.\n"
   ]
  },
  {
   "cell_type": "code",
   "execution_count": 25,
   "metadata": {},
   "outputs": [
    {
     "data": {
      "text/plain": [
       "44"
      ]
     },
     "execution_count": 25,
     "metadata": {},
     "output_type": "execute_result"
    }
   ],
   "source": [
    "len(mystring)"
   ]
  },
  {
   "cell_type": "markdown",
   "metadata": {},
   "source": [
    "4. The following code will throw an error when you try to run it. Use escape sequences so it prints the following result:\n",
    "\n",
    "``She said \"He's awake.\"``"
   ]
  },
  {
   "cell_type": "code",
   "execution_count": 10,
   "metadata": {},
   "outputs": [
    {
     "name": "stdout",
     "output_type": "stream",
     "text": [
      "She said \"He's awake.\n"
     ]
    }
   ],
   "source": [
    "print(\"She said \\\"He\\'s awake.\")"
   ]
  },
  {
   "cell_type": "markdown",
   "metadata": {
    "colab_type": "text",
    "id": "bXk83CuSp2Ig"
   },
   "source": [
    "---\n",
    "\n",
    "## <font color='red'> Now you try\n",
    "\n",
    "1. Given the list below, write code to extract:\n",
    "\n",
    "    (a) The first element\n",
    "\n",
    "    (b) The last element\n",
    "\n",
    "    (c) The substring 'ban' from the last element\n",
    "\n",
    "    (d) The slice ``['a','d',1,3]`` from the list\n",
    "\n",
    "    (e) The slice ``['a','e',3]`` from the list\n",
    "    \n",
    "\n",
    "2. Append an extra element, 'apples', to the list\n",
    "\n",
    "\n",
    "3. Replace the first element of the list with the number 5\n",
    "\n",
    "\n",
    "4. Reverse the order of elements in the list (you might need to Google around a bit to get the solution)\n",
    "\n",
    "\n",
    "5. Use the ``len`` function to find the length of the list."
   ]
  },
  {
   "cell_type": "code",
   "execution_count": 27,
   "metadata": {
    "colab": {},
    "colab_type": "code",
    "id": "im2VgADzp2Ig"
   },
   "outputs": [],
   "source": [
    "mylist = ['a','b','d','e',1,2,3,'124','bananas']"
   ]
  },
  {
   "cell_type": "code",
   "execution_count": 28,
   "metadata": {},
   "outputs": [
    {
     "data": {
      "text/plain": [
       "'a'"
      ]
     },
     "execution_count": 28,
     "metadata": {},
     "output_type": "execute_result"
    }
   ],
   "source": [
    "mylist[0] "
   ]
  },
  {
   "cell_type": "code",
   "execution_count": 29,
   "metadata": {},
   "outputs": [
    {
     "data": {
      "text/plain": [
       "'bananas'"
      ]
     },
     "execution_count": 29,
     "metadata": {},
     "output_type": "execute_result"
    }
   ],
   "source": [
    "mylist[-1] "
   ]
  },
  {
   "cell_type": "code",
   "execution_count": 31,
   "metadata": {},
   "outputs": [
    {
     "data": {
      "text/plain": [
       "'ban'"
      ]
     },
     "execution_count": 31,
     "metadata": {},
     "output_type": "execute_result"
    }
   ],
   "source": [
    "mylist[-1] [0:3]"
   ]
  },
  {
   "cell_type": "code",
   "execution_count": 32,
   "metadata": {},
   "outputs": [
    {
     "data": {
      "text/plain": [
       "['a', 'd', 1, 3]"
      ]
     },
     "execution_count": 32,
     "metadata": {},
     "output_type": "execute_result"
    }
   ],
   "source": [
    "mylist[0:7:2] "
   ]
  },
  {
   "cell_type": "code",
   "execution_count": 33,
   "metadata": {},
   "outputs": [
    {
     "data": {
      "text/plain": [
       "['a', 'e', 3]"
      ]
     },
     "execution_count": 33,
     "metadata": {},
     "output_type": "execute_result"
    }
   ],
   "source": [
    "mylist[0::3] "
   ]
  },
  {
   "cell_type": "code",
   "execution_count": 34,
   "metadata": {},
   "outputs": [],
   "source": [
    "mylist.append('apples')"
   ]
  },
  {
   "cell_type": "code",
   "execution_count": 35,
   "metadata": {},
   "outputs": [
    {
     "data": {
      "text/plain": [
       "['a', 'b', 'd', 'e', 1, 2, 3, '124', 'bananas', 'apples']"
      ]
     },
     "execution_count": 35,
     "metadata": {},
     "output_type": "execute_result"
    }
   ],
   "source": [
    "mylist"
   ]
  },
  {
   "cell_type": "code",
   "execution_count": 36,
   "metadata": {},
   "outputs": [
    {
     "data": {
      "text/plain": [
       "[5, 'b', 'd', 'e', 1, 2, 3, '124', 'bananas', 'apples']"
      ]
     },
     "execution_count": 36,
     "metadata": {},
     "output_type": "execute_result"
    }
   ],
   "source": [
    "mylist[0]=5\n",
    "mylist"
   ]
  },
  {
   "cell_type": "code",
   "execution_count": 37,
   "metadata": {},
   "outputs": [
    {
     "data": {
      "text/plain": [
       "['apples', 'bananas', '124', 3, 2, 1, 'e', 'd', 'b', 5]"
      ]
     },
     "execution_count": 37,
     "metadata": {},
     "output_type": "execute_result"
    }
   ],
   "source": [
    "mylist[::-1]"
   ]
  },
  {
   "cell_type": "code",
   "execution_count": 38,
   "metadata": {},
   "outputs": [
    {
     "data": {
      "text/plain": [
       "10"
      ]
     },
     "execution_count": 38,
     "metadata": {},
     "output_type": "execute_result"
    }
   ],
   "source": [
    "len(mylist)"
   ]
  },
  {
   "cell_type": "markdown",
   "metadata": {},
   "source": [
    "---"
   ]
  },
  {
   "cell_type": "code",
   "execution_count": 39,
   "metadata": {
    "colab": {},
    "colab_type": "code",
    "id": "G7hhdLNOp2Io"
   },
   "outputs": [],
   "source": [
    "people_information_dictionary = {'Alice': {'food':'pizza',\n",
    "                                           'drink':['coffee','orange juice','tea'],\n",
    "                                           'age':29},\n",
    "                               'Bob': {'food':'dim sum',\n",
    "                                          'drink':'water',\n",
    "                                          'age': 21},\n",
    "                               'Sarah': {'food':'lasagna',\n",
    "                                         'drink': 'green tea',\n",
    "                                         'age': 22}}"
   ]
  },
  {
   "cell_type": "markdown",
   "metadata": {},
   "source": [
    "---\n",
    "\n",
    "## <font color='red'> Now you try\n",
    "    \n",
    "Can you retrieve the following from the `people_information_dictionary` defined above?\n",
    "\n",
    "* Bob's favourite food\n",
    "* Sarah's age\n",
    "* Alice's 3rd favourite drink\n"
   ]
  },
  {
   "cell_type": "code",
   "execution_count": 40,
   "metadata": {},
   "outputs": [
    {
     "data": {
      "text/plain": [
       "'dim sum'"
      ]
     },
     "execution_count": 40,
     "metadata": {},
     "output_type": "execute_result"
    }
   ],
   "source": [
    "people_information_dictionary['Bob']['food']"
   ]
  },
  {
   "cell_type": "code",
   "execution_count": 41,
   "metadata": {},
   "outputs": [
    {
     "data": {
      "text/plain": [
       "22"
      ]
     },
     "execution_count": 41,
     "metadata": {},
     "output_type": "execute_result"
    }
   ],
   "source": [
    "people_information_dictionary['Sarah']['age']"
   ]
  },
  {
   "cell_type": "code",
   "execution_count": 42,
   "metadata": {},
   "outputs": [
    {
     "data": {
      "text/plain": [
       "'tea'"
      ]
     },
     "execution_count": 42,
     "metadata": {},
     "output_type": "execute_result"
    }
   ],
   "source": [
    "people_information_dictionary['Alice']['drink'][2]"
   ]
  },
  {
   "cell_type": "markdown",
   "metadata": {},
   "source": [
    "Here's a dictionary that contains other dictionaries. Using a combination of keys and (where necessary) list indexing, can you retrieve the following information from `company_info_dictionary`?\n",
    "\n",
    "* The number of companies in the dataset\n",
    "* The number of employees at Wiiwork\n",
    "* MeTube's founder\n",
    "* The 2nd of Bloogle's founders\n",
    "* All of Bloogle's office locations\n",
    "* The first name of Wiiwork's first founder\n"
   ]
  },
  {
   "cell_type": "code",
   "execution_count": 44,
   "metadata": {},
   "outputs": [
    {
     "data": {
      "text/plain": [
       "3"
      ]
     },
     "execution_count": 44,
     "metadata": {},
     "output_type": "execute_result"
    }
   ],
   "source": [
    "company_info_dictionary['meta_data']['number_of_companies']"
   ]
  },
  {
   "cell_type": "code",
   "execution_count": 45,
   "metadata": {},
   "outputs": [
    {
     "data": {
      "text/plain": [
       "230"
      ]
     },
     "execution_count": 45,
     "metadata": {},
     "output_type": "execute_result"
    }
   ],
   "source": [
    "company_info_dictionary['company_data'][0]['employees']"
   ]
  },
  {
   "cell_type": "code",
   "execution_count": 47,
   "metadata": {},
   "outputs": [
    {
     "data": {
      "text/plain": [
       "'Sarah Williams'"
      ]
     },
     "execution_count": 47,
     "metadata": {},
     "output_type": "execute_result"
    }
   ],
   "source": [
    "company_info_dictionary['company_data'][1]['founders'][0]"
   ]
  },
  {
   "cell_type": "code",
   "execution_count": 48,
   "metadata": {},
   "outputs": [
    {
     "data": {
      "text/plain": [
       "'Lee Peterson'"
      ]
     },
     "execution_count": 48,
     "metadata": {},
     "output_type": "execute_result"
    }
   ],
   "source": [
    "company_info_dictionary['company_data'][2]['founders'][1]"
   ]
  },
  {
   "cell_type": "code",
   "execution_count": 49,
   "metadata": {},
   "outputs": [
    {
     "data": {
      "text/plain": [
       "'Andy Newman'"
      ]
     },
     "execution_count": 49,
     "metadata": {},
     "output_type": "execute_result"
    }
   ],
   "source": [
    "company_info_dictionary['company_data'][0]['founders'][0]"
   ]
  },
  {
   "cell_type": "code",
   "execution_count": 43,
   "metadata": {},
   "outputs": [],
   "source": [
    "company_info_dictionary = {'meta_data':{'number_of_companies':3,\n",
    "                                       'data_last_updated':'12/01/2020'},\n",
    "                           \n",
    "                          'company_data':[{'name':'Wiiwork',\n",
    "                                         'employees':230,\n",
    "                                         'office_locations':['New York'],\n",
    "                                         'founders':['Andy Newman','Mike MacIntyre']},\n",
    "                                          \n",
    "                                          {'name':'MeTube',\n",
    "                                         'employees':100,\n",
    "                                         'location':['San Francisco','London'],\n",
    "                                         'founders':['Sarah Williams']},\n",
    "                                          \n",
    "                                          {'name':'Bloogle',\n",
    "                                         'employees':5001,\n",
    "                                         'location':['Mountain View','New York','Paris','London'],\n",
    "                                         'founders':['Steve Brine','Lee Peterson']}                                          \n",
    "                                          \n",
    "                                         ]}\n"
   ]
  },
  {
   "cell_type": "markdown",
   "metadata": {
    "colab_type": "text",
    "id": "1Yyskq6cp2Ix"
   },
   "source": [
    "---\n",
    "\n",
    "## <font color='red'> Now you try\n",
    "\n",
    "1. Import the ``statistics`` library as ``stats`` and the ``numpy`` library as ``np``.\n",
    "\n",
    "\n",
    "2. Use ``stats.mean()`` and ``stats.median()`` to calculate the mean and median of this list of values: ``[1.5, 2.3, 6.7, 8, 10]``\n",
    "\n",
    "\n",
    "3. Repeat these calculations using the 'numpy' library and confirm the results are the same.\n",
    "\n",
    "\n",
    "4. Import the `math` library without giving it a short name, and try out its ``sqrt`` function to calculate the square root of 12\n"
   ]
  },
  {
   "cell_type": "code",
   "execution_count": 50,
   "metadata": {},
   "outputs": [
    {
     "name": "stdout",
     "output_type": "stream",
     "text": [
      "Numpy mean:  5.7\n",
      "Stats mean:  5.7\n",
      "Numpy median:  6.7\n",
      "Stats median:  6.7\n"
     ]
    }
   ],
   "source": [
    "import statistics as stats\n",
    "import numpy as np\n",
    "\n",
    "mylist = [1.5, 2.3, 6.7, 8, 10]\n",
    "\n",
    "print(\"Numpy mean: \", np.mean(mylist))\n",
    "print(\"Stats mean: \", stats.mean(mylist))\n",
    "\n",
    "print(\"Numpy median: \", np.median(mylist))\n",
    "print(\"Stats median: \", stats.median(mylist))"
   ]
  },
  {
   "cell_type": "code",
   "execution_count": 52,
   "metadata": {},
   "outputs": [
    {
     "name": "stdout",
     "output_type": "stream",
     "text": [
      "3.4641016151377544\n"
     ]
    }
   ],
   "source": [
    "import math\n",
    "\n",
    "print(math.sqrt(12))\n"
   ]
  },
  {
   "cell_type": "markdown",
   "metadata": {},
   "source": [
    "---\n",
    "\n",
    "## <font color='red'> Now you try\n",
    "\n",
    "Let's write a function to calculate the final value of an investment that's accruing compound interest.\n",
    "\n",
    "This is described by the formula:\n",
    "\n",
    "$$TV = PV(1+r)^n$$\n",
    "\n",
    "Where\n",
    "\n",
    "$TV$ is the final value of the investment\n",
    "\n",
    "$PV$ is the initial investment\n",
    "\n",
    "$r$ is the interest rate per year \n",
    "\n",
    "$n$ is the number of years\n",
    "\n",
    "1. Write a function that computes the final value of an investment, given the initial investment, interest rate, and number of years."
   ]
  },
  {
   "cell_type": "code",
   "execution_count": 53,
   "metadata": {},
   "outputs": [],
   "source": [
    "def compound_interest(PV, r, n):\n",
    "    \n",
    "    TV = PV*(1+r)**n\n",
    "    \n",
    "    return TV"
   ]
  },
  {
   "cell_type": "markdown",
   "metadata": {},
   "source": [
    "2. Use your function to compute the final value of a £130 investment, assuming an interest rate of 3% over 5 years."
   ]
  },
  {
   "cell_type": "code",
   "execution_count": 55,
   "metadata": {},
   "outputs": [
    {
     "data": {
      "text/plain": [
       "150.705629659"
      ]
     },
     "execution_count": 55,
     "metadata": {},
     "output_type": "execute_result"
    }
   ],
   "source": [
    "TV = compound_interest(130,0.03,5)\n",
    "TV"
   ]
  },
  {
   "cell_type": "markdown",
   "metadata": {},
   "source": [
    "3. Write a function that computes the number of years needed for an investment reach a given multiple of its initial value, also given the interest rate. (**hint: you'll need to rearrange the formula to make $n$ the subject**, and you'll need the ``math`` library)"
   ]
  },
  {
   "cell_type": "markdown",
   "metadata": {},
   "source": [
    "We start by rearranging the formula:\n",
    "\n",
    "$$\\dfrac{TV}{PV} = (1+r)^n$$\n",
    "\n",
    "We can redefine $\\dfrac{TV}{PV}$ as our 'multiple'; that is, how many times greater the final value of our investment is compared to the initial value.\n",
    "\n",
    "$$multiple = (1+r)^n$$\n",
    "\n",
    "We can take logs of both sides to deal with $n$\n",
    "\n",
    "$$log\\:multiple = nlog(1+r)$$\n",
    "\n",
    "We can rearrange some more to make $n$ the subject:\n",
    "\n",
    "$$n=\\dfrac{log\\:multiple}{log(1+r)}$$\n",
    "\n",
    "Now we have our formula for the number of years needed for an investment to reach a given multiple of its initial value, we can code it up in Python: "
   ]
  },
  {
   "cell_type": "code",
   "execution_count": 56,
   "metadata": {},
   "outputs": [],
   "source": [
    "import math\n",
    "\n",
    "def get_years(multiple,r):\n",
    "    \n",
    "    n = math.log(multiple)/math.log(1+r)\n",
    "    \n",
    "    return n"
   ]
  },
  {
   "cell_type": "markdown",
   "metadata": {},
   "source": [
    "4. Use your function to work out how many years are needed for an investment to double in value, assuming an interest rate of 0.01%"
   ]
  },
  {
   "cell_type": "code",
   "execution_count": 57,
   "metadata": {},
   "outputs": [
    {
     "data": {
      "text/plain": [
       "69.66071689357483"
      ]
     },
     "execution_count": 57,
     "metadata": {},
     "output_type": "execute_result"
    }
   ],
   "source": [
    "n = get_years(2,0.01)\n",
    "n"
   ]
  },
  {
   "cell_type": "markdown",
   "metadata": {},
   "source": [
    "---\n",
    "\n",
    "## <font color='red'> Now you try\n",
    "\n",
    "Predict what the outcomes of these logical tests will be, then run the cells to check your predictions."
   ]
  },
  {
   "cell_type": "code",
   "execution_count": 58,
   "metadata": {},
   "outputs": [
    {
     "data": {
      "text/plain": [
       "False"
      ]
     },
     "execution_count": 58,
     "metadata": {},
     "output_type": "execute_result"
    }
   ],
   "source": [
    "(6 <= 6) and (5 < 3)\n",
    "\n",
    "# True and False -> False"
   ]
  },
  {
   "cell_type": "code",
   "execution_count": 59,
   "metadata": {},
   "outputs": [
    {
     "data": {
      "text/plain": [
       "False"
      ]
     },
     "execution_count": 59,
     "metadata": {},
     "output_type": "execute_result"
    }
   ],
   "source": [
    "3 < 2 or 45 % 3 == 15\n",
    "\n",
    "# False or False -> False"
   ]
  },
  {
   "cell_type": "code",
   "execution_count": 61,
   "metadata": {},
   "outputs": [
    {
     "data": {
      "text/plain": [
       "False"
      ]
     },
     "execution_count": 61,
     "metadata": {},
     "output_type": "execute_result"
    }
   ],
   "source": [
    "60 - 45 / 5 + 10 == 1"
   ]
  },
  {
   "cell_type": "code",
   "execution_count": 62,
   "metadata": {},
   "outputs": [
    {
     "data": {
      "text/plain": [
       "True"
      ]
     },
     "execution_count": 62,
     "metadata": {},
     "output_type": "execute_result"
    }
   ],
   "source": [
    "(6 <= 6) or (5 < 3)\n",
    "\n",
    "# True or False -> True"
   ]
  },
  {
   "cell_type": "code",
   "execution_count": 63,
   "metadata": {},
   "outputs": [
    {
     "data": {
      "text/plain": [
       "True"
      ]
     },
     "execution_count": 63,
     "metadata": {},
     "output_type": "execute_result"
    }
   ],
   "source": [
    "(5 < 3) and (6 <= 6) or (5 != 6)\n",
    "\n",
    "# (False and True) or True -> True"
   ]
  },
  {
   "cell_type": "code",
   "execution_count": 65,
   "metadata": {},
   "outputs": [
    {
     "data": {
      "text/plain": [
       "True"
      ]
     },
     "execution_count": 65,
     "metadata": {},
     "output_type": "execute_result"
    }
   ],
   "source": [
    "not((5 < 3) and ((6 <= 6) or (5 != 6)))\n",
    "\n",
    "# False and (True or True) -> False\n",
    "# not False -> True"
   ]
  },
  {
   "cell_type": "markdown",
   "metadata": {},
   "source": [
    "---\n",
    "\n",
    "## <font color='red'> Now you try\n",
    "    \n",
    "Write a function called ``odd_or_even``. It should take a single integer as an input.\n",
    "\n",
    "If the integer is even, the output of the function should be the string \"even!\" and if the integer is odd, the output should be \"odd!\"\n",
    "\n",
    "To do this, you will need to use the ``%`` operator.\n",
    "    "
   ]
  },
  {
   "cell_type": "code",
   "execution_count": 69,
   "metadata": {},
   "outputs": [],
   "source": [
    "def odd_or_even(number):\n",
    "    \n",
    "    if number%2==0:\n",
    "        print('even!')\n",
    "    else:\n",
    "        print('odd!')"
   ]
  },
  {
   "cell_type": "code",
   "execution_count": 70,
   "metadata": {},
   "outputs": [
    {
     "name": "stdout",
     "output_type": "stream",
     "text": [
      "odd!\n"
     ]
    }
   ],
   "source": [
    "odd_or_even(1)"
   ]
  },
  {
   "cell_type": "code",
   "execution_count": 71,
   "metadata": {},
   "outputs": [
    {
     "name": "stdout",
     "output_type": "stream",
     "text": [
      "even!\n"
     ]
    }
   ],
   "source": [
    "odd_or_even(4)"
   ]
  },
  {
   "cell_type": "markdown",
   "metadata": {},
   "source": [
    "---\n",
    "## <font color='red'> Now you try\n",
    "\n",
    "Use a ``for`` loop together with the ``range`` function to print all the whole numbers from 1 to 100. \n",
    "\n",
    "But for multiples of three print \"Fizz\" instead of the number and for the multiples of five print \"Buzz\". \n",
    "\n",
    "For numbers which are multiples of both three and five print \"FizzBuzz\".\n",
    "\n",
    "**For context**: The ``fizzbuzz`` question is well known as an exercise used in programming interviews. It was devised by Imran Ghory, and popularised by Jeff Atwood: \n",
    "\n",
    "https://imranontech.com/2007/01/24/using-fizzbuzz-to-find-developers-who-grok-coding/ \n",
    "\n",
    "---"
   ]
  },
  {
   "cell_type": "code",
   "execution_count": 72,
   "metadata": {},
   "outputs": [
    {
     "name": "stdout",
     "output_type": "stream",
     "text": [
      "1\n",
      "2\n",
      "fizz\n",
      "4\n",
      "buzz\n",
      "fizz\n",
      "7\n",
      "8\n",
      "fizz\n",
      "buzz\n",
      "11\n",
      "fizz\n",
      "13\n",
      "14\n",
      "fizzbuzz\n",
      "16\n",
      "17\n",
      "fizz\n",
      "19\n",
      "buzz\n",
      "fizz\n",
      "22\n",
      "23\n",
      "fizz\n",
      "buzz\n",
      "26\n",
      "fizz\n",
      "28\n",
      "29\n",
      "fizzbuzz\n",
      "31\n",
      "32\n",
      "fizz\n",
      "34\n",
      "buzz\n",
      "fizz\n",
      "37\n",
      "38\n",
      "fizz\n",
      "buzz\n",
      "41\n",
      "fizz\n",
      "43\n",
      "44\n",
      "fizzbuzz\n",
      "46\n",
      "47\n",
      "fizz\n",
      "49\n",
      "buzz\n",
      "fizz\n",
      "52\n",
      "53\n",
      "fizz\n",
      "buzz\n",
      "56\n",
      "fizz\n",
      "58\n",
      "59\n",
      "fizzbuzz\n",
      "61\n",
      "62\n",
      "fizz\n",
      "64\n",
      "buzz\n",
      "fizz\n",
      "67\n",
      "68\n",
      "fizz\n",
      "buzz\n",
      "71\n",
      "fizz\n",
      "73\n",
      "74\n",
      "fizzbuzz\n",
      "76\n",
      "77\n",
      "fizz\n",
      "79\n",
      "buzz\n",
      "fizz\n",
      "82\n",
      "83\n",
      "fizz\n",
      "buzz\n",
      "86\n",
      "fizz\n",
      "88\n",
      "89\n",
      "fizzbuzz\n",
      "91\n",
      "92\n",
      "fizz\n",
      "94\n",
      "buzz\n",
      "fizz\n",
      "97\n",
      "98\n",
      "fizz\n",
      "buzz\n"
     ]
    }
   ],
   "source": [
    "for i in range(1,101):\n",
    "    \n",
    "    if (i%3==0) and (i%5==0):\n",
    "        print('fizzbuzz')\n",
    "    elif (i%5==0):\n",
    "        print('buzz')\n",
    "    elif (i%3==0):\n",
    "        print('fizz')\n",
    "    else:\n",
    "        print(i)"
   ]
  },
  {
   "cell_type": "markdown",
   "metadata": {},
   "source": [
    "---\n",
    "## <font color='red'> Now you try\n",
    "\n",
    "Let's go back to our compound interest formula:\n",
    "\n",
    "$$TV = PV(1+r)^n$$\n",
    "\n",
    "Where\n",
    "\n",
    "$TV$ is the final value of the investment\n",
    "\n",
    "$PV$ is the initial investment\n",
    "\n",
    "$r$ is the interest rate per year \n",
    "\n",
    "$n$ is the number of years\n",
    "\n",
    "Suppose we'd like to know for how many years we have to keep 100 pounds on a savings account to reach 200 pounds simply due to annual payment of interest at a rate of 5%. Write code using a ``while`` loop to show that this will take 15 years.\n",
    "\n",
    "---"
   ]
  },
  {
   "cell_type": "code",
   "execution_count": 84,
   "metadata": {},
   "outputs": [
    {
     "name": "stdout",
     "output_type": "stream",
     "text": [
      "after  1  years the value of the investment will be  105.0\n",
      "after  2  years the value of the investment will be  110.25\n",
      "after  3  years the value of the investment will be  115.76250000000002\n",
      "after  4  years the value of the investment will be  121.55062500000003\n",
      "after  5  years the value of the investment will be  127.62815625000003\n",
      "after  6  years the value of the investment will be  134.00956406250003\n",
      "after  7  years the value of the investment will be  140.71004226562505\n",
      "after  8  years the value of the investment will be  147.7455443789063\n",
      "after  9  years the value of the investment will be  155.13282159785163\n",
      "after  10  years the value of the investment will be  162.8894626777442\n",
      "after  11  years the value of the investment will be  171.0339358116314\n",
      "after  12  years the value of the investment will be  179.585632602213\n",
      "after  13  years the value of the investment will be  188.56491423232367\n",
      "after  14  years the value of the investment will be  197.99315994393987\n",
      "after  15  years the value of the investment will be  207.89281794113688\n"
     ]
    }
   ],
   "source": [
    "PV = 100\n",
    "TV = 100\n",
    "n = 1\n",
    "r = 0.05\n",
    "\n",
    "while(TV<200):\n",
    "\n",
    "    TV = PV*(1+r)**n\n",
    "    print(\"after \",str(n),\" years the value of the investment will be \", str(TV))\n",
    "    n = n+1\n",
    "    "
   ]
  }
 ],
 "metadata": {
  "colab": {
   "name": "intro_to_python.ipynb",
   "provenance": []
  },
  "kernelspec": {
   "display_name": "Python 3",
   "language": "python",
   "name": "python3"
  },
  "language_info": {
   "codemirror_mode": {
    "name": "ipython",
    "version": 3
   },
   "file_extension": ".py",
   "mimetype": "text/x-python",
   "name": "python",
   "nbconvert_exporter": "python",
   "pygments_lexer": "ipython3",
   "version": "3.7.4"
  }
 },
 "nbformat": 4,
 "nbformat_minor": 1
}
